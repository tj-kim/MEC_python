{
 "cells": [
  {
   "cell_type": "markdown",
   "metadata": {},
   "source": [
    "# One Data Extract\n",
    "\n",
    "TJ Kim\n",
    "8/5/20\n",
    "\n",
    "Extract from csv file ONE SIMULATOR data and group mobility.\n",
    "\n",
    "The columns are as follows [time (s), node id (int), x coor (meter), y coor(meters), z coor (meters)]\n",
    "\n",
    "The simulation takes place in a x=3925m and y = 2750m space.\n",
    "\n",
    "The goal is to extract these columns per user and apply to stochastic movement."
   ]
  },
  {
   "cell_type": "code",
   "execution_count": 84,
   "metadata": {},
   "outputs": [],
   "source": [
    "import numpy as np\n",
    "\n",
    "# Import Data and eliminate z axis\n",
    "one_sim_data = np.genfromtxt('ONE_SIM.csv', delimiter=',')\n",
    "one_sim_data = one_sim_data[:,:4]\n",
    "\n",
    "# Data polishing\n",
    "meter2mile = 0.000621371\n",
    "# Convert Time from seconds --> 5 min intervals\n",
    "one_sim_data[:,0] *= (1/300)\n",
    "one_sim_data[:,0] = np.floor(one_sim_data[:,0])\n",
    "# Convert distance from meters --> Miles\n",
    "one_sim_data[:,2] *= meter2mile\n",
    "one_sim_data[:,3] *= meter2mile\n",
    "\n",
    "# Data Dividing and sampling\n",
    "ids = one_sim_data[:,1]\n",
    "unique_ids = np.unique(ids) \n",
    "\n",
    "one_users = {}\n",
    "for idx in unique_ids:\n",
    "    # Take id locations and take out relevant id data\n",
    "    curr_locs = np.where(ids == idx)[0]\n",
    "    start_loc, end_loc = curr_locs[0], curr_locs[-1]\n",
    "    one_sim_data_u = one_sim_data[start_loc:end_loc,:]\n",
    "    \n",
    "    # Sampling (time seems to go from zero to 36)\n",
    "    times = np.arange(0,37)\n",
    "    sampled_data = np.zeros((times.shape[0],5))\n",
    "    \n",
    "    for t in times:\n",
    "        # print(\"idx,t\", idx, t)\n",
    "        curr_time_loc = np.where(one_sim_data_u == t)[0]\n",
    "        if curr_time_loc.size != 0:\n",
    "            sampled_data[t,0:4] = one_sim_data_u[curr_time_loc[0],:]\n",
    "        else:\n",
    "            sampled_data[t,0:4] = sampled_data[t-1,0:4]\n",
    "            sampled_data[t,0] = t\n",
    "            \n",
    "        # Find mean displacement from prev step\n",
    "        if t > 0:\n",
    "            curr_loc = sampled_data[t,2:4]\n",
    "            prev_loc = sampled_data[t-1,2:4]\n",
    "            diff = curr_loc - prev_loc\n",
    "            summed = np.sqrt(diff[0]**2 + diff[1]**2)\n",
    "            sampled_data[t,4] = summed\n",
    "    \n",
    "    one_users[idx] = sampled_data\n",
    "\n",
    "mean_spd_list = []\n",
    "for key in one_users:\n",
    "    usr = one_users[key]\n",
    "    mean_spd_list += [np.mean(usr[:,4])*12]"
   ]
  },
  {
   "cell_type": "code",
   "execution_count": 85,
   "metadata": {},
   "outputs": [],
   "source": []
  },
  {
   "cell_type": "code",
   "execution_count": null,
   "metadata": {},
   "outputs": [],
   "source": []
  }
 ],
 "metadata": {
  "kernelspec": {
   "display_name": "Python 3",
   "language": "python",
   "name": "python3"
  },
  "language_info": {
   "codemirror_mode": {
    "name": "ipython",
    "version": 3
   },
   "file_extension": ".py",
   "mimetype": "text/x-python",
   "name": "python",
   "nbconvert_exporter": "python",
   "pygments_lexer": "ipython3",
   "version": "3.7.4"
  }
 },
 "nbformat": 4,
 "nbformat_minor": 2
}
