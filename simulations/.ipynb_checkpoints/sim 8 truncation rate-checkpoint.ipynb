{
 "cells": [
  {
   "cell_type": "markdown",
   "metadata": {},
   "source": [
    "# Simulation 8: Truncation Rate v Servers\n",
    "\n",
    "TJ Kim\n",
    "8/11/20\n",
    "\n",
    "Copy data from old matlab file and plot it."
   ]
  },
  {
   "cell_type": "code",
   "execution_count": 1,
   "metadata": {},
   "outputs": [],
   "source": [
    "# Collect the correct costs\n",
    "# Plot the plot\n",
    "import matplotlib\n",
    "import matplotlib.pyplot as plt"
   ]
  },
  {
   "cell_type": "markdown",
   "metadata": {},
   "source": [
    "### Make lists of the values"
   ]
  },
  {
   "cell_type": "code",
   "execution_count": 4,
   "metadata": {},
   "outputs": [],
   "source": [
    "timesteps_100 = [1,16,30]\n",
    "radius_100 = [30] * len(timesteps_100)\n",
    "\n",
    "timesteps_90 = [1,1.44,1.97,2.78,4,5.67,7.5,30]\n",
    "radius_90 = [16.2,19.6,22.9,26.1,28.4,30,30,30]\n",
    "\n",
    "timesteps_70 = [1, 1.71, 2.34, 3.32, 4.32, 5.4,7.11, 8.75, 10.7, 12.82, 15.2, 30]\n",
    "radius_70 = [8.24, 11.28, 14.7,17.9, 21.5, 24.2, 26.9, 28.2, 30, 30, 30, 30]\n",
    "\n",
    "timesteps_50 = [1.0, 1.47, 1.94, 2.68, 3.32, 4.12, 4.83, 5.80,\n",
    "               6.67, 7.58, 8.52, 9.26, 10.16, 11.4, 12.6, 14.3,\n",
    "               15.5, 16.6, 17.8, 18.9, 20.4, 30]\n",
    "radius_50 = [4.6, 6.53, 8.51, 10.6, 12.5, 14.4, 16.2, 17.6, 19.3,\n",
    "            21.0, 22.4, 23.8, 25.07, 26.3, 27.1, 27.7, 28.3, 28.7,\n",
    "            29.16, 29.42, 30, 30]"
   ]
  },
  {
   "cell_type": "code",
   "execution_count": 12,
   "metadata": {},
   "outputs": [
    {
     "data": {
      "text/plain": [
       "[<matplotlib.lines.Line2D at 0x7fc7ba90c450>]"
      ]
     },
     "execution_count": 12,
     "metadata": {},
     "output_type": "execute_result"
    },
    {
     "data": {
      "image/png": "[encoded data removed]",
      "text/plain": [
       "<Figure size 432x288 with 1 Axes>"
      ]
     },
     "metadata": {
      "needs_background": "light"
     },
     "output_type": "display_data"
    }
   ],
   "source": [
    "# Set Font Size Limitations\n",
    "font = {'family' : 'normal',\n",
    "        'weight' : 'normal',\n",
    "        'size'   : 15}\n",
    "\n",
    "matplotlib.rc('font', **font)\n",
    "\n",
    "plt.plot(timesteps_100, radius_100, 'b-', label = 'Radius = 1')\n",
    "plt.plot(timesteps_90, radius_90, 'r--', label = 'Radius = 0.9')\n",
    "plt.plot(timesteps_70, radius_70, 'y--', label = 'Radius = 0.7')\n",
    "plt.plot(timesteps_50, radius_50, 'g-', label = 'Radius = 0.5')\n",
    "\n",
    "plt.legend()\n",
    "\n",
    "plt.title('Servers and Truncation Rate Over Time')\n",
    "plt.xlabel('Time Step')\n",
    "plt.ylabel('Servers Available')"
   ]
  },
  {
   "cell_type": "code",
   "execution_count": null,
   "metadata": {},
   "outputs": [],
   "source": []
  }
 ],
 "metadata": {
  "kernelspec": {
   "display_name": "Python 3",
   "language": "python",
   "name": "python3"
  },
  "language_info": {
   "codemirror_mode": {
    "name": "ipython",
    "version": 3
   },
   "file_extension": ".py",
   "mimetype": "text/x-python",
   "name": "python",
   "nbconvert_exporter": "python",
   "pygments_lexer": "ipython3",
   "version": "3.7.4"
  }
 },
 "nbformat": 4,
 "nbformat_minor": 2
}
