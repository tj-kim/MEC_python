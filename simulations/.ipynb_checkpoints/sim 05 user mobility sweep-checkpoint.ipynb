{
 "cells": [
  {
   "cell_type": "markdown",
   "metadata": {},
   "source": [
    "# Simulation 5: User Mobility Vs Num Migrations\n",
    "\n",
    "TJ Kim\n",
    "8/10/20\n",
    "\n",
    "Run the second simulation with the following considerations.\n",
    "\n",
    "- 12 users, 8 servers, 12 timesteps\n",
    "- Use synthetic traces\n",
    "- Job lengths: 12 ts\n",
    "- Random New generation every time\n",
    "\n",
    "Resources: Ample"
   ]
  },
  {
   "cell_type": "code",
   "execution_count": 1,
   "metadata": {},
   "outputs": [],
   "source": [
    "from IPython.core.debugger import set_trace\n",
    "\n",
    "# Import Generic Classes\n",
    "import numpy as np\n",
    "import copy\n",
    "import pickle\n",
    "import random\n",
    "import itertools\n",
    "\n",
    "# Import All Custom Classes\n",
    "import os, sys\n",
    "sys.path.append(os.path.pardir+\"/classes\")\n",
    "sys.path.append(os.path.pardir+\"/solvers\")\n",
    "sys.path.append(os.path.pardir+\"/one_mobility\")\n",
    "sys.path.append(os.path.curdir + \"/sim_store/sim5\")\n",
    "\n",
    "\n",
    "from Server import *\n",
    "from User import *\n",
    "from Link import *\n",
    "from Job import *\n",
    "from Migration_Plans import *\n",
    "from Cost_Recordings import *\n",
    "\n",
    "from sim5_setting import *\n",
    "\n",
    "# Import Solver Classes\n",
    "from Optim_PlanGenerator import *\n",
    "from SeqGreedy_PlanGenerator import *\n",
    "from Myopic_PlanGenerator import *\n",
    "from Naive_PlanGenerator import *"
   ]
  },
  {
   "cell_type": "markdown",
   "metadata": {},
   "source": [
    "### Set user movement magnitude settings\n",
    "\n",
    "This is the magnitude they move in.\n",
    "We will also sweep batch rate."
   ]
  },
  {
   "cell_type": "code",
   "execution_count": 2,
   "metadata": {},
   "outputs": [],
   "source": [
    "batch_settings = [0,3,6]\n",
    "mvmt_mag_settings = [1/0.1,1/0.3,1/0.5,1/1,1/2,1/3]\n",
    "batch_mig_stores = {}\n",
    "for val in batch_settings:\n",
    "    for mvmt in mvmt_mag_settings:\n",
    "        batch_mig_stores[(mvmt,val)] = []"
   ]
  },
  {
   "cell_type": "markdown",
   "metadata": {},
   "source": [
    "### Run 10 trials each for each setting"
   ]
  },
  {
   "cell_type": "code",
   "execution_count": null,
   "metadata": {},
   "outputs": [
    {
     "name": "stdout",
     "output_type": "stream",
     "text": [
      "trial, batch_val, mag: 0 0 10.0\n",
      "trial, batch_val, mag: 0 0 3.3333333333333335\n",
      "trial, batch_val, mag: 0 0 2.0\n",
      "trial, batch_val, mag: 0 0 1.0\n",
      "trial, batch_val, mag: 0 0 0.3333333333333333\n",
      "trial, batch_val, mag: 0 3 10.0\n",
      "trial, batch_val, mag: 0 3 3.3333333333333335\n",
      "trial, batch_val, mag: 0 3 2.0\n",
      "trial, batch_val, mag: 0 3 1.0\n",
      "trial, batch_val, mag: 0 3 0.3333333333333333\n",
      "trial, batch_val, mag: 0 6 10.0\n",
      "trial, batch_val, mag: 0 6 3.3333333333333335\n",
      "trial, batch_val, mag: 0 6 2.0\n",
      "trial, batch_val, mag: 0 6 1.0\n",
      "trial, batch_val, mag: 0 6 0.3333333333333333\n",
      "trial, batch_val, mag: 1 0 10.0\n",
      "trial, batch_val, mag: 1 0 3.3333333333333335\n"
     ]
    }
   ],
   "source": [
    "num_trial = 2\n",
    "key = \"mig_rate\"\n",
    "\n",
    "for (i,batch_val, mvmt_mag) in itertools.product(range(num_trial),batch_settings,mvmt_mag_settings):\n",
    "    print(\"trial, batch_val, mag:\",i,batch_val,mvmt_mag)\n",
    "    users, servers, links, jobs, sim_param = simulation_setting(mvmt_mag,batch_val)\n",
    "    \n",
    "    Batch_prob = SeqGreedy_PlanGenerator(users, servers, links, jobs, sim_param)\n",
    "    Batch_plan = Migration_Plans(users,jobs,sim_param)\n",
    "    Batch_plan.from_seq_greedy(Batch_prob)\n",
    "    \n",
    "    num_mig_cumul = 0\n",
    "    \n",
    "    for u in range(len(jobs)):\n",
    "        num_mig_cumul += np.sum(Batch_plan.mig_plan_dict[u][key])\n",
    "    \n",
    "    batch_mig_stores[(mvmt_mag,batch_val)] += [num_mig_cumul]"
   ]
  },
  {
   "cell_type": "markdown",
   "metadata": {},
   "source": [
    "### Process the Data\n",
    "\n",
    "Organize each into a line to be plotted in terms of what batch group they were in. Each line sweeps across mig mvmt value.\n",
    "\n",
    "Theoretically, batch 3 --> batch 6 --> batch 12 should the the descending order of migration rate. Migration rate should also climb as we go to higher user magnitudes."
   ]
  },
  {
   "cell_type": "code",
   "execution_count": null,
   "metadata": {},
   "outputs": [],
   "source": [
    "batch_0_migs = []\n",
    "batch_3_migs = []\n",
    "batch_6_migs = []\n",
    "\n",
    "for (batch_val, mvmt_mag) in itertools.product(batch_settings,mvmt_mag_settings):\n",
    "    if batch_val == 0:\n",
    "        batch_0_migs += [np.mean(batch_mig_stores[mvmt_mag,batch_val])]\n",
    "    elif batch_val == 3:\n",
    "        batch_3_migs += [np.mean(batch_mig_stores[mvmt_mag,batch_val])]\n",
    "    elif batch_val == 6:\n",
    "        batch_6_migs += [np.mean(batch_mig_stores[mvmt_mag,batch_val])]\n"
   ]
  },
  {
   "cell_type": "code",
   "execution_count": null,
   "metadata": {},
   "outputs": [],
   "source": [
    "# Collect the correct costs\n",
    "# Plot the plot\n",
    "import matplotlib\n",
    "import matplotlib.pyplot as plt\n",
    "from matplotlib.pyplot import figure\n",
    "\n",
    "# Set Font Size Limitations\n",
    "font = {'family' : 'normal',\n",
    "        'weight' : 'normal',\n",
    "        'size'   : 16}\n",
    "\n",
    "matplotlib.rc('font', **font)\n",
    "figure(num=None, figsize=(5.5, 2.5), dpi=80, facecolor='w', edgecolor='k')\n",
    "\n",
    "x_ax = np.divide(1,mvmt_mag_settings)\n",
    "\n",
    "SG2 = [0.1,0.4,1,1.5,2.5,3.2]\n",
    "B3 = [0.3,0.7,1.6,1.9,3.2,4]\n",
    "B6 = [0.3,0.4,1.1,2.0,2.7,3.4]\n",
    "\n",
    "# plt.plot(x_ax, SG2, 'r--', label = 'Seq Greedy')\n",
    "# plt.plot(x_ax, B6, 'g-x', label = 'Batch size 6')\n",
    "# plt.plot(x_ax, B3, 'b-o', label = 'Batch size 3')\n",
    "\n",
    "plt.plot(x_ax, np.multiply(batch_0_migs,1/len(jobs)), 'r--', label = 'Seq Greedy')\n",
    "plt.plot(x_ax, np.multiply(batch_6_migs,1/len(jobs)), 'g-x', label = 'Batch size 6')\n",
    "plt.plot(x_ax, np.multiply(batch_3_migs,1/len(jobs)), 'b-o', label = 'Batch size 3')\n",
    "plt.xticks(x_ax)\n",
    "#plt.xscale('log')\n",
    "plt.legend(loc = 'upper left')\n",
    "\n",
    "plt.title('Migration and Movement')\n",
    "plt.xlabel('Average Movement per Time Step (miles)')\n",
    "plt.ylabel('Migrations Per User')"
   ]
  },
  {
   "cell_type": "code",
   "execution_count": null,
   "metadata": {},
   "outputs": [],
   "source": [
    "matplotlib.rc('font', **font)\n",
    "figure(num=None, figsize=(5.5, 3.5), dpi=80, facecolor='w', edgecolor='k')\n",
    "\n",
    "plt.plot(x_ax[:-1], np.multiply(batch_0_migs[:-1],1/len(jobs)), 'r--', label = 'Seq Greedy')\n",
    "plt.plot(x_ax[:-1], np.multiply(batch_6_migs[:-1],1/len(jobs)), 'g-x', label = 'Batch size 6')\n",
    "plt.plot(x_ax[:-1], np.multiply(batch_3_migs[:-1],1/len(jobs)), 'b-o', label = 'Batch size 3')\n",
    "plt.xticks(x_ax)\n",
    "plt.xscale('log')\n",
    "plt.legend(loc = 'upper left')\n",
    "\n",
    "plt.title('Migration and Movement')\n",
    "plt.xlabel('Average Movement per Time Step (miles)')\n",
    "plt.ylabel('Migrations Per User')"
   ]
  },
  {
   "cell_type": "code",
   "execution_count": null,
   "metadata": {},
   "outputs": [],
   "source": []
  }
 ],
 "metadata": {
  "kernelspec": {
   "display_name": "Python 3",
   "language": "python",
   "name": "python3"
  },
  "language_info": {
   "codemirror_mode": {
    "name": "ipython",
    "version": 3
   },
   "file_extension": ".py",
   "mimetype": "text/x-python",
   "name": "python",
   "nbconvert_exporter": "python",
   "pygments_lexer": "ipython3",
   "version": "3.8.3"
  }
 },
 "nbformat": 4,
 "nbformat_minor": 2
}
