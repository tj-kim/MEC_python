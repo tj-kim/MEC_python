{
 "cells": [
  {
   "cell_type": "markdown",
   "metadata": {},
   "source": [
    "# Simulation 4: Batch Size Sweep\n",
    "\n",
    "TJ Kim\n",
    "8/8/20\n",
    "\n",
    "Find performance based on batch size:\n",
    "- 15 users, 8 servers, 16 ts\n",
    "- Jobs last entire duration\n",
    "- Resources, limited\n",
    "\n",
    "Batch sizes to sweep:\n",
    "- 1,2,4,6,8,12,16"
   ]
  },
  {
   "cell_type": "code",
   "execution_count": 1,
   "metadata": {},
   "outputs": [],
   "source": [
    "from IPython.core.debugger import set_trace\n",
    "\n",
    "# Import Generic Classes\n",
    "import numpy as np\n",
    "import copy\n",
    "import pickle\n",
    "import random\n",
    "\n",
    "# Import All Custom Classes\n",
    "import os, sys\n",
    "sys.path.append(os.path.pardir+\"/classes\")\n",
    "sys.path.append(os.path.pardir+\"/solvers\")\n",
    "sys.path.append(os.path.pardir+\"/one_mobility\")\n",
    "sys.path.append(os.path.curdir + \"/sim_store/sim4\")\n",
    "\n",
    "\n",
    "from Server import *\n",
    "from User import *\n",
    "from Link import *\n",
    "from Job import *\n",
    "from Migration_Plans import *\n",
    "from Cost_Recordings import *\n",
    "\n",
    "from sim4_setting import *\n",
    "\n",
    "# Import Solver Classes\n",
    "from Optim_PlanGenerator import *\n",
    "from SeqGreedy_PlanGenerator import *\n",
    "from Myopic_PlanGenerator import *\n",
    "from Naive_PlanGenerator import *"
   ]
  },
  {
   "cell_type": "markdown",
   "metadata": {},
   "source": [
    "### Run Simulations\n",
    "\n",
    "First set batch settings and num trials."
   ]
  },
  {
   "cell_type": "code",
   "execution_count": 2,
   "metadata": {},
   "outputs": [],
   "source": [
    "batch_settings = [1,2,4,6,8,12,16]\n",
    "batch_cost_stores = {}\n",
    "for val in batch_settings:\n",
    "    batch_cost_stores[val] = []"
   ]
  },
  {
   "cell_type": "code",
   "execution_count": null,
   "metadata": {},
   "outputs": [],
   "source": [
    "num_trials = 5\n",
    "\n",
    "for i in range(num_trials):\n",
    "    print(\"Trial Number:\",i)\n",
    "    \n",
    "    # Make Users shared amongst all batch values\n",
    "    users, servers, links, jobs, sim_param = simulation_setting()\n",
    "    \n",
    "    for val in batch_settings:\n",
    "        print(\"batch val:\",val)\n",
    "\n",
    "        refresh_rate = [val,0]\n",
    "        refresh = True\n",
    "\n",
    "        for j in range(len(jobs)):\n",
    "            jobs[j].info_from_usr(users[j],refresh_rate,refresh)\n",
    "\n",
    "        # Make Batch Prob\n",
    "        \n",
    "        print(\"batch_prob...\")\n",
    "        Batch_prob = SeqGreedy_PlanGenerator(users, servers, links, jobs, sim_param)\n",
    "        Batch_plan = Migration_Plans(users,jobs,sim_param)\n",
    "        Batch_plan.from_seq_greedy(Batch_prob)\n",
    "        batch_cost_stores[val] += [Cost_Recordings(Batch_plan)]\n",
    "        print(\"done!\")"
   ]
  }
 ],
 "metadata": {
  "kernelspec": {
   "display_name": "Python 3",
   "language": "python",
   "name": "python3"
  },
  "language_info": {
   "codemirror_mode": {
    "name": "ipython",
    "version": 3
   },
   "file_extension": ".py",
   "mimetype": "text/x-python",
   "name": "python",
   "nbconvert_exporter": "python",
   "pygments_lexer": "ipython3",
   "version": "3.7.4"
  }
 },
 "nbformat": 4,
 "nbformat_minor": 2
}
