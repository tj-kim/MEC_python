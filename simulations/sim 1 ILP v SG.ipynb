{
 "cells": [
  {
   "cell_type": "markdown",
   "metadata": {},
   "source": [
    "# Simulation 1: ILP vs. SG\n",
    "\n",
    "TJ Kim\n",
    "8/7/20\n",
    "\n",
    "Run the first simulation with the following considerations.\n",
    "\n",
    "- 5 Servers, 5 TS, 6 Users\n",
    "- Use ONE-mobility\n",
    "- Servers have limited resources, links have high resources\n",
    "- All jobs are 5 TS long\n",
    "- We share the same users and jobs\n",
    "\n",
    "Resources: Limited\n",
    "- All jobs are run with standard Quantity\n",
    "- All servers are level 2\n",
    "- Cores have been tweaked to [3,5] at all servers"
   ]
  },
  {
   "cell_type": "code",
   "execution_count": 1,
   "metadata": {},
   "outputs": [],
   "source": [
    "from IPython.core.debugger import set_trace\n",
    "\n",
    "# Import Generic Classes\n",
    "import numpy as np\n",
    "import copy\n",
    "import pickle\n",
    "import random\n",
    "\n",
    "# Import All Custom Classes\n",
    "import os, sys\n",
    "sys.path.append(os.path.pardir+\"/classes\")\n",
    "sys.path.append(os.path.pardir+\"/solvers\")\n",
    "sys.path.append(os.path.pardir+\"/one_mobility\")\n",
    "sys.path.append(os.path.curdir+\"/sim_store/sim1\")\n",
    "\n",
    "\n",
    "from Server import *\n",
    "from User import *\n",
    "from Link import *\n",
    "from Job import *\n",
    "from Migration_Plans import *\n",
    "from Cost_Recordings import *\n",
    "\n",
    "from sim1_setting import *\n",
    "\n",
    "# Import Solver Classes\n",
    "from Optim_PlanGenerator import *\n",
    "from SeqGreedy_PlanGenerator import *\n",
    "from Myopic_PlanGenerator import *\n",
    "from Naive_PlanGenerator import *"
   ]
  },
  {
   "cell_type": "markdown",
   "metadata": {},
   "source": [
    "### Run 10 Trials\n",
    "\n",
    "Iteratively run trials x 10 and store the cost data for each the ILP and the SG models."
   ]
  },
  {
   "cell_type": "code",
   "execution_count": 11,
   "metadata": {},
   "outputs": [
    {
     "name": "stdout",
     "output_type": "stream",
     "text": [
      "Trial Number: 0\n",
      "Generating Optim_Prob...\n",
      "Finished_Generating_prob...\n",
      "Status: Optimal\n"
     ]
    }
   ],
   "source": [
    "num_trials = 1\n",
    "# ILP_cost_stores = []\n",
    "# SG_cost_stores = []\n",
    "\n",
    "for i in range(num_trials):\n",
    "    \n",
    "    print(\"Trial Number:\",i)\n",
    "    \n",
    "    # Make Users\n",
    "    users, servers, links, jobs, sim_param = simulation_setting()\n",
    "    \n",
    "    # Make ILP and Optim Prob\n",
    "    print(\"Generating Optim_Prob...\")\n",
    "    optim_prob = Optim_PlanGenerator(users, servers, links, jobs, sim_param)\n",
    "    print(\"Finished_Generating_prob...\")\n",
    "    \n",
    "    # Solve the problem and get the migration plan \n",
    "    optim_prob.prob.solve()\n",
    "    print(\"Status:\", constants.LpStatus[optim_prob.prob.status])\n",
    "    ILP_mig_plan = Migration_Plans(users, jobs, sim_param) \n",
    "    ILP_mig_plan.from_ILP(optim_prob)\n",
    "    \n",
    "    ILP_cost_stores += [Cost_Recordings(ILP_mig_plan)]\n",
    "    \n",
    "    \n",
    "    # Make SG Prob\n",
    "    SG_prob = SeqGreedy_PlanGenerator(users, servers, links, jobs, sim_param)\n",
    "    SG_plan = Migration_Plans(users,jobs,sim_param)\n",
    "    SG_plan.from_seq_greedy(SG_prob)\n",
    "    \n",
    "    SG_cost_stores += [Cost_Recordings(SG_plan)]"
   ]
  },
  {
   "cell_type": "markdown",
   "metadata": {},
   "source": [
    "### Plot the average or total cost and subcost\n",
    "\n",
    "8 bars in total one for ILP one for SG\n",
    "- Total Cost\n",
    "- Placement cost\n",
    "- Bandwidth Cost\n",
    "- User Experience Cost"
   ]
  },
  {
   "cell_type": "code",
   "execution_count": 14,
   "metadata": {},
   "outputs": [],
   "source": [
    "num_trials = len(ILP_cost_stores)\n",
    "\n",
    "# Log the costs of interest\n",
    "ILP_total_sum = np.zeros(num_trials)\n",
    "ILP_placement_sum = np.zeros(num_trials)\n",
    "ILP_bw_sum = np.zeros(num_trials)\n",
    "ILP_UE_sum = np.zeros(num_trials)\n",
    "\n",
    "SG_total_sum = np.zeros(num_trials)\n",
    "SG_placement_sum = np.zeros(num_trials)\n",
    "SG_bw_sum = np.zeros(num_trials)\n",
    "SG_UE_sum = np.zeros(num_trials)\n",
    "\n",
    "for i in range(num_trials):\n",
    "    ILP_total_sum[i] += ILP_cost_stores[i].all_cost_cumulative[\"total_cost\"][-1]\n",
    "    ILP_placement_sum[i] += ILP_cost_stores[i].all_cost_cumulative[\"placement_cost\"][-1]\n",
    "    ILP_bw_sum[i] += ILP_cost_stores[i].all_cost_cumulative[\"srv_bw_cost\"][-1]\n",
    "    ILP_bw_sum[i] += ILP_cost_stores[i].all_cost_cumulative[\"mig_bw_cost\"][-1]\n",
    "    ILP_UE_sum[i] += ILP_cost_stores[i].all_cost_cumulative[\"thruput_cost\"][-1]\n",
    "    ILP_UE_sum[i] += ILP_cost_stores[i].all_cost_cumulative[\"latency_cost\"][-1]\n",
    "    \n",
    "    SG_total_sum[i] += SG_cost_stores[i].all_cost_cumulative[\"total_cost\"][-1]\n",
    "    SG_placement_sum[i] += SG_cost_stores[i].all_cost_cumulative[\"placement_cost\"][-1]\n",
    "    SG_bw_sum[i] += SG_cost_stores[i].all_cost_cumulative[\"srv_bw_cost\"][-1]\n",
    "    SG_bw_sum[i] += SG_cost_stores[i].all_cost_cumulative[\"mig_bw_cost\"][-1]\n",
    "    SG_UE_sum[i] += SG_cost_stores[i].all_cost_cumulative[\"thruput_cost\"][-1]\n",
    "    SG_UE_sum[i] += SG_cost_stores[i].all_cost_cumulative[\"latency_cost\"][-1]\n",
    "\n"
   ]
  },
  {
   "cell_type": "code",
   "execution_count": 15,
   "metadata": {},
   "outputs": [
    {
     "data": {
      "image/png": "[encoded data removed]",
      "text/plain": [
       "<Figure size 432x288 with 1 Axes>"
      ]
     },
     "metadata": {
      "needs_background": "light"
     },
     "output_type": "display_data"
    }
   ],
   "source": [
    "# Plot the plot\n",
    "import matplotlib\n",
    "import matplotlib.pyplot as plt\n",
    "\n",
    "# Set Font Size Limitations\n",
    "font = {'family' : 'normal',\n",
    "        'weight' : 'normal',\n",
    "        'size'   : 15}\n",
    "\n",
    "matplotlib.rc('font', **font)\n",
    "\n",
    "# Set Labels\n",
    "labels = ['Total', 'Placement', 'BW', 'UE']\n",
    "\n",
    "# Obtain Values to Plot\n",
    "ILP_means = [np.mean(ILP_total_sum), np.mean(ILP_placement_sum), np.mean(ILP_bw_sum), np.mean(ILP_UE_sum)]\n",
    "SG_means = [np.mean(SG_total_sum), np.mean(SG_placement_sum), np.mean(SG_bw_sum), np.mean(SG_UE_sum)]\n",
    "\n",
    "ILP_vars = [np.std(ILP_total_sum), np.std(ILP_placement_sum), np.std(ILP_bw_sum), np.std(ILP_UE_sum)]\n",
    "SG_vars = [np.std(SG_total_sum), np.std(SG_placement_sum), np.std(SG_bw_sum), np.std(SG_UE_sum)]\n",
    "\n",
    "x = np.arange(len(labels))  # the label locations\n",
    "width = 0.35  # the width of the bars\n",
    "\n",
    "fig, ax = plt.subplots()\n",
    "rects1 = ax.bar(x = x - width/2, height =  ILP_means, yerr = ILP_vars,\n",
    "                capsize = 5, width = width, label='ILP', color='b')\n",
    "rects2 = ax.bar(x = x + width/2, height = SG_means, yerr = SG_vars, \n",
    "                capsize = 5, width = width, label='Seq-Greedy', color = 'y')\n",
    "\n",
    "# Add some text for labels, title and custom x-axis tick labels, etc.\n",
    "ax.set_ylabel('Monetary Cost (Dollars)')\n",
    "ax.set_title('ILP and Seq-Greedy Sub-Cost')\n",
    "ax.set_xticks(x)\n",
    "ax.set_xticklabels(labels)\n",
    "ax.legend()\n",
    "\n",
    "# Set Y axis to zero\n",
    "plt.ylim(0,)\n",
    "\n",
    "fig.tight_layout()\n",
    "\n",
    "plt.show()"
   ]
  },
  {
   "cell_type": "markdown",
   "metadata": {},
   "source": [
    "### Pickle Result for Reproduction"
   ]
  },
  {
   "cell_type": "code",
   "execution_count": 16,
   "metadata": {},
   "outputs": [],
   "source": [
    "import pickle\n",
    "\n",
    "cost_stores_dic = {}\n",
    "cost_stores_dic[\"SG\"] = SG_cost_stores\n",
    "cost_stores_dic[\"ILP\"] = ILP_cost_stores\n",
    "\n",
    "pickle.dump(cost_stores_dic, open(os.path.curdir + \"/sim_store/sim1/cost_store.p\", \"wb\" ) )\n",
    "\n"
   ]
  },
  {
   "cell_type": "code",
   "execution_count": null,
   "metadata": {},
   "outputs": [],
   "source": []
  }
 ],
 "metadata": {
  "kernelspec": {
   "display_name": "Python 3",
   "language": "python",
   "name": "python3"
  },
  "language_info": {
   "codemirror_mode": {
    "name": "ipython",
    "version": 3
   },
   "file_extension": ".py",
   "mimetype": "text/x-python",
   "name": "python",
   "nbconvert_exporter": "python",
   "pygments_lexer": "ipython3",
   "version": "3.7.4"
  }
 },
 "nbformat": 4,
 "nbformat_minor": 2
}
