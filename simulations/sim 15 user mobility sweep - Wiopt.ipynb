{
 "cells": [
  {
   "cell_type": "markdown",
   "metadata": {},
   "source": [
    "# Simulation 5: User Mobility Vs Num Migrations\n",
    "\n",
    "TJ Kim\n",
    "4/25/21\n",
    "\n",
    "Run the second simulation with the following considerations.\n",
    "\n",
    "- 12 users, 8 servers, 12 timesteps\n",
    "- Use synthetic traces\n",
    "- Job lengths: 12 ts\n",
    "- Random New generation every time\n",
    "\n",
    "Resources: Ample"
   ]
  },
  {
   "cell_type": "code",
   "execution_count": 1,
   "metadata": {},
   "outputs": [],
   "source": [
    "from IPython.core.debugger import set_trace\n",
    "\n",
    "# Import Generic Classes\n",
    "import numpy as np\n",
    "import copy\n",
    "import pickle\n",
    "import random\n",
    "import itertools\n",
    "\n",
    "# Import All Custom Classes\n",
    "import os, sys\n",
    "sys.path.append(os.path.pardir+\"/classes\")\n",
    "sys.path.append(os.path.pardir+\"/solvers\")\n",
    "sys.path.append(os.path.pardir+\"/one_mobility\")\n",
    "sys.path.append(os.path.curdir + \"/sim_store/sim15\")\n",
    "sys.path.append(os.path.pardir+\"/crawdad_mobility\")\n",
    "\n",
    "\n",
    "from Server import *\n",
    "from User import *\n",
    "from Link import *\n",
    "from Job import *\n",
    "from Migration_Plans import *\n",
    "from Cost_Recordings import *\n",
    "\n",
    "from load_crawdad_usr import *\n",
    "\n",
    "from sim15_setting import *\n",
    "\n",
    "# Import Solver Classes\n",
    "from Optim_PlanGenerator import *\n",
    "from SeqGreedy_PlanGenerator import *\n",
    "from Myopic_PlanGenerator import *\n",
    "from Naive_PlanGenerator import *"
   ]
  },
  {
   "cell_type": "code",
   "execution_count": 2,
   "metadata": {},
   "outputs": [],
   "source": [
    "# Load Crawdad data\n",
    "# Load All 12 users and trim their info\n",
    "db_names = []\n",
    "for i in range(1,2):\n",
    "    db_names += ['LifeMap_GS'+str(i)+'.db']\n",
    "\n",
    "db = []\n",
    "for name in db_names:\n",
    "    name = '/home/tkim/CMU/MEC_research/crawdad_mobility/' + name\n",
    "    df,trace = load_usr(name)\n",
    "    db += [trace]"
   ]
  },
  {
   "cell_type": "markdown",
   "metadata": {},
   "source": [
    "### Set user movement magnitude settings\n",
    "\n",
    "This is the magnitude they move in.\n",
    "We will also sweep batch rate."
   ]
  },
  {
   "cell_type": "code",
   "execution_count": 3,
   "metadata": {},
   "outputs": [],
   "source": [
    "batch_settings = [0,3,6]\n",
    "mvmt_mag_settings = [1/0.05,1/0.1,1/0.3,1/0.5,1/1,1/3]\n",
    "batch_mig_stores = {}\n",
    "for val in batch_settings:\n",
    "    for mvmt in mvmt_mag_settings:\n",
    "        batch_mig_stores[(mvmt,val)] = []"
   ]
  },
  {
   "cell_type": "markdown",
   "metadata": {},
   "source": [
    "### Run 10 trials each for each setting\n"
   ]
  },
  {
   "cell_type": "code",
   "execution_count": 4,
   "metadata": {},
   "outputs": [
    {
     "name": "stdout",
     "output_type": "stream",
     "text": [
      "trial, batch_val, mag: 0 0 20.0\n",
      "trial, batch_val, mag: 0 0 10.0\n",
      "trial, batch_val, mag: 0 0 3.3333333333333335\n",
      "trial, batch_val, mag: 0 0 2.0\n",
      "trial, batch_val, mag: 0 0 1.0\n",
      "trial, batch_val, mag: 0 0 0.3333333333333333\n"
     ]
    },
    {
     "ename": "KeyboardInterrupt",
     "evalue": "",
     "output_type": "error",
     "traceback": [
      "\u001b[0;31m---------------------------------------------------------------------------\u001b[0m",
      "\u001b[0;31mKeyboardInterrupt\u001b[0m                         Traceback (most recent call last)",
      "\u001b[0;32m<ipython-input-4-fd1ea088518c>\u001b[0m in \u001b[0;36m<module>\u001b[0;34m\u001b[0m\n\u001b[1;32m      4\u001b[0m \u001b[0;32mfor\u001b[0m \u001b[0;34m(\u001b[0m\u001b[0mi\u001b[0m\u001b[0;34m,\u001b[0m\u001b[0mbatch_val\u001b[0m\u001b[0;34m,\u001b[0m \u001b[0mmvmt_mag\u001b[0m\u001b[0;34m)\u001b[0m \u001b[0;32min\u001b[0m \u001b[0mitertools\u001b[0m\u001b[0;34m.\u001b[0m\u001b[0mproduct\u001b[0m\u001b[0;34m(\u001b[0m\u001b[0mrange\u001b[0m\u001b[0;34m(\u001b[0m\u001b[0mnum_trial\u001b[0m\u001b[0;34m)\u001b[0m\u001b[0;34m,\u001b[0m\u001b[0mbatch_settings\u001b[0m\u001b[0;34m,\u001b[0m\u001b[0mmvmt_mag_settings\u001b[0m\u001b[0;34m)\u001b[0m\u001b[0;34m:\u001b[0m\u001b[0;34m\u001b[0m\u001b[0;34m\u001b[0m\u001b[0m\n\u001b[1;32m      5\u001b[0m     \u001b[0mprint\u001b[0m\u001b[0;34m(\u001b[0m\u001b[0;34m\"trial, batch_val, mag:\"\u001b[0m\u001b[0;34m,\u001b[0m\u001b[0mi\u001b[0m\u001b[0;34m,\u001b[0m\u001b[0mbatch_val\u001b[0m\u001b[0;34m,\u001b[0m\u001b[0mmvmt_mag\u001b[0m\u001b[0;34m)\u001b[0m\u001b[0;34m\u001b[0m\u001b[0;34m\u001b[0m\u001b[0m\n\u001b[0;32m----> 6\u001b[0;31m     \u001b[0musers\u001b[0m\u001b[0;34m,\u001b[0m \u001b[0mservers\u001b[0m\u001b[0;34m,\u001b[0m \u001b[0mlinks\u001b[0m\u001b[0;34m,\u001b[0m \u001b[0mjobs\u001b[0m\u001b[0;34m,\u001b[0m \u001b[0msim_param\u001b[0m \u001b[0;34m=\u001b[0m \u001b[0msimulation_setting\u001b[0m\u001b[0;34m(\u001b[0m\u001b[0mdb\u001b[0m\u001b[0;34m,\u001b[0m\u001b[0mmvmt_mag\u001b[0m\u001b[0;34m,\u001b[0m\u001b[0mbatch_val\u001b[0m\u001b[0;34m)\u001b[0m\u001b[0;34m\u001b[0m\u001b[0;34m\u001b[0m\u001b[0m\n\u001b[0m\u001b[1;32m      7\u001b[0m \u001b[0;34m\u001b[0m\u001b[0m\n\u001b[1;32m      8\u001b[0m     \u001b[0mBatch_prob\u001b[0m \u001b[0;34m=\u001b[0m \u001b[0mSeqGreedy_PlanGenerator\u001b[0m\u001b[0;34m(\u001b[0m\u001b[0musers\u001b[0m\u001b[0;34m,\u001b[0m \u001b[0mservers\u001b[0m\u001b[0;34m,\u001b[0m \u001b[0mlinks\u001b[0m\u001b[0;34m,\u001b[0m \u001b[0mjobs\u001b[0m\u001b[0;34m,\u001b[0m \u001b[0msim_param\u001b[0m\u001b[0;34m)\u001b[0m\u001b[0;34m\u001b[0m\u001b[0;34m\u001b[0m\u001b[0m\n",
      "\u001b[0;32m~/CMU/MEC_research/simulations/sim_store/sim15/sim15_setting.py\u001b[0m in \u001b[0;36msimulation_setting\u001b[0;34m(db, usr_lambda, batch_ts)\u001b[0m\n\u001b[1;32m    168\u001b[0m                 \u001b[0;31m# Take mean speed here:\u001b[0m\u001b[0;34m\u001b[0m\u001b[0;34m\u001b[0m\u001b[0;34m\u001b[0m\u001b[0m\n\u001b[1;32m    169\u001b[0m                 \u001b[0mnew_mvmt_array\u001b[0m \u001b[0;34m=\u001b[0m \u001b[0mdraw_ts\u001b[0m\u001b[0;34m(\u001b[0m\u001b[0mmvmt_array\u001b[0m\u001b[0;34m,\u001b[0m \u001b[0msim_param\u001b[0m\u001b[0;34m.\u001b[0m\u001b[0mtime_steps\u001b[0m\u001b[0;34m)\u001b[0m\u001b[0;34m\u001b[0m\u001b[0;34m\u001b[0m\u001b[0m\n\u001b[0;32m--> 170\u001b[0;31m                 \u001b[0mmean_spd\u001b[0m \u001b[0;34m=\u001b[0m \u001b[0mavg_speed\u001b[0m\u001b[0;34m(\u001b[0m\u001b[0mnew_mvmt_array\u001b[0m\u001b[0;34m)\u001b[0m\u001b[0;34m\u001b[0m\u001b[0;34m\u001b[0m\u001b[0m\n\u001b[0m\u001b[1;32m    171\u001b[0m                 \u001b[0mxmin\u001b[0m \u001b[0;34m=\u001b[0m \u001b[0mmin\u001b[0m\u001b[0;34m(\u001b[0m\u001b[0mnew_mvmt_array\u001b[0m\u001b[0;34m[\u001b[0m\u001b[0;34m:\u001b[0m\u001b[0;34m,\u001b[0m\u001b[0;36m0\u001b[0m\u001b[0;34m]\u001b[0m\u001b[0;34m)\u001b[0m\u001b[0;34m\u001b[0m\u001b[0;34m\u001b[0m\u001b[0m\n\u001b[1;32m    172\u001b[0m                 \u001b[0mxmax\u001b[0m \u001b[0;34m=\u001b[0m \u001b[0mmax\u001b[0m\u001b[0;34m(\u001b[0m\u001b[0mnew_mvmt_array\u001b[0m\u001b[0;34m[\u001b[0m\u001b[0;34m:\u001b[0m\u001b[0;34m,\u001b[0m\u001b[0;36m0\u001b[0m\u001b[0;34m]\u001b[0m\u001b[0;34m)\u001b[0m\u001b[0;34m\u001b[0m\u001b[0;34m\u001b[0m\u001b[0m\n",
      "\u001b[0;32m~/CMU/MEC_research/classes/User.py\u001b[0m in \u001b[0;36mavg_speed\u001b[0;34m(new_mvmt_array)\u001b[0m\n\u001b[1;32m    410\u001b[0m         \u001b[0mx1\u001b[0m\u001b[0;34m,\u001b[0m\u001b[0my1\u001b[0m \u001b[0;34m=\u001b[0m \u001b[0mnew_mvmt_array\u001b[0m\u001b[0;34m[\u001b[0m\u001b[0mi\u001b[0m\u001b[0;34m,\u001b[0m\u001b[0;36m0\u001b[0m\u001b[0;34m]\u001b[0m\u001b[0;34m,\u001b[0m \u001b[0mnew_mvmt_array\u001b[0m\u001b[0;34m[\u001b[0m\u001b[0mi\u001b[0m\u001b[0;34m,\u001b[0m\u001b[0;36m1\u001b[0m\u001b[0;34m]\u001b[0m\u001b[0;34m\u001b[0m\u001b[0;34m\u001b[0m\u001b[0m\n\u001b[1;32m    411\u001b[0m         \u001b[0mx2\u001b[0m\u001b[0;34m,\u001b[0m\u001b[0my2\u001b[0m \u001b[0;34m=\u001b[0m \u001b[0mnew_mvmt_array\u001b[0m\u001b[0;34m[\u001b[0m\u001b[0mi\u001b[0m\u001b[0;34m+\u001b[0m\u001b[0;36m1\u001b[0m\u001b[0;34m,\u001b[0m\u001b[0;36m0\u001b[0m\u001b[0;34m]\u001b[0m\u001b[0;34m,\u001b[0m \u001b[0mnew_mvmt_array\u001b[0m\u001b[0;34m[\u001b[0m\u001b[0mi\u001b[0m\u001b[0;34m+\u001b[0m\u001b[0;36m1\u001b[0m\u001b[0;34m,\u001b[0m\u001b[0;36m1\u001b[0m\u001b[0;34m]\u001b[0m\u001b[0;34m\u001b[0m\u001b[0;34m\u001b[0m\u001b[0m\n\u001b[0;32m--> 412\u001b[0;31m         \u001b[0mdist\u001b[0m \u001b[0;34m=\u001b[0m \u001b[0mnp\u001b[0m\u001b[0;34m.\u001b[0m\u001b[0msqrt\u001b[0m\u001b[0;34m(\u001b[0m\u001b[0;34m(\u001b[0m\u001b[0mx2\u001b[0m\u001b[0;34m-\u001b[0m\u001b[0mx1\u001b[0m\u001b[0;34m)\u001b[0m\u001b[0;34m**\u001b[0m\u001b[0;36m2\u001b[0m \u001b[0;34m+\u001b[0m \u001b[0;34m(\u001b[0m\u001b[0my2\u001b[0m\u001b[0;34m-\u001b[0m\u001b[0my1\u001b[0m\u001b[0;34m)\u001b[0m\u001b[0;34m**\u001b[0m\u001b[0;36m2\u001b[0m\u001b[0;34m)\u001b[0m\u001b[0;34m\u001b[0m\u001b[0;34m\u001b[0m\u001b[0m\n\u001b[0m\u001b[1;32m    413\u001b[0m \u001b[0;34m\u001b[0m\u001b[0m\n\u001b[1;32m    414\u001b[0m         \u001b[0mmean_mvmt\u001b[0m \u001b[0;34m+=\u001b[0m \u001b[0mdist\u001b[0m\u001b[0;34m/\u001b[0m\u001b[0mlength\u001b[0m\u001b[0;34m\u001b[0m\u001b[0;34m\u001b[0m\u001b[0m\n",
      "\u001b[0;31mKeyboardInterrupt\u001b[0m: "
     ]
    }
   ],
   "source": [
    "num_trial = 10\n",
    "key = \"mig_rate\"\n",
    "\n",
    "for (i,batch_val, mvmt_mag) in itertools.product(range(num_trial),batch_settings,mvmt_mag_settings):\n",
    "    print(\"trial, batch_val, mag:\",i,batch_val,mvmt_mag)\n",
    "    users, servers, links, jobs, sim_param = simulation_setting(db,mvmt_mag,batch_val)\n",
    "    \n",
    "    Batch_prob = SeqGreedy_PlanGenerator(users, servers, links, jobs, sim_param)\n",
    "    Batch_plan = Migration_Plans(users,jobs,sim_param)\n",
    "    Batch_plan.from_seq_greedy(Batch_prob)\n",
    "    \n",
    "    num_mig_cumul = 0\n",
    "    \n",
    "    for u in range(len(jobs)):\n",
    "        num_mig_cumul += np.sum(Batch_plan.mig_plan_dict[u][key])\n",
    "    \n",
    "    batch_mig_stores[(mvmt_mag,batch_val)] += [num_mig_cumul]"
   ]
  },
  {
   "cell_type": "markdown",
   "metadata": {},
   "source": [
    "### Process the Data\n",
    "\n",
    "Organize each into a line to be plotted in terms of what batch group they were in. Each line sweeps across mig mvmt value.\n",
    "\n",
    "Theoretically, batch 3 --> batch 6 --> batch 12 should the the descending order of migration rate. Migration rate should also climb as we go to higher user magnitudes."
   ]
  },
  {
   "cell_type": "code",
   "execution_count": null,
   "metadata": {},
   "outputs": [],
   "source": [
    "batch_0_migs = []\n",
    "batch_3_migs = []\n",
    "batch_6_migs = []\n",
    "\n",
    "for (batch_val, mvmt_mag) in itertools.product(batch_settings,mvmt_mag_settings):\n",
    "    if batch_val == 0:\n",
    "        batch_0_migs += [np.mean(batch_mig_stores[mvmt_mag,batch_val])]\n",
    "    elif batch_val == 3:\n",
    "        batch_3_migs += [np.mean(batch_mig_stores[mvmt_mag,batch_val])]\n",
    "    elif batch_val == 6:\n",
    "        batch_6_migs += [np.mean(batch_mig_stores[mvmt_mag,batch_val])]\n"
   ]
  },
  {
   "cell_type": "code",
   "execution_count": null,
   "metadata": {},
   "outputs": [],
   "source": [
    "# Collect the correct costs\n",
    "# Plot the plot\n",
    "import matplotlib\n",
    "import matplotlib.pyplot as plt\n",
    "from matplotlib.pyplot import figure\n",
    "\n",
    "# Set Font Size Limitations\n",
    "font = {'family' : 'normal',\n",
    "        'weight' : 'normal',\n",
    "        'size'   : 16}\n",
    "\n",
    "matplotlib.rc('font', **font)\n",
    "figure(num=None, figsize=(5.5, 2.5), dpi=80, facecolor='w', edgecolor='k')\n",
    "\n",
    "x_ax = np.divide(1,mvmt_mag_settings)\n",
    "\n",
    "SG2 = [0.1,0.4,1,1.5,2.5,3.2]\n",
    "B3 = [0.3,0.7,1.6,1.9,3.2,4]\n",
    "B6 = [0.3,0.4,1.1,2.0,2.7,3.4]\n",
    "\n",
    "#plt.plot(x_ax, SG2, 'r--', label = 'Seq Greedy')\n",
    "#plt.plot(x_ax, B6, 'g-x', label = 'Batch size 6')\n",
    "#plt.plot(x_ax, B3, 'b-o', label = 'Batch size 3')\n",
    "\n",
    "plt.plot(x_ax, np.multiply(batch_0_migs,1/len(jobs)), 'r--', label = 'Seq Greedy')\n",
    "plt.plot(x_ax, np.multiply(batch_6_migs,1/len(jobs)), 'g-x', label = 'Batch size 6')\n",
    "plt.plot(x_ax, np.multiply(batch_3_migs,1/len(jobs)), 'b-o', label = 'Batch size 3')\n",
    "# plt.xticks(x_ax)\n",
    "# plt.xscale('log')\n",
    "plt.legend(loc = 'lower right')\n",
    "\n",
    "plt.title('Migration and Movement')\n",
    "plt.xlabel('Average Movement per Time Step (miles)')\n",
    "plt.ylabel('Migrations Per User')"
   ]
  }
 ],
 "metadata": {
  "kernelspec": {
   "display_name": "Python 3",
   "language": "python",
   "name": "python3"
  },
  "language_info": {
   "codemirror_mode": {
    "name": "ipython",
    "version": 3
   },
   "file_extension": ".py",
   "mimetype": "text/x-python",
   "name": "python",
   "nbconvert_exporter": "python",
   "pygments_lexer": "ipython3",
   "version": "3.8.3"
  }
 },
 "nbformat": 4,
 "nbformat_minor": 4
}
