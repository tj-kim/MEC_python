{
 "cells": [
  {
   "cell_type": "markdown",
   "metadata": {},
   "source": [
    "# Simulation 11: Seq Greedy v. Naive Timestep Sweep\n",
    "\n",
    "TJ Kim\n",
    "1/10/21\n",
    "\n",
    "Run the eleventh simulation with the following considerations.\n",
    "\n",
    "- 10 Servers, 15 Users, 30 TS\n",
    "- Use ONE-mobility\n",
    "- Job lengths: vr = 30, Assist = 30, AR = 30\n",
    "- We share the same users and jobs between simulations\n",
    "\n",
    "Resources: Normal\n",
    "- All jobs are run with standard Quantity\n",
    "- 14 level 1, 5 level 2, 1 level 3"
   ]
  },
  {
   "cell_type": "code",
   "execution_count": 1,
   "metadata": {},
   "outputs": [],
   "source": [
    "from IPython.core.debugger import set_trace\n",
    "\n",
    "# Import Generic Classes\n",
    "import numpy as np\n",
    "import copy\n",
    "import pickle\n",
    "import random\n",
    "\n",
    "# Import All Custom Classes\n",
    "import os, sys\n",
    "sys.path.append(os.path.pardir+\"/classes\")\n",
    "sys.path.append(os.path.pardir+\"/solvers\")\n",
    "sys.path.append(os.path.pardir+\"/one_mobility\")\n",
    "sys.path.append(os.path.curdir + \"/sim_store/sim11\")\n",
    "\n",
    "\n",
    "from Server import *\n",
    "from User import *\n",
    "from Link import *\n",
    "from Job import *\n",
    "from Migration_Plans import *\n",
    "from Cost_Recordings import *\n",
    "\n",
    "from sim11_setting import *\n",
    "\n",
    "# Import Solver Classes\n",
    "from Optim_PlanGenerator import *\n",
    "from SeqGreedy_PlanGenerator import *\n",
    "from Myopic_PlanGenerator import *\n",
    "from Naive_PlanGenerator import *\n",
    "from Cloud_PlanGenerator import *"
   ]
  },
  {
   "cell_type": "markdown",
   "metadata": {},
   "source": [
    "### Run Simulation across 10 trials for the groups\n",
    "\n",
    "Heuristics - Sequential Greedy \n",
    "\n",
    "Baseline - Naive"
   ]
  },
  {
   "cell_type": "code",
   "execution_count": 2,
   "metadata": {},
   "outputs": [
    {
     "name": "stdout",
     "output_type": "stream",
     "text": [
      "Trial Number: 0\n"
     ]
    },
    {
     "ename": "NameError",
     "evalue": "name 'refresh_rate' is not defined",
     "output_type": "error",
     "traceback": [
      "\u001b[0;31m---------------------------------------------------------------------------\u001b[0m",
      "\u001b[0;31mNameError\u001b[0m                                 Traceback (most recent call last)",
      "\u001b[0;32m<ipython-input-2-d8e58818b38f>\u001b[0m in \u001b[0;36m<module>\u001b[0;34m\u001b[0m\n\u001b[1;32m      9\u001b[0m     \u001b[0mjobs2\u001b[0m \u001b[0;34m=\u001b[0m \u001b[0mcopy\u001b[0m\u001b[0;34m.\u001b[0m\u001b[0mdeepcopy\u001b[0m\u001b[0;34m(\u001b[0m\u001b[0mjobs\u001b[0m\u001b[0;34m)\u001b[0m\u001b[0;34m\u001b[0m\u001b[0;34m\u001b[0m\u001b[0m\n\u001b[1;32m     10\u001b[0m     \u001b[0;32mfor\u001b[0m \u001b[0mj\u001b[0m \u001b[0;32min\u001b[0m \u001b[0mrange\u001b[0m\u001b[0;34m(\u001b[0m\u001b[0mlen\u001b[0m\u001b[0;34m(\u001b[0m\u001b[0mjobs2\u001b[0m\u001b[0;34m)\u001b[0m\u001b[0;34m)\u001b[0m\u001b[0;34m:\u001b[0m\u001b[0;34m\u001b[0m\u001b[0;34m\u001b[0m\u001b[0m\n\u001b[0;32m---> 11\u001b[0;31m         \u001b[0mjobs2\u001b[0m\u001b[0;34m[\u001b[0m\u001b[0mj\u001b[0m\u001b[0;34m]\u001b[0m\u001b[0;34m.\u001b[0m\u001b[0minfo_from_usr\u001b[0m\u001b[0;34m(\u001b[0m\u001b[0musers\u001b[0m\u001b[0;34m[\u001b[0m\u001b[0mj\u001b[0m\u001b[0;34m]\u001b[0m\u001b[0;34m,\u001b[0m\u001b[0mrefresh_rate\u001b[0m\u001b[0;34m,\u001b[0m\u001b[0mrefresh\u001b[0m\u001b[0;34m)\u001b[0m\u001b[0;34m\u001b[0m\u001b[0;34m\u001b[0m\u001b[0m\n\u001b[0m\u001b[1;32m     12\u001b[0m \u001b[0;34m\u001b[0m\u001b[0m\n\u001b[1;32m     13\u001b[0m     \u001b[0;31m# Make SG Prob\u001b[0m\u001b[0;34m\u001b[0m\u001b[0;34m\u001b[0m\u001b[0;34m\u001b[0m\u001b[0m\n",
      "\u001b[0;31mNameError\u001b[0m: name 'refresh_rate' is not defined"
     ]
    }
   ],
   "source": [
    "num_trials = 10\n",
    "SG_cost_stores = []\n",
    "Naive_cost_stores = []\n",
    "for i in range(num_trials):\n",
    "    \n",
    "    print(\"Trial Number:\",i)\n",
    "\n",
    "    users, servers, links, jobs, sim_param = simulation_setting()\n",
    "    jobs2 = copy.deepcopy(jobs)\n",
    "    for j in range(len(jobs2)):\n",
    "        jobs2[j].info_from_usr(users[j],refresh_rate,refresh)\n",
    "    \n",
    "    # Make SG Prob\n",
    "    # Set Refresh to false for SG\n",
    "    refresh_rate = [0,0]\n",
    "    refresh = False\n",
    "\n",
    "    jobs2 = copy.deepcopy(jobs)\n",
    "    for j in range(len(jobs2)):\n",
    "        jobs2[j].info_from_usr(users[j],refresh_rate,refresh)\n",
    "    \n",
    "    print(\"SG prob...\")\n",
    "    SG_prob = SeqGreedy_PlanGenerator(users, servers, links, jobs2, sim_param)\n",
    "    SG_plan = Migration_Plans(users,jobs2,sim_param)\n",
    "    SG_plan.from_seq_greedy(SG_prob)\n",
    "    SG_cost_stores += [Cost_Recordings(SG_plan)]\n",
    "    print(\"done!\")\n",
    "    \n",
    "    # Make Naive Prob\n",
    "    print(\"Naive prob...\")\n",
    "    Naive_prob = Naive_PlanGenerator(users, servers, links, jobs, sim_param)\n",
    "    Naive_plan = Migration_Plans(users,jobs,sim_param)\n",
    "    Naive_plan.from_seq_greedy(Naive_prob)\n",
    "    Naive_cost_stores += [Cost_Recordings(Naive_plan)]\n",
    "    print(\"done!\")\n",
    "    "
   ]
  },
  {
   "cell_type": "markdown",
   "metadata": {},
   "source": [
    "### Pickle the simulation results"
   ]
  },
  {
   "cell_type": "code",
   "execution_count": null,
   "metadata": {},
   "outputs": [],
   "source": [
    "import pickle\n",
    "\n",
    "cost_stores_dic = {}\n",
    "cost_stores_dic[\"SG\"] = SG_cost_stores\n",
    "cost_stores_dic[\"Naive\"] = Naive_cost_stores\n",
    "pickle.dump(cost_stores_dic, open(os.path.curdir + \"/sim_store/sim11/cost_store_50ts.p\", \"wb\" ) )"
   ]
  },
  {
   "cell_type": "markdown",
   "metadata": {},
   "source": [
    "### Plot Results\n",
    "Plot cost per timestep averaged over all trials."
   ]
  },
  {
   "cell_type": "code",
   "execution_count": null,
   "metadata": {},
   "outputs": [],
   "source": [
    "SG_cost_stores[0].all_cost_instance['total_cost'].shape"
   ]
  },
  {
   "cell_type": "code",
   "execution_count": null,
   "metadata": {},
   "outputs": [],
   "source": [
    "SG_cost_per_time = np.zeros(sim_param.time_steps)\n",
    "Naive_cost_per_time = np.zeros(sim_param.time_steps)\n",
    "\n",
    "for i in range(num_trials):\n",
    "    SG_cost_per_time += np.divide(SG_cost_stores[i].all_cost_instance['total_cost'],num_trials)\n",
    "    Naive_cost_per_time += np.divide(Naive_cost_stores[i].all_cost_instance['total_cost'],num_trials)"
   ]
  },
  {
   "cell_type": "code",
   "execution_count": null,
   "metadata": {},
   "outputs": [],
   "source": [
    "SG_cost_per_time"
   ]
  },
  {
   "cell_type": "code",
   "execution_count": null,
   "metadata": {},
   "outputs": [],
   "source": [
    "Naive_cost_per_time"
   ]
  },
  {
   "cell_type": "code",
   "execution_count": null,
   "metadata": {},
   "outputs": [],
   "source": [
    "# Plot the plot\n",
    "import matplotlib\n",
    "import matplotlib.pyplot as plt\n",
    "from matplotlib.pyplot import figure\n",
    "\n",
    "\n",
    "# Set Font Size Limitations\n",
    "font = {'family' : 'normal',\n",
    "        'weight' : 'normal',\n",
    "        'size'   : 16}\n",
    "\n",
    "matplotlib.rc('font', **font)\n",
    "figure(num=None, figsize=(5.5, 2.5), dpi=80, facecolor='w', edgecolor='k')\n",
    "\n",
    "x_ax = np.arange(30)\n",
    "\n",
    "plt.plot(x_ax, SG_cost_per_time, 'r--', label = 'Seq Greedy')\n",
    "plt.plot(x_ax, Naive_cost_per_time, 'g-x', label = 'Naive')\n",
    "\n",
    "plt.legend(loc = 'lower right')\n",
    "\n",
    "plt.title('Performance and Look Ahead Window')\n",
    "plt.xlabel('Time Step')\n",
    "plt.ylabel('Cost Per Time Step (Dollars)')"
   ]
  },
  {
   "cell_type": "code",
   "execution_count": null,
   "metadata": {},
   "outputs": [],
   "source": []
  }
 ],
 "metadata": {
  "kernelspec": {
   "display_name": "Python 3",
   "language": "python",
   "name": "python3"
  },
  "language_info": {
   "codemirror_mode": {
    "name": "ipython",
    "version": 3
   },
   "file_extension": ".py",
   "mimetype": "text/x-python",
   "name": "python",
   "nbconvert_exporter": "python",
   "pygments_lexer": "ipython3",
   "version": "3.8.3"
  }
 },
 "nbformat": 4,
 "nbformat_minor": 4
}
