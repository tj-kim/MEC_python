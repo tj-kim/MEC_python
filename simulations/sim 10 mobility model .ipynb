{
 "cells": [
  {
   "cell_type": "markdown",
   "metadata": {},
   "source": [
    "# Simulation 10: User Mobility Reasonableness\n",
    "TJ Kim\n",
    "1/2/21\n",
    "\n",
    "### Summary:\n",
    "Goal is to show that the accuracy of the mobility model deteriorates with a longer look ahead window. This allows us to show that the mobility model and the cost saves are \"realistic\" in that our predictions are somewhat flawed, and our results are robust.\n",
    "\n",
    "### Settings:\n",
    "\n",
    "- 20 users\n",
    "- 10/20 servers"
   ]
  },
  {
   "cell_type": "code",
   "execution_count": 1,
   "metadata": {},
   "outputs": [],
   "source": [
    "from IPython.core.debugger import set_trace\n",
    "\n",
    "# Import Generic Classes\n",
    "import numpy as np\n",
    "import copy\n",
    "import pickle\n",
    "import random\n",
    "import itertools\n",
    "\n",
    "# Import All Custom Classes\n",
    "import os, sys\n",
    "sys.path.append(os.path.pardir+\"/classes\")\n",
    "sys.path.append(os.path.pardir+\"/solvers\")\n",
    "sys.path.append(os.path.pardir+\"/one_mobility\")\n",
    "sys.path.append(os.path.curdir + \"/sim_store/sim10\")\n",
    "sys.path.append(os.path.pardir+\"/crawdad_mobility\")\n",
    "\n",
    "\n",
    "\n",
    "from Server import *\n",
    "from User import *\n",
    "from Link import *\n",
    "from Job import *\n",
    "from Migration_Plans import *\n",
    "from Cost_Recordings import *\n",
    "\n",
    "from sim10_setting import *\n",
    "from load_crawdad_usr import *\n"
   ]
  },
  {
   "cell_type": "code",
   "execution_count": 2,
   "metadata": {},
   "outputs": [],
   "source": [
    "# Load Crawdad data\n",
    "# Load All 12 users and trim their info\n",
    "db_names = []\n",
    "for i in range(1,13):\n",
    "    db_names += ['LifeMap_GS'+str(i)+'.db']\n",
    "\n",
    "db = []\n",
    "for name in db_names:\n",
    "    name = '/home/tkim/CMU/MEC_research/crawdad_mobility/' + name\n",
    "    df,trace = load_usr(name)\n",
    "    db += [trace]"
   ]
  },
  {
   "cell_type": "markdown",
   "metadata": {},
   "source": [
    "Function for recording probability table."
   ]
  },
  {
   "cell_type": "code",
   "execution_count": 3,
   "metadata": {},
   "outputs": [],
   "source": [
    "def record_prob(num_server,num_user):\n",
    "    \"\"\"\n",
    "    Record the accuracy of the markovian maximum prediction per timestep model\n",
    "    For a single trial.\n",
    "    \"\"\"\n",
    "    \n",
    "    users, servers, links, jobs, sim_param = simulation_setting(db, num_server,num_user)\n",
    "    users[0].user_voronoi_true.shape\n",
    "    timesteps = users[0].user_voronoi_true.shape[0]\n",
    "    accuracies = np.zeros(timesteps)\n",
    "    \n",
    "    for t in range(timesteps):\n",
    "        for u in range(len(users)):\n",
    "            pred_loc = np.argmax(users[u].server_prob[:,t])\n",
    "            if users[u].user_voronoi_true[t] == pred_loc:\n",
    "                accuracies[t] += 1\n",
    "        \n",
    "        accuracies[t] = np.divide(accuracies[t],len(users))\n",
    "    \n",
    "    return accuracies"
   ]
  },
  {
   "cell_type": "code",
   "execution_count": 4,
   "metadata": {},
   "outputs": [
    {
     "data": {
      "text/plain": [
       "array([1.  , 0.85, 0.75, 0.5 , 0.6 , 0.5 , 0.35, 0.3 , 0.2 , 0.2 , 0.2 ,\n",
       "       0.2 , 0.2 , 0.15, 0.15, 0.15, 0.05, 0.05, 0.15, 0.15])"
      ]
     },
     "execution_count": 4,
     "metadata": {},
     "output_type": "execute_result"
    }
   ],
   "source": [
    "# Testing performance\n",
    "num_server = 10\n",
    "num_user = 20\n",
    "record_prob(num_server,num_user)"
   ]
  },
  {
   "cell_type": "markdown",
   "metadata": {},
   "source": [
    "### Test 1:\n",
    "\n",
    "Record accuracy table for 20 users, 5 servers across 20 trials."
   ]
  },
  {
   "cell_type": "code",
   "execution_count": 5,
   "metadata": {},
   "outputs": [
    {
     "name": "stdout",
     "output_type": "stream",
     "text": [
      "[1.     0.8725 0.7775 0.7    0.6475 0.6275 0.5775 0.5525 0.5325 0.5\n",
      " 0.49   0.4675 0.44   0.415  0.385  0.3625 0.32   0.295  0.2575 0.24  ]\n"
     ]
    }
   ],
   "source": [
    "num_server = 5\n",
    "num_user = 20\n",
    "num_trial = 20\n",
    "timesteps = 20\n",
    "\n",
    "acc_temp = np.zeros(timesteps)\n",
    "\n",
    "for i in range(num_trial):\n",
    "    acc_temp += np.divide(record_prob(num_server,num_user),num_trial)\n",
    "    \n",
    "print(acc_temp)"
   ]
  },
  {
   "cell_type": "markdown",
   "metadata": {},
   "source": [
    "### Test 2: \n",
    "\n",
    "20 users, 10 servers, 20 trials"
   ]
  },
  {
   "cell_type": "code",
   "execution_count": 6,
   "metadata": {},
   "outputs": [
    {
     "name": "stdout",
     "output_type": "stream",
     "text": [
      "[1.     0.8025 0.69   0.6075 0.5225 0.49   0.475  0.45   0.4325 0.4\n",
      " 0.3875 0.3375 0.315  0.3    0.28   0.26   0.2425 0.16   0.135  0.1175]\n"
     ]
    }
   ],
   "source": [
    "num_server = 10\n",
    "num_user = 20\n",
    "num_trial = 20\n",
    "timesteps = 20\n",
    "\n",
    "acc_temp = np.zeros(timesteps)\n",
    "\n",
    "for i in range(num_trial):\n",
    "    acc_temp += np.divide(record_prob(num_server,num_user),num_trial)\n",
    "    \n",
    "print(acc_temp)"
   ]
  },
  {
   "cell_type": "markdown",
   "metadata": {},
   "source": [
    "### Test 2:\n",
    "\n",
    "Record accuracy table for 20 users, 20 servers, across 20 trials.\n",
    "\n",
    "The accuracy should get lower faster due to higher server density."
   ]
  },
  {
   "cell_type": "code",
   "execution_count": 7,
   "metadata": {},
   "outputs": [
    {
     "name": "stdout",
     "output_type": "stream",
     "text": [
      "[1.     0.7125 0.58   0.5025 0.44   0.4    0.335  0.3425 0.295  0.2725\n",
      " 0.25   0.2475 0.235  0.22   0.1925 0.16   0.145  0.1475 0.125  0.1425]\n"
     ]
    }
   ],
   "source": [
    "num_server = 20\n",
    "num_user = 20\n",
    "num_trial = 20\n",
    "timesteps = 20\n",
    "\n",
    "acc_temp = np.zeros(timesteps)\n",
    "\n",
    "for i in range(num_trial):\n",
    "    acc_temp += np.divide(record_prob(num_server,num_user),num_trial)\n",
    "    \n",
    "print(acc_temp)"
   ]
  },
  {
   "cell_type": "code",
   "execution_count": null,
   "metadata": {},
   "outputs": [],
   "source": []
  }
 ],
 "metadata": {
  "kernelspec": {
   "display_name": "Python 3",
   "language": "python",
   "name": "python3"
  },
  "language_info": {
   "codemirror_mode": {
    "name": "ipython",
    "version": 3
   },
   "file_extension": ".py",
   "mimetype": "text/x-python",
   "name": "python",
   "nbconvert_exporter": "python",
   "pygments_lexer": "ipython3",
   "version": "3.8.3"
  }
 },
 "nbformat": 4,
 "nbformat_minor": 4
}
