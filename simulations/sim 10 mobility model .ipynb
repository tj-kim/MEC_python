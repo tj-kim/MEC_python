{
 "cells": [
  {
   "cell_type": "markdown",
   "metadata": {},
   "source": [
    "# Simulation 10: User Mobility Reasonableness\n",
    "TJ Kim\n",
    "1/2/21\n",
    "\n",
    "### Summary:\n",
    "Goal is to show that the accuracy of the mobility model deteriorates with a longer look ahead window. This allows us to show that the mobility model and the cost saves are \"realistic\" in that our predictions are somewhat flawed, and our results are robust.\n",
    "\n",
    "### Settings:\n",
    "\n",
    "- 20 users\n",
    "- 10/20 servers"
   ]
  },
  {
   "cell_type": "code",
   "execution_count": 1,
   "metadata": {},
   "outputs": [],
   "source": [
    "from IPython.core.debugger import set_trace\n",
    "\n",
    "# Import Generic Classes\n",
    "import numpy as np\n",
    "import copy\n",
    "import pickle\n",
    "import random\n",
    "import itertools\n",
    "\n",
    "# Import All Custom Classes\n",
    "import os, sys\n",
    "sys.path.append(os.path.pardir+\"/classes\")\n",
    "sys.path.append(os.path.pardir+\"/solvers\")\n",
    "sys.path.append(os.path.pardir+\"/one_mobility\")\n",
    "sys.path.append(os.path.curdir + \"/sim_store/sim10\")\n",
    "\n",
    "\n",
    "from Server import *\n",
    "from User import *\n",
    "from Link import *\n",
    "from Job import *\n",
    "from Migration_Plans import *\n",
    "from Cost_Recordings import *\n",
    "\n",
    "from sim10_setting import *"
   ]
  },
  {
   "cell_type": "markdown",
   "metadata": {},
   "source": [
    "Function for recording probability table."
   ]
  },
  {
   "cell_type": "code",
   "execution_count": 10,
   "metadata": {},
   "outputs": [],
   "source": [
    "def record_prob(num_server,num_user):\n",
    "\"\"\"\n",
    "Record the accuracy of the markovian maximum prediction per timestep model\n",
    "For a single trial.\n",
    "\"\"\"\n",
    "    \n",
    "    users, servers, links, jobs, sim_param = simulation_setting(num_server,num_user)\n",
    "    users[0].user_voronoi_true.shape\n",
    "    timesteps = users[0].user_voronoi_true.shape[0]\n",
    "    accuracies = np.zeros(timesteps)\n",
    "    \n",
    "    for t in range(timesteps):\n",
    "        for u in range(len(users)):\n",
    "            pred_loc = np.argmax(users[u].server_prob[:,t])\n",
    "            if users[u].user_voronoi_true[t] == pred_loc:\n",
    "                accuracies[t] += 1\n",
    "        \n",
    "        accuracies[t] = np.divide(accuracies[t],len(users))\n",
    "    \n",
    "    return accuracies"
   ]
  },
  {
   "cell_type": "code",
   "execution_count": 11,
   "metadata": {},
   "outputs": [
    {
     "data": {
      "text/plain": [
       "array([1.  , 0.75, 0.65, 0.7 , 0.7 , 0.65, 0.6 , 0.65, 0.7 , 0.7 , 0.8 ,\n",
       "       0.65, 0.75, 0.65, 0.7 , 0.65, 0.5 , 0.6 , 0.5 , 0.45])"
      ]
     },
     "execution_count": 11,
     "metadata": {},
     "output_type": "execute_result"
    }
   ],
   "source": [
    "# Testing performance\n",
    "num_server = 10\n",
    "num_user = 20\n",
    "record_prob(num_server,num_user)"
   ]
  },
  {
   "cell_type": "markdown",
   "metadata": {},
   "source": [
    "### Test 1:\n",
    "\n",
    "Record accuracy table for 20 users, 5 servers across 20 trials."
   ]
  },
  {
   "cell_type": "code",
   "execution_count": 19,
   "metadata": {},
   "outputs": [
    {
     "name": "stdout",
     "output_type": "stream",
     "text": [
      "[1.     0.83   0.7925 0.7725 0.78   0.745  0.7575 0.7575 0.72   0.735\n",
      " 0.73   0.7175 0.7075 0.6925 0.6725 0.655  0.6025 0.5625 0.5175 0.525 ]\n"
     ]
    }
   ],
   "source": [
    "num_server = 5\n",
    "num_user = 20\n",
    "num_trial = 20\n",
    "timesteps = 20\n",
    "\n",
    "acc_temp = np.zeros(timesteps)\n",
    "\n",
    "for i in range(num_trial):\n",
    "    acc_temp += np.divide(record_prob(num_server,num_user),num_trial)\n",
    "    \n",
    "print(acc_temp)"
   ]
  },
  {
   "cell_type": "markdown",
   "metadata": {},
   "source": [
    "### Test 2: \n",
    "\n",
    "20 users, 10 servers, 20 trials"
   ]
  },
  {
   "cell_type": "code",
   "execution_count": 21,
   "metadata": {},
   "outputs": [
    {
     "name": "stdout",
     "output_type": "stream",
     "text": [
      "[1.     0.76   0.73   0.7075 0.7225 0.7075 0.66   0.6675 0.695  0.6575\n",
      " 0.6275 0.65   0.595  0.595  0.535  0.535  0.505  0.4875 0.4775 0.4775]\n"
     ]
    }
   ],
   "source": [
    "num_server = 10\n",
    "num_user = 20\n",
    "num_trial = 20\n",
    "timesteps = 20\n",
    "\n",
    "acc_temp = np.zeros(timesteps)\n",
    "\n",
    "for i in range(num_trial):\n",
    "    acc_temp += np.divide(record_prob(num_server,num_user),num_trial)\n",
    "    \n",
    "print(acc_temp)"
   ]
  },
  {
   "cell_type": "markdown",
   "metadata": {},
   "source": [
    "### Test 2:\n",
    "\n",
    "Record accuracy table for 20 users, 20 servers, across 20 trials.\n",
    "\n",
    "The accuracy should get lower faster due to higher server density."
   ]
  },
  {
   "cell_type": "code",
   "execution_count": 20,
   "metadata": {},
   "outputs": [
    {
     "name": "stdout",
     "output_type": "stream",
     "text": [
      "[1.     0.6875 0.6575 0.65   0.64   0.6325 0.6325 0.6375 0.635  0.64\n",
      " 0.64   0.62   0.62   0.5525 0.5425 0.52   0.495  0.4675 0.435  0.4275]\n"
     ]
    }
   ],
   "source": [
    "num_server = 20\n",
    "num_user = 20\n",
    "num_trial = 20\n",
    "timesteps = 20\n",
    "\n",
    "acc_temp = np.zeros(timesteps)\n",
    "\n",
    "for i in range(num_trial):\n",
    "    acc_temp += np.divide(record_prob(num_server,num_user),num_trial)\n",
    "    \n",
    "print(acc_temp)"
   ]
  },
  {
   "cell_type": "code",
   "execution_count": null,
   "metadata": {},
   "outputs": [],
   "source": []
  }
 ],
 "metadata": {
  "kernelspec": {
   "display_name": "Python 3",
   "language": "python",
   "name": "python3"
  },
  "language_info": {
   "codemirror_mode": {
    "name": "ipython",
    "version": 3
   },
   "file_extension": ".py",
   "mimetype": "text/x-python",
   "name": "python",
   "nbconvert_exporter": "python",
   "pygments_lexer": "ipython3",
   "version": "3.8.3"
  }
 },
 "nbformat": 4,
 "nbformat_minor": 4
}
