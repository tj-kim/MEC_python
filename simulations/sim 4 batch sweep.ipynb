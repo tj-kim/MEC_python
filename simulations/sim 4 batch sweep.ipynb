{
 "cells": [
  {
   "cell_type": "markdown",
   "metadata": {},
   "source": [
    "# Simulation 4: Batch Size Sweep\n",
    "\n",
    "TJ Kim\n",
    "8/8/20\n",
    "\n",
    "Find performance based on batch size:\n",
    "- 15 users, 8 servers, 16 ts\n",
    "- Jobs last entire duration\n",
    "- Resources, limited\n",
    "\n",
    "Batch sizes to sweep:\n",
    "- 1,2,4,6,8,12,16"
   ]
  },
  {
   "cell_type": "code",
   "execution_count": 1,
   "metadata": {},
   "outputs": [],
   "source": [
    "from IPython.core.debugger import set_trace\n",
    "\n",
    "# Import Generic Classes\n",
    "import numpy as np\n",
    "import copy\n",
    "import pickle\n",
    "import random\n",
    "\n",
    "# Import All Custom Classes\n",
    "import os, sys\n",
    "sys.path.append(os.path.pardir+\"/classes\")\n",
    "sys.path.append(os.path.pardir+\"/solvers\")\n",
    "sys.path.append(os.path.pardir+\"/one_mobility\")\n",
    "sys.path.append(os.path.curdir + \"/sim_store/sim4\")\n",
    "\n",
    "\n",
    "from Server import *\n",
    "from User import *\n",
    "from Link import *\n",
    "from Job import *\n",
    "from Migration_Plans import *\n",
    "from Cost_Recordings import *\n",
    "\n",
    "from sim4_setting import *\n",
    "\n",
    "# Import Solver Classes\n",
    "from Optim_PlanGenerator import *\n",
    "from SeqGreedy_PlanGenerator import *\n",
    "from Myopic_PlanGenerator import *\n",
    "from Naive_PlanGenerator import *"
   ]
  },
  {
   "cell_type": "markdown",
   "metadata": {},
   "source": [
    "### Run Simulations\n",
    "\n",
    "First set batch settings and num trials."
   ]
  },
  {
   "cell_type": "code",
   "execution_count": 2,
   "metadata": {},
   "outputs": [],
   "source": [
    "batch_settings = [1,2,4,8,12]\n",
    "batch_cost_stores = {}\n",
    "for val in batch_settings:\n",
    "    batch_cost_stores[val] = []"
   ]
  },
  {
   "cell_type": "code",
   "execution_count": 3,
   "metadata": {},
   "outputs": [
    {
     "name": "stdout",
     "output_type": "stream",
     "text": [
      "Trial Number: 0\n",
      "batch val: 1\n",
      "batch_prob...\n",
      "self first step running out of resource\n",
      "self first step running out of resource\n",
      "self first step running out of resource\n",
      "self first step running out of resource\n",
      "done!\n",
      "batch val: 2\n",
      "batch_prob...\n",
      "self first step running out of resource\n",
      "self first step running out of resource\n",
      "done!\n",
      "batch val: 4\n",
      "batch_prob...\n",
      "self first step running out of resource\n",
      "done!\n",
      "batch val: 8\n",
      "batch_prob...\n",
      "done!\n",
      "batch val: 12\n",
      "batch_prob...\n",
      "done!\n",
      "Trial Number: 1\n",
      "batch val: 1\n",
      "batch_prob...\n",
      "self first step running out of resource\n",
      "done!\n",
      "batch val: 2\n",
      "batch_prob...\n",
      "self first step running out of resource\n",
      "done!\n",
      "batch val: 4\n",
      "batch_prob...\n",
      "done!\n",
      "batch val: 8\n",
      "batch_prob...\n",
      "done!\n",
      "batch val: 12\n",
      "batch_prob...\n",
      "done!\n",
      "Trial Number: 2\n",
      "batch val: 1\n",
      "batch_prob...\n",
      "self first step running out of resource\n",
      "self first step running out of resource\n",
      "self first step running out of resource\n",
      "self first step running out of resource\n",
      "self first step running out of resource\n",
      "done!\n",
      "batch val: 2\n",
      "batch_prob...\n",
      "self first step running out of resource\n",
      "self first step running out of resource\n",
      "self first step running out of resource\n",
      "done!\n",
      "batch val: 4\n",
      "batch_prob...\n",
      "self first step running out of resource\n",
      "done!\n",
      "batch val: 8\n",
      "batch_prob...\n",
      "done!\n",
      "batch val: 12\n",
      "batch_prob...\n",
      "done!\n"
     ]
    }
   ],
   "source": [
    "num_trials = 3\n",
    "\n",
    "for i in range(num_trials):\n",
    "    print(\"Trial Number:\",i)\n",
    "    \n",
    "    # Make Users shared amongst all batch values\n",
    "    users, servers, links, jobs, sim_param = simulation_setting()\n",
    "    \n",
    "    for val in batch_settings:\n",
    "        print(\"batch val:\",val)\n",
    "\n",
    "        refresh_rate = [val,0]\n",
    "        refresh = True\n",
    "\n",
    "        for j in range(len(jobs)):\n",
    "            jobs[j].info_from_usr(users[j],refresh_rate,refresh)\n",
    "\n",
    "        # Make Batch Prob\n",
    "        \n",
    "        print(\"batch_prob...\")\n",
    "        Batch_prob = SeqGreedy_PlanGenerator(users, servers, links, jobs, sim_param)\n",
    "        Batch_plan = Migration_Plans(users,jobs,sim_param)\n",
    "        Batch_plan.from_seq_greedy(Batch_prob)\n",
    "        batch_cost_stores[val] += [Cost_Recordings(Batch_plan)]\n",
    "        print(\"done!\")"
   ]
  },
  {
   "cell_type": "markdown",
   "metadata": {},
   "source": [
    "### Plot a single line recording the total cumulative cost across time\n",
    "\n",
    "x axis - batch size\n",
    "y axis - cost (dollars)"
   ]
  },
  {
   "cell_type": "code",
   "execution_count": 4,
   "metadata": {},
   "outputs": [],
   "source": [
    "costs = []\n",
    "\n",
    "for i in range(len(batch_settings)):\n",
    "    curr_cost = 0\n",
    "    val = batch_settings[i]\n",
    "    cost_recording_list = batch_cost_stores[val]\n",
    "    \n",
    "    curr_cost = []\n",
    "    \n",
    "    for cost_rec in cost_recording_list:\n",
    "        curr_cost += [cost_rec.all_cost_cumulative[\"total_cost\"][-1]]\n",
    "    \n",
    "    costs += [np.mean(curr_cost)]"
   ]
  },
  {
   "cell_type": "code",
   "execution_count": 5,
   "metadata": {},
   "outputs": [
    {
     "data": {
      "text/plain": [
       "[44.09656454523565, 50.215494122489176, 52.10447696907083]"
      ]
     },
     "execution_count": 5,
     "metadata": {},
     "output_type": "execute_result"
    }
   ],
   "source": [
    "curr_cost"
   ]
  },
  {
   "cell_type": "code",
   "execution_count": 7,
   "metadata": {},
   "outputs": [
    {
     "data": {
      "text/plain": [
       "([<matplotlib.axis.XTick at 0x7fe9fc5c9a50>,\n",
       "  <matplotlib.axis.XTick at 0x7fe9e0d81910>,\n",
       "  <matplotlib.axis.XTick at 0x7fe9e0d81210>,\n",
       "  <matplotlib.axis.XTick at 0x7fe9e0d2be50>,\n",
       "  <matplotlib.axis.XTick at 0x7fe9e0d35490>,\n",
       "  <matplotlib.axis.XTick at 0x7fe9e0d35ad0>,\n",
       "  <matplotlib.axis.XTick at 0x7fe9e0d3c210>],\n",
       " <a list of 7 Text xticklabel objects>)"
      ]
     },
     "execution_count": 7,
     "metadata": {},
     "output_type": "execute_result"
    },
    {
     "data": {
      "image/png": "[encoded data removed]",
      "text/plain": [
       "<Figure size 432x288 with 1 Axes>"
      ]
     },
     "metadata": {
      "needs_background": "light"
     },
     "output_type": "display_data"
    }
   ],
   "source": [
    "# Collect the correct costs\n",
    "# Plot the plot\n",
    "import matplotlib\n",
    "import matplotlib.pyplot as plt\n",
    "\n",
    "# Set Font Size Limitations\n",
    "font = {'family' : 'normal',\n",
    "        'weight' : 'normal',\n",
    "        'size'   : 15}\n",
    "\n",
    "matplotlib.rc('font', **font)\n",
    "\n",
    "fig = plt.plot(batch_settings, costs, 'r-')\n",
    "\n",
    "plt.ylabel('Monetary Cost (Dollars)')\n",
    "plt.xlabel('Batch Length (time steps)')\n",
    "plt.title('Cost Given Batch Sizes')\n",
    "plt.xticks(range(0,13,2))"
   ]
  },
  {
   "cell_type": "code",
   "execution_count": null,
   "metadata": {},
   "outputs": [],
   "source": []
  }
 ],
 "metadata": {
  "kernelspec": {
   "display_name": "Python 3",
   "language": "python",
   "name": "python3"
  },
  "language_info": {
   "codemirror_mode": {
    "name": "ipython",
    "version": 3
   },
   "file_extension": ".py",
   "mimetype": "text/x-python",
   "name": "python",
   "nbconvert_exporter": "python",
   "pygments_lexer": "ipython3",
   "version": "3.7.4"
  }
 },
 "nbformat": 4,
 "nbformat_minor": 2
}
