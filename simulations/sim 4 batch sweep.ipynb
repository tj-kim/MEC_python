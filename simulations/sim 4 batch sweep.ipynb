{
 "cells": [
  {
   "cell_type": "markdown",
   "metadata": {},
   "source": [
    "# Simulation 4: Batch Size Sweep\n",
    "\n",
    "TJ Kim\n",
    "8/8/20\n",
    "\n",
    "Find performance based on batch size:\n",
    "- 15 users, 8 servers, 16 ts\n",
    "- Jobs last entire duration\n",
    "- Resources, limited\n",
    "\n",
    "Batch sizes to sweep:\n",
    "- 1,2,4,6,8,12,16"
   ]
  },
  {
   "cell_type": "code",
   "execution_count": 1,
   "metadata": {},
   "outputs": [],
   "source": [
    "from IPython.core.debugger import set_trace\n",
    "\n",
    "# Import Generic Classes\n",
    "import numpy as np\n",
    "import copy\n",
    "import pickle\n",
    "import random\n",
    "\n",
    "# Import All Custom Classes\n",
    "import os, sys\n",
    "sys.path.append(os.path.pardir+\"/classes\")\n",
    "sys.path.append(os.path.pardir+\"/solvers\")\n",
    "sys.path.append(os.path.pardir+\"/one_mobility\")\n",
    "sys.path.append(os.path.curdir + \"/sim_store/sim4\")\n",
    "\n",
    "\n",
    "from Server import *\n",
    "from User import *\n",
    "from Link import *\n",
    "from Job import *\n",
    "from Migration_Plans import *\n",
    "from Cost_Recordings import *\n",
    "\n",
    "from sim4_setting import *\n",
    "\n",
    "# Import Solver Classes\n",
    "from Optim_PlanGenerator import *\n",
    "from SeqGreedy_PlanGenerator import *\n",
    "from Myopic_PlanGenerator import *\n",
    "from Naive_PlanGenerator import *"
   ]
  },
  {
   "cell_type": "markdown",
   "metadata": {},
   "source": [
    "### Run Simulations\n",
    "\n",
    "First set batch settings and num trials."
   ]
  },
  {
   "cell_type": "code",
   "execution_count": 2,
   "metadata": {},
   "outputs": [],
   "source": [
    "batch_settings = [1,2,4,6,8,12,16]\n",
    "batch_cost_stores = {}\n",
    "for val in batch_settings:\n",
    "    batch_cost_stores[val] = []"
   ]
  },
  {
   "cell_type": "code",
   "execution_count": 3,
   "metadata": {},
   "outputs": [
    {
     "name": "stdout",
     "output_type": "stream",
     "text": [
      "Trial Number: 0\n",
      "batch val: 1\n",
      "batch_prob...\n",
      "self first step running out of resource\n",
      "self first step running out of resource\n",
      "self first step running out of resource\n",
      "self first step running out of resource\n",
      "self first step running out of resource\n",
      "done!\n",
      "batch val: 2\n",
      "batch_prob...\n",
      "self first step running out of resource\n",
      "self first step running out of resource\n",
      "done!\n",
      "batch val: 4\n",
      "batch_prob...\n",
      "self first step running out of resource\n",
      "done!\n",
      "batch val: 6\n",
      "batch_prob...\n",
      "done!\n",
      "batch val: 8\n",
      "batch_prob...\n",
      "done!\n",
      "batch val: 12\n",
      "batch_prob...\n",
      "done!\n",
      "batch val: 16\n",
      "batch_prob...\n",
      "done!\n",
      "Trial Number: 1\n",
      "batch val: 1\n",
      "batch_prob...\n",
      "self first step running out of resource\n",
      "self first step running out of resource\n",
      "self first step running out of resource\n",
      "self first step running out of resource\n",
      "self first step running out of resource\n",
      "self first step running out of resource\n",
      "self first step running out of resource\n",
      "self first step running out of resource\n",
      "self first step running out of resource\n",
      "self first step running out of resource\n",
      "self first step running out of resource\n",
      "self first step running out of resource\n",
      "done!\n",
      "batch val: 2\n",
      "batch_prob...\n",
      "self first step running out of resource\n",
      "self first step running out of resource\n",
      "self first step running out of resource\n",
      "self first step running out of resource\n",
      "self first step running out of resource\n",
      "done!\n",
      "batch val: 4\n",
      "batch_prob...\n",
      "self first step running out of resource\n",
      "self first step running out of resource\n",
      "done!\n",
      "batch val: 6\n",
      "batch_prob...\n",
      "self first step running out of resource\n",
      "self first step running out of resource\n",
      "done!\n",
      "batch val: 8\n",
      "batch_prob...\n",
      "self first step running out of resource\n",
      "done!\n",
      "batch val: 12\n",
      "batch_prob...\n",
      "done!\n",
      "batch val: 16\n",
      "batch_prob...\n",
      "done!\n",
      "Trial Number: 2\n",
      "batch val: 1\n",
      "batch_prob...\n",
      "self first step running out of resource\n",
      "self first step running out of resource\n",
      "self first step running out of resource\n",
      "self first step running out of resource\n",
      "self first step running out of resource\n",
      "self first step running out of resource\n",
      "self first step running out of resource\n",
      "self first step running out of resource\n",
      "self first step running out of resource\n",
      "self first step running out of resource\n",
      "done!\n",
      "batch val: 2\n",
      "batch_prob...\n",
      "self first step running out of resource\n",
      "self first step running out of resource\n",
      "self first step running out of resource\n",
      "self first step running out of resource\n",
      "self first step running out of resource\n",
      "done!\n",
      "batch val: 4\n",
      "batch_prob...\n",
      "done!\n",
      "batch val: 6\n",
      "batch_prob...\n",
      "done!\n",
      "batch val: 8\n",
      "batch_prob...\n",
      "done!\n",
      "batch val: 12\n",
      "batch_prob...\n",
      "done!\n",
      "batch val: 16\n",
      "batch_prob...\n",
      "done!\n",
      "Trial Number: 3\n",
      "batch val: 1\n",
      "batch_prob...\n",
      "self first step running out of resource\n",
      "self first step running out of resource\n",
      "self first step running out of resource\n",
      "self first step running out of resource\n",
      "self first step running out of resource\n",
      "self first step running out of resource\n",
      "self first step running out of resource\n",
      "self first step running out of resource\n",
      "self first step running out of resource\n",
      "self first step running out of resource\n",
      "self first step running out of resource\n",
      "self first step running out of resource\n",
      "done!\n",
      "batch val: 2\n",
      "batch_prob...\n",
      "self first step running out of resource\n",
      "self first step running out of resource\n",
      "self first step running out of resource\n",
      "not enough resources, simulation broken\n"
     ]
    },
    {
     "ename": "IndexError",
     "evalue": "only integers, slices (`:`), ellipsis (`...`), numpy.newaxis (`None`) and integer or boolean arrays are valid indices",
     "output_type": "error",
     "traceback": [
      "\u001b[0;31m---------------------------------------------------------------------------\u001b[0m",
      "\u001b[0;31mIndexError\u001b[0m                                Traceback (most recent call last)",
      "\u001b[0;32m<ipython-input-3-49278babb4d4>\u001b[0m in \u001b[0;36m<module>\u001b[0;34m\u001b[0m\n\u001b[1;32m     21\u001b[0m         \u001b[0mBatch_prob\u001b[0m \u001b[0;34m=\u001b[0m \u001b[0mSeqGreedy_PlanGenerator\u001b[0m\u001b[0;34m(\u001b[0m\u001b[0musers\u001b[0m\u001b[0;34m,\u001b[0m \u001b[0mservers\u001b[0m\u001b[0;34m,\u001b[0m \u001b[0mlinks\u001b[0m\u001b[0;34m,\u001b[0m \u001b[0mjobs\u001b[0m\u001b[0;34m,\u001b[0m \u001b[0msim_param\u001b[0m\u001b[0;34m)\u001b[0m\u001b[0;34m\u001b[0m\u001b[0;34m\u001b[0m\u001b[0m\n\u001b[1;32m     22\u001b[0m         \u001b[0mBatch_plan\u001b[0m \u001b[0;34m=\u001b[0m \u001b[0mMigration_Plans\u001b[0m\u001b[0;34m(\u001b[0m\u001b[0musers\u001b[0m\u001b[0;34m,\u001b[0m\u001b[0mjobs\u001b[0m\u001b[0;34m,\u001b[0m\u001b[0msim_param\u001b[0m\u001b[0;34m)\u001b[0m\u001b[0;34m\u001b[0m\u001b[0;34m\u001b[0m\u001b[0m\n\u001b[0;32m---> 23\u001b[0;31m         \u001b[0mBatch_plan\u001b[0m\u001b[0;34m.\u001b[0m\u001b[0mfrom_seq_greedy\u001b[0m\u001b[0;34m(\u001b[0m\u001b[0mBatch_prob\u001b[0m\u001b[0;34m)\u001b[0m\u001b[0;34m\u001b[0m\u001b[0;34m\u001b[0m\u001b[0m\n\u001b[0m\u001b[1;32m     24\u001b[0m         \u001b[0mbatch_cost_stores\u001b[0m\u001b[0;34m[\u001b[0m\u001b[0mval\u001b[0m\u001b[0;34m]\u001b[0m \u001b[0;34m+=\u001b[0m \u001b[0;34m[\u001b[0m\u001b[0mCost_Recordings\u001b[0m\u001b[0;34m(\u001b[0m\u001b[0mBatch_plan\u001b[0m\u001b[0;34m)\u001b[0m\u001b[0;34m]\u001b[0m\u001b[0;34m\u001b[0m\u001b[0;34m\u001b[0m\u001b[0m\n\u001b[1;32m     25\u001b[0m         \u001b[0mprint\u001b[0m\u001b[0;34m(\u001b[0m\u001b[0;34m\"done!\"\u001b[0m\u001b[0;34m)\u001b[0m\u001b[0;34m\u001b[0m\u001b[0;34m\u001b[0m\u001b[0m\n",
      "\u001b[0;32m~/MEC_research/solvers/Migration_Plans.py\u001b[0m in \u001b[0;36mfrom_seq_greedy\u001b[0;34m(self, SG_prob)\u001b[0m\n\u001b[1;32m    194\u001b[0m \u001b[0;34m\u001b[0m\u001b[0m\n\u001b[1;32m    195\u001b[0m                         node_num, link_num = self.prob.dijkstra_j(j=j,start_node=start_node,\n\u001b[0;32m--> 196\u001b[0;31m                                                                      end_node=end_node)\n\u001b[0m\u001b[1;32m    197\u001b[0m \u001b[0;34m\u001b[0m\u001b[0m\n\u001b[1;32m    198\u001b[0m \u001b[0;34m\u001b[0m\u001b[0m\n",
      "\u001b[0;32m~/MEC_research/solvers/SeqGreedy_PlanGenerator.py\u001b[0m in \u001b[0;36mdijkstra_j\u001b[0;34m(self, j, start_node, end_node)\u001b[0m\n\u001b[1;32m    357\u001b[0m                 \u001b[0mprint\u001b[0m\u001b[0;34m(\u001b[0m\u001b[0;34m\"not enough resources, simulation broken\"\u001b[0m\u001b[0;34m)\u001b[0m\u001b[0;34m\u001b[0m\u001b[0;34m\u001b[0m\u001b[0m\n\u001b[1;32m    358\u001b[0m \u001b[0;34m\u001b[0m\u001b[0m\n\u001b[0;32m--> 359\u001b[0;31m             \u001b[0mshortest_path_link_idx\u001b[0m \u001b[0;34m+=\u001b[0m \u001b[0;34m[\u001b[0m\u001b[0mint\u001b[0m\u001b[0;34m(\u001b[0m\u001b[0mself\u001b[0m\u001b[0;34m.\u001b[0m\u001b[0medge_weights_path_idx\u001b[0m\u001b[0;34m[\u001b[0m\u001b[0mj\u001b[0m\u001b[0;34m]\u001b[0m\u001b[0;34m[\u001b[0m\u001b[0mp1\u001b[0m\u001b[0;34m,\u001b[0m\u001b[0mp2\u001b[0m\u001b[0;34m]\u001b[0m\u001b[0;34m)\u001b[0m\u001b[0;34m]\u001b[0m\u001b[0;34m\u001b[0m\u001b[0;34m\u001b[0m\u001b[0m\n\u001b[0m\u001b[1;32m    360\u001b[0m \u001b[0;34m\u001b[0m\u001b[0m\n\u001b[1;32m    361\u001b[0m         \u001b[0;32mreturn\u001b[0m \u001b[0mshortest_path\u001b[0m\u001b[0;34m,\u001b[0m \u001b[0mshortest_path_link_idx\u001b[0m\u001b[0;34m\u001b[0m\u001b[0;34m\u001b[0m\u001b[0m\n",
      "\u001b[0;31mIndexError\u001b[0m: only integers, slices (`:`), ellipsis (`...`), numpy.newaxis (`None`) and integer or boolean arrays are valid indices"
     ]
    }
   ],
   "source": [
    "num_trials = 5\n",
    "\n",
    "for i in range(num_trials):\n",
    "    print(\"Trial Number:\",i)\n",
    "    \n",
    "    # Make Users shared amongst all batch values\n",
    "    users, servers, links, jobs, sim_param = simulation_setting()\n",
    "    \n",
    "    for val in batch_settings:\n",
    "        print(\"batch val:\",val)\n",
    "\n",
    "        refresh_rate = [val,0]\n",
    "        refresh = True\n",
    "\n",
    "        for j in range(len(jobs)):\n",
    "            jobs[j].info_from_usr(users[j],refresh_rate,refresh)\n",
    "\n",
    "        # Make Batch Prob\n",
    "        \n",
    "        print(\"batch_prob...\")\n",
    "        Batch_prob = SeqGreedy_PlanGenerator(users, servers, links, jobs, sim_param)\n",
    "        Batch_plan = Migration_Plans(users,jobs,sim_param)\n",
    "        Batch_plan.from_seq_greedy(Batch_prob)\n",
    "        batch_cost_stores[val] += [Cost_Recordings(Batch_plan)]\n",
    "        print(\"done!\")"
   ]
  },
  {
   "cell_type": "markdown",
   "metadata": {},
   "source": [
    "### Plot a single line recording the total cumulative cost across time\n",
    "\n",
    "x axis - batch size\n",
    "y axis - cost (dollars)"
   ]
  },
  {
   "cell_type": "code",
   "execution_count": 12,
   "metadata": {},
   "outputs": [],
   "source": [
    "costs = []\n",
    "\n",
    "for i in range(len(batch_settings)):\n",
    "    curr_cost = 0\n",
    "    val = batch_settings[i]\n",
    "    cost_recording_list = batch_cost_stores[val]\n",
    "    \n",
    "    curr_cost = []\n",
    "    \n",
    "    for cost_rec in cost_recording_list:\n",
    "        curr_cost += [cost_rec.all_cost_cumulative[\"total_cost\"][-1]]\n",
    "    \n",
    "    costs += [np.mean(curr_cost)]"
   ]
  },
  {
   "cell_type": "code",
   "execution_count": 13,
   "metadata": {},
   "outputs": [
    {
     "data": {
      "text/plain": [
       "[90.17433717702528,\n",
       " 93.65600831469227,\n",
       " 94.65318603703065,\n",
       " 99.6591966758256,\n",
       " 102.52739797419395,\n",
       " 104.43375783008258,\n",
       " 106.19987876809509]"
      ]
     },
     "execution_count": 13,
     "metadata": {},
     "output_type": "execute_result"
    }
   ],
   "source": [
    "costs"
   ]
  },
  {
   "cell_type": "code",
   "execution_count": 21,
   "metadata": {},
   "outputs": [
    {
     "data": {
      "text/plain": [
       "Text(0.5, 1.0, 'Cost Given Batch Sizes')"
      ]
     },
     "execution_count": 21,
     "metadata": {},
     "output_type": "execute_result"
    },
    {
     "name": "stderr",
     "output_type": "stream",
     "text": [
      "findfont: Font family ['normal'] not found. Falling back to DejaVu Sans.\n"
     ]
    },
    {
     "data": {
      "image/png": "[encoded data removed]",
      "text/plain": [
       "<Figure size 432x288 with 1 Axes>"
      ]
     },
     "metadata": {
      "needs_background": "light"
     },
     "output_type": "display_data"
    }
   ],
   "source": [
    "# Collect the correct costs\n",
    "# Plot the plot\n",
    "import matplotlib\n",
    "import matplotlib.pyplot as plt\n",
    "\n",
    "# Set Font Size Limitations\n",
    "font = {'family' : 'normal',\n",
    "        'weight' : 'normal',\n",
    "        'size'   : 15}\n",
    "\n",
    "matplotlib.rc('font', **font)\n",
    "\n",
    "fig = plt.plot(batch_settings, costs, 'r-')\n",
    "\n",
    "plt.ylabel('Monetary Cost (Dollars)')\n",
    "plt.xlabel('Batch Length (time steps)')\n",
    "plt.title('Cost Given Batch Sizes')\n",
    "\n",
    "\n"
   ]
  },
  {
   "cell_type": "code",
   "execution_count": null,
   "metadata": {},
   "outputs": [],
   "source": []
  }
 ],
 "metadata": {
  "kernelspec": {
   "display_name": "Python 3",
   "language": "python",
   "name": "python3"
  },
  "language_info": {
   "codemirror_mode": {
    "name": "ipython",
    "version": 3
   },
   "file_extension": ".py",
   "mimetype": "text/x-python",
   "name": "python",
   "nbconvert_exporter": "python",
   "pygments_lexer": "ipython3",
   "version": "3.7.4"
  }
 },
 "nbformat": 4,
 "nbformat_minor": 2
}
