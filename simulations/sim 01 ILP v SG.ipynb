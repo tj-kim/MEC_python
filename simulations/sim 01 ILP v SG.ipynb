{
 "cells": [
  {
   "cell_type": "markdown",
   "metadata": {},
   "source": [
    "# Simulation 1: ILP vs. SG\n",
    "\n",
    "TJ Kim\n",
    "8/7/20\n",
    "\n",
    "Run the first simulation with the following considerations.\n",
    "\n",
    "- 5 Servers, 5 TS, 6 Users\n",
    "- Use ONE-mobility\n",
    "- Servers have limited resources, links have high resources\n",
    "- All jobs are 5 TS long\n",
    "- We share the same users and jobs\n",
    "\n",
    "Resources: Limited\n",
    "- All jobs are run with standard Quantity\n",
    "- All servers are level 2\n",
    "- Cores have been tweaked to [3,5] at all servers"
   ]
  },
  {
   "cell_type": "code",
   "execution_count": 1,
   "metadata": {},
   "outputs": [],
   "source": [
    "from IPython.core.debugger import set_trace\n",
    "\n",
    "# Import Generic Classes\n",
    "import numpy as np\n",
    "import copy\n",
    "import pickle\n",
    "import random\n",
    "\n",
    "# Import All Custom Classes\n",
    "import os, sys\n",
    "sys.path.append(os.path.pardir+\"/classes\")\n",
    "sys.path.append(os.path.pardir+\"/solvers\")\n",
    "sys.path.append(os.path.pardir+\"/one_mobility\")\n",
    "sys.path.append(os.path.curdir+\"/sim_store/sim1\")\n",
    "\n",
    "\n",
    "from Server import *\n",
    "from User import *\n",
    "from Link import *\n",
    "from Job import *\n",
    "from Migration_Plans import *\n",
    "from Cost_Recordings import *\n",
    "\n",
    "from sim1_setting import *\n",
    "\n",
    "# Import Solver Classes\n",
    "from Optim_PlanGenerator import *\n",
    "from SeqGreedy_PlanGenerator import *\n",
    "from Myopic_PlanGenerator import *\n",
    "from Naive_PlanGenerator import *"
   ]
  },
  {
   "cell_type": "markdown",
   "metadata": {},
   "source": [
    "### Run 10 Trials\n",
    "\n",
    "Iteratively run trials x 10 and store the cost data for each the ILP and the SG models."
   ]
  },
  {
   "cell_type": "code",
   "execution_count": 2,
   "metadata": {},
   "outputs": [
    {
     "name": "stdout",
     "output_type": "stream",
     "text": [
      "Trial Number: 0\n",
      "Generating Optim_Prob...\n"
     ]
    },
    {
     "name": "stderr",
     "output_type": "stream",
     "text": [
      "/home/tkim/anaconda3/lib/python3.8/site-packages/pulp/pulp.py:1198: UserWarning: Spaces are not permitted in the name. Converted to '_'\n",
      "  warnings.warn(\"Spaces are not permitted in the name. Converted to '_'\")\n"
     ]
    },
    {
     "name": "stdout",
     "output_type": "stream",
     "text": [
      "Finished_Generating_prob...\n",
      "Status: Optimal\n",
      "Struck Placement Resource (j,s,t): 2 1 0\n",
      "Struck Placement Resource (j,s,t): 2 1 1\n",
      "Struck Placement Resource (j,s,t): 2 1 2\n",
      "Struck Placement Resource (j,s,t): 2 1 3\n",
      "Struck Placement Resource (j,s,t): 2 1 4\n",
      "Struck Placement Resource (j,s,t): 3 1 0\n",
      "Struck Placement Resource (j,s,t): 3 1 1\n",
      "Struck Placement Resource (j,s,t): 3 1 2\n",
      "Struck Placement Resource (j,s,t): 3 1 3\n",
      "Struck Placement Resource (j,s,t): 3 1 4\n",
      "Trial Number: 1\n",
      "Generating Optim_Prob...\n",
      "Finished_Generating_prob...\n",
      "Status: Optimal\n",
      "Struck Placement Resource (j,s,t): 5 3 0\n",
      "Struck Placement Resource (j,s,t): 5 3 1\n",
      "Struck Placement Resource (j,s,t): 5 3 2\n",
      "Struck Placement Resource (j,s,t): 5 3 3\n",
      "Struck Placement Resource (j,s,t): 5 3 4\n",
      "Trial Number: 2\n",
      "Generating Optim_Prob...\n",
      "Finished_Generating_prob...\n",
      "Status: Optimal\n",
      "Struck Placement Resource (j,s,t): 5 1 1\n"
     ]
    }
   ],
   "source": [
    "num_trials = 3\n",
    "ILP_cost_stores = []\n",
    "SG_cost_stores = []\n",
    "\n",
    "for i in range(num_trials):\n",
    "    \n",
    "    print(\"Trial Number:\",i)\n",
    "    \n",
    "    # Make Users\n",
    "    users, servers, links, jobs, sim_param = simulation_setting('limited')\n",
    "    \n",
    "    # Make ILP and Optim Prob\n",
    "    print(\"Generating Optim_Prob...\")\n",
    "    optim_prob = Optim_PlanGenerator(users, servers, links, jobs, sim_param)\n",
    "    print(\"Finished_Generating_prob...\")\n",
    "    \n",
    "    # Solve the problem and get the migration plan \n",
    "    optim_prob.prob.solve()\n",
    "    print(\"Status:\", constants.LpStatus[optim_prob.prob.status])\n",
    "    ILP_mig_plan = Migration_Plans(users, jobs, sim_param) \n",
    "    ILP_mig_plan.from_ILP(optim_prob)\n",
    "    \n",
    "    ILP_cost_stores += [Cost_Recordings(ILP_mig_plan)]\n",
    "    \n",
    "    \n",
    "    # Make SG Prob\n",
    "    SG_prob = SeqGreedy_PlanGenerator(users, servers, links, jobs, sim_param)\n",
    "    SG_plan = Migration_Plans(users,jobs,sim_param)\n",
    "    SG_plan.from_seq_greedy(SG_prob)\n",
    "    \n",
    "    SG_cost_stores += [Cost_Recordings(SG_plan)]"
   ]
  },
  {
   "cell_type": "code",
   "execution_count": 3,
   "metadata": {},
   "outputs": [],
   "source": [
    "ILP_cost_stores_lim = ILP_cost_stores\n",
    "SG_cost_stores_lim = SG_cost_stores"
   ]
  },
  {
   "cell_type": "markdown",
   "metadata": {},
   "source": [
    "Run For ample resources."
   ]
  },
  {
   "cell_type": "code",
   "execution_count": 4,
   "metadata": {},
   "outputs": [
    {
     "name": "stdout",
     "output_type": "stream",
     "text": [
      "Trial Number: 0\n",
      "Generating Optim_Prob...\n",
      "Finished_Generating_prob...\n",
      "Status: Optimal\n",
      "Trial Number: 1\n",
      "Generating Optim_Prob...\n",
      "Finished_Generating_prob...\n",
      "Status: Optimal\n",
      "Trial Number: 2\n",
      "Generating Optim_Prob...\n",
      "Finished_Generating_prob...\n",
      "Status: Optimal\n"
     ]
    }
   ],
   "source": [
    "num_trials = 3\n",
    "ILP_cost_stores = []\n",
    "SG_cost_stores = []\n",
    "\n",
    "for i in range(num_trials):\n",
    "    \n",
    "    print(\"Trial Number:\",i)\n",
    "    \n",
    "    # Make Users\n",
    "    users, servers, links, jobs, sim_param = simulation_setting('ample')\n",
    "    \n",
    "    # Make ILP and Optim Prob\n",
    "    print(\"Generating Optim_Prob...\")\n",
    "    optim_prob = Optim_PlanGenerator(users, servers, links, jobs, sim_param)\n",
    "    print(\"Finished_Generating_prob...\")\n",
    "    \n",
    "    # Solve the problem and get the migration plan \n",
    "    optim_prob.prob.solve()\n",
    "    print(\"Status:\", constants.LpStatus[optim_prob.prob.status])\n",
    "    ILP_mig_plan = Migration_Plans(users, jobs, sim_param) \n",
    "    ILP_mig_plan.from_ILP(optim_prob)\n",
    "    \n",
    "    ILP_cost_stores += [Cost_Recordings(ILP_mig_plan)]\n",
    "    \n",
    "    \n",
    "    # Make SG Prob\n",
    "    SG_prob = SeqGreedy_PlanGenerator(users, servers, links, jobs, sim_param)\n",
    "    SG_plan = Migration_Plans(users,jobs,sim_param)\n",
    "    SG_plan.from_seq_greedy(SG_prob)\n",
    "    \n",
    "    SG_cost_stores += [Cost_Recordings(SG_plan)]"
   ]
  },
  {
   "cell_type": "code",
   "execution_count": 5,
   "metadata": {},
   "outputs": [],
   "source": [
    "ILP_cost_stores_ample = ILP_cost_stores\n",
    "SG_cost_stores_ample = SG_cost_stores"
   ]
  },
  {
   "cell_type": "markdown",
   "metadata": {},
   "source": [
    "### Plot the average or total cost and subcost\n",
    "\n",
    "8 bars in total one for ILP one for SG\n",
    "- Total Cost\n",
    "- Placement cost\n",
    "- Bandwidth Cost\n",
    "- User Experience Cost"
   ]
  },
  {
   "cell_type": "code",
   "execution_count": 6,
   "metadata": {},
   "outputs": [],
   "source": [
    "num_trials = len(ILP_cost_stores)\n",
    "\n",
    "# Log the costs of interest\n",
    "ILP_total_sum_lim = np.zeros(num_trials)\n",
    "ILP_placement_sum_lim = np.zeros(num_trials)\n",
    "ILP_bw_sum_lim = np.zeros(num_trials)\n",
    "ILP_UE_sum_lim = np.zeros(num_trials)\n",
    "\n",
    "SG_total_sum_lim = np.zeros(num_trials)\n",
    "SG_placement_sum_lim = np.zeros(num_trials)\n",
    "SG_bw_sum_lim = np.zeros(num_trials)\n",
    "SG_UE_sum_lim = np.zeros(num_trials)\n",
    "\n",
    "ILP_total_sum_ample = np.zeros(num_trials)\n",
    "ILP_placement_sum_ample = np.zeros(num_trials)\n",
    "ILP_bw_sum_ample = np.zeros(num_trials)\n",
    "ILP_UE_sum_ample = np.zeros(num_trials)\n",
    "\n",
    "SG_total_sum_ample = np.zeros(num_trials)\n",
    "SG_placement_sum_ample = np.zeros(num_trials)\n",
    "SG_bw_sum_ample = np.zeros(num_trials)\n",
    "SG_UE_sum_ample = np.zeros(num_trials)\n",
    "\n",
    "\n",
    "for i in range(num_trials):\n",
    "    ILP_total_sum_lim[i] += ILP_cost_stores_lim[i].all_cost_cumulative[\"total_cost\"][-1]\n",
    "    ILP_placement_sum_lim[i] += ILP_cost_stores_lim[i].all_cost_cumulative[\"placement_cost\"][-1]\n",
    "    ILP_bw_sum_lim[i] += ILP_cost_stores_lim[i].all_cost_cumulative[\"srv_bw_cost\"][-1]\n",
    "    ILP_bw_sum_lim[i] += ILP_cost_stores_lim[i].all_cost_cumulative[\"mig_bw_cost\"][-1]\n",
    "    ILP_UE_sum_lim[i] += ILP_cost_stores_lim[i].all_cost_cumulative[\"thruput_cost\"][-1]\n",
    "    ILP_UE_sum_lim[i] += ILP_cost_stores_lim[i].all_cost_cumulative[\"latency_cost\"][-1]\n",
    "    \n",
    "    SG_total_sum_lim[i] += SG_cost_stores_lim[i].all_cost_cumulative[\"total_cost\"][-1]\n",
    "    SG_placement_sum_lim[i] += SG_cost_stores_lim[i].all_cost_cumulative[\"placement_cost\"][-1]\n",
    "    SG_bw_sum_lim[i] += SG_cost_stores_lim[i].all_cost_cumulative[\"srv_bw_cost\"][-1]\n",
    "    SG_bw_sum_lim[i] += SG_cost_stores_lim[i].all_cost_cumulative[\"mig_bw_cost\"][-1]\n",
    "    SG_UE_sum_lim[i] += SG_cost_stores_lim[i].all_cost_cumulative[\"thruput_cost\"][-1]\n",
    "    SG_UE_sum_lim[i] += SG_cost_stores_lim[i].all_cost_cumulative[\"latency_cost\"][-1]\n",
    "    \n",
    "    ILP_total_sum_ample[i] += ILP_cost_stores[i].all_cost_cumulative[\"total_cost\"][-1]\n",
    "    ILP_placement_sum_ample[i] += ILP_cost_stores[i].all_cost_cumulative[\"placement_cost\"][-1]\n",
    "    ILP_bw_sum_ample[i] += ILP_cost_stores[i].all_cost_cumulative[\"srv_bw_cost\"][-1]\n",
    "    ILP_bw_sum_ample[i] += ILP_cost_stores[i].all_cost_cumulative[\"mig_bw_cost\"][-1]\n",
    "    ILP_UE_sum_ample[i] += ILP_cost_stores[i].all_cost_cumulative[\"thruput_cost\"][-1]\n",
    "    ILP_UE_sum_ample[i] += ILP_cost_stores[i].all_cost_cumulative[\"latency_cost\"][-1]\n",
    "    \n",
    "    SG_total_sum_ample[i] += SG_cost_stores_ample[i].all_cost_cumulative[\"total_cost\"][-1]\n",
    "    SG_placement_sum_ample[i] += SG_cost_stores_ample[i].all_cost_cumulative[\"placement_cost\"][-1]\n",
    "    SG_bw_sum_ample[i] += SG_cost_stores_ample[i].all_cost_cumulative[\"srv_bw_cost\"][-1]\n",
    "    SG_bw_sum_ample[i] += SG_cost_stores_ample[i].all_cost_cumulative[\"mig_bw_cost\"][-1]\n",
    "    SG_UE_sum_ample[i] += SG_cost_stores_ample[i].all_cost_cumulative[\"thruput_cost\"][-1]\n",
    "    SG_UE_sum_ample[i] += SG_cost_stores_ample[i].all_cost_cumulative[\"latency_cost\"][-1]\n",
    "\n"
   ]
  },
  {
   "cell_type": "code",
   "execution_count": 8,
   "metadata": {},
   "outputs": [
    {
     "data": {
      "image/png": "[encoded data removed]",
      "text/plain": [
       "<Figure size 432x288 with 1 Axes>"
      ]
     },
     "metadata": {
      "needs_background": "light"
     },
     "output_type": "display_data"
    }
   ],
   "source": [
    "# Plot the plot\n",
    "import matplotlib\n",
    "import matplotlib.pyplot as plt\n",
    "\n",
    "# Set Font Size Limitations\n",
    "font = {'family' : 'normal',\n",
    "        'weight' : 'normal',\n",
    "        'size'   : 17}\n",
    "\n",
    "matplotlib.rc('font', **font)\n",
    "\n",
    "# Set Labels\n",
    "labels = ['Total', 'Placement', 'BW', 'UE']\n",
    "\n",
    "# Obtain Values to Plot\n",
    "ILP_means_lim = [np.mean(ILP_total_sum_lim), np.mean(ILP_placement_sum_lim), np.mean(ILP_bw_sum_lim), np.mean(ILP_UE_sum_lim)]\n",
    "SG_means_lim = [np.mean(SG_total_sum_lim), np.mean(SG_placement_sum_lim), np.mean(SG_bw_sum_lim), np.mean(SG_UE_sum_lim)]\n",
    "\n",
    "ILP_vars_lim = [np.std(ILP_total_sum_lim), np.std(ILP_placement_sum_lim), np.std(ILP_bw_sum_lim), np.std(ILP_UE_sum_lim)]\n",
    "SG_vars_lim = [np.std(SG_total_sum_lim), np.std(SG_placement_sum_lim), np.std(SG_bw_sum_lim), np.std(SG_UE_sum_lim)]\n",
    "\n",
    "ILP_means_ample = [np.mean(ILP_total_sum_ample), np.mean(ILP_placement_sum_ample), np.mean(ILP_bw_sum_ample), np.mean(ILP_UE_sum_ample)]\n",
    "# SG_means_ample = ILP_means_ample\n",
    "SG_means_ample = [np.mean(SG_total_sum_ample), np.mean(SG_placement_sum_ample), np.mean(SG_bw_sum_ample), np.mean(SG_UE_sum_ample)]\n",
    "\n",
    "ILP_vars_ample = [np.std(ILP_total_sum_ample), np.std(ILP_placement_sum_ample), np.std(ILP_bw_sum_ample), np.std(ILP_UE_sum_ample)]\n",
    "SG_vars_ample = [np.std(SG_total_sum_ample), np.std(SG_placement_sum_ample), np.std(SG_bw_sum_ample), np.std(SG_UE_sum_ample)]\n",
    "#SG_vars_ample = ILP_vars_ample\n",
    "\n",
    "x = np.arange(len(labels))  # the label locations\n",
    "width = 0.35  # the width of the bars\n",
    "\n",
    "fig, ax = plt.subplots()\n",
    "rects1 = ax.bar(x = x - width/2, height =  ILP_means_lim, yerr = ILP_vars_lim,\n",
    "                capsize = 5, width = width/3, label='ILP Lim', color='orange')\n",
    "rects2 = ax.bar(x = x - width/6, height = SG_means_lim, yerr = SG_vars_lim, \n",
    "                capsize = 5, width = width/3, label='SG Lim', color = 'green')\n",
    "rects3 = ax.bar(x = x + width/6, height =  ILP_means_ample, yerr = ILP_vars_ample,\n",
    "                capsize = 5, width = width/3, label='ILP Ample', color='orange',hatch='//')\n",
    "rects4 = ax.bar(x = x + width/2, height = SG_means_ample, yerr = SG_vars_ample, \n",
    "                capsize = 5, width = width/3, label='SG Ample', color = 'green',hatch='//')\n",
    "\n",
    "# Add some text for labels, title and custom x-axis tick labels, etc.\n",
    "ax.set_ylabel('Monetary Cost (Dollars)')\n",
    "ax.set_title('ILP and Seq-Greedy Sub-Cost')\n",
    "ax.set_xticks(x)\n",
    "ax.set_xticklabels(labels)\n",
    "ax.legend()\n",
    "\n",
    "# Set Y axis to zero\n",
    "plt.ylim(0,)\n",
    "\n",
    "fig.tight_layout()\n",
    "\n",
    "plt.show()"
   ]
  },
  {
   "cell_type": "markdown",
   "metadata": {},
   "source": [
    "### Pickle Result for Reproduction"
   ]
  },
  {
   "cell_type": "code",
   "execution_count": 14,
   "metadata": {},
   "outputs": [],
   "source": [
    "import pickle\n",
    "\n",
    "cost_stores_dic = {}\n",
    "cost_stores_dic[\"SG\"] = SG_cost_stores\n",
    "cost_stores_dic[\"ILP\"] = ILP_cost_stores\n",
    "\n",
    "pickle.dump(cost_stores_dic, open(os.path.curdir + \"/sim_store/sim1/cost_store_v5.p\", \"wb\" ) )\n",
    "\n"
   ]
  },
  {
   "cell_type": "code",
   "execution_count": null,
   "metadata": {},
   "outputs": [],
   "source": []
  }
 ],
 "metadata": {
  "kernelspec": {
   "display_name": "Python 3",
   "language": "python",
   "name": "python3"
  },
  "language_info": {
   "codemirror_mode": {
    "name": "ipython",
    "version": 3
   },
   "file_extension": ".py",
   "mimetype": "text/x-python",
   "name": "python",
   "nbconvert_exporter": "python",
   "pygments_lexer": "ipython3",
   "version": "3.8.3"
  }
 },
 "nbformat": 4,
 "nbformat_minor": 2
}
