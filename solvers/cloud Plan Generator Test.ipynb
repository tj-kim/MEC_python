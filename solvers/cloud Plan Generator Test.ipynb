{
 "cells": [
  {
   "cell_type": "markdown",
   "metadata": {},
   "source": [
    "# Cloud Plan Generator Test\n",
    "\n",
    "TJ Kim \n",
    "\n",
    "8/12/20\n",
    "\n",
    "Make a new baseline/heuristic that uses seq greedy and pushes guys to the cloud."
   ]
  },
  {
   "cell_type": "code",
   "execution_count": 1,
   "metadata": {},
   "outputs": [],
   "source": [
    "from IPython.core.debugger import set_trace\n",
    "\n",
    "# Import Generic Classes\n",
    "import numpy as np\n",
    "import copy\n",
    "import pickle\n",
    "import random\n",
    "\n",
    "# Import All Custom Classes\n",
    "import os, sys\n",
    "sys.path.append(os.path.pardir+\"/classes\")\n",
    "sys.path.append(os.path.pardir+\"/simulations/sim_store\")\n",
    "\n",
    "from Server import *\n",
    "from User import *\n",
    "from Link import *\n",
    "from Job import *\n",
    "from Migration_Plans import *\n",
    "\n",
    "from simulation_setting import *\n",
    "\n",
    "# Import Solver Classes\n",
    "from Optim_PlanGenerator import *\n",
    "from SeqGreedy_PlanGenerator import *\n",
    "from Naive_PlanGenerator import *\n",
    "from Myopic_PlanGenerator import *\n",
    "from Cloud_PlanGenerator import *"
   ]
  },
  {
   "cell_type": "code",
   "execution_count": 2,
   "metadata": {},
   "outputs": [],
   "source": [
    "users, servers, links, jobs, sim_param = simulation_setting()"
   ]
  },
  {
   "cell_type": "code",
   "execution_count": 7,
   "metadata": {},
   "outputs": [],
   "source": [
    "M_prob = Myopic_PlanGenerator(users, servers, links, jobs, sim_param)\n",
    "M_plan = Migration_Plans(users,jobs,sim_param)\n",
    "M_plan.from_seq_greedy(M_prob)"
   ]
  },
  {
   "cell_type": "code",
   "execution_count": 8,
   "metadata": {},
   "outputs": [
    {
     "data": {
      "text/plain": [
       "{0: {'time_slot': array([0., 1., 2., 3., 4., 5., 6., 7., 8., 9.]),\n",
       "  'user_active_flag': array([1., 1., 1., 1., 1., 0., 0., 0., 0., 0.]),\n",
       "  'user_voronoi': array([2., 1., 1., 4., 2., 2., 2., 2., 3., 3.]),\n",
       "  'source_server': array([ 2.,  2.,  1.,  1.,  4., -1., -1., -1., -1., -1.]),\n",
       "  'dest_server': array([ 2.,  1.,  1.,  4.,  4., -1., -1., -1., -1., -1.]),\n",
       "  'mig_rate': array([0., 1., 0., 1., 0., 0., 0., 0., 0., 0.]),\n",
       "  'mig_link_id': array([0., 0., 0., 0., 0., 0., 0., 0., 0., 0.]),\n",
       "  'service_link_id': array([-1.,  0., -1.,  0.,  0., -1., -1., -1., -1., -1.]),\n",
       "  'service_thruput': array([0.        , 0.05968389, 0.        , 0.05968389, 0.05968389,\n",
       "         0.        , 0.        , 0.        , 0.        , 0.        ]),\n",
       "  'latency': array([ 0.        , 25.22942143,  0.        , 50.87445189, 38.89719898,\n",
       "          0.        ,  0.        ,  0.        ,  0.        ,  0.        ])}}"
      ]
     },
     "execution_count": 8,
     "metadata": {},
     "output_type": "execute_result"
    }
   ],
   "source": [
    "M_plan.mig_plan_dict"
   ]
  },
  {
   "cell_type": "code",
   "execution_count": null,
   "metadata": {},
   "outputs": [],
   "source": []
  }
 ],
 "metadata": {
  "kernelspec": {
   "display_name": "Python 3",
   "language": "python",
   "name": "python3"
  },
  "language_info": {
   "codemirror_mode": {
    "name": "ipython",
    "version": 3
   },
   "file_extension": ".py",
   "mimetype": "text/x-python",
   "name": "python",
   "nbconvert_exporter": "python",
   "pygments_lexer": "ipython3",
   "version": "3.7.4"
  }
 },
 "nbformat": 4,
 "nbformat_minor": 2
}
