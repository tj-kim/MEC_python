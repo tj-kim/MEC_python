{
 "cells": [
  {
   "cell_type": "markdown",
   "metadata": {},
   "source": [
    "# Pickle Integer Linear Programming Problem\n",
    "TJ Kim \n",
    "6/22/20\n",
    "\n",
    "Take the existing optimization class regarding the ILP. Currently, the ILP takes too long to generate, especially the objective function. Therefore, we will generate the ILP beforehand (with no specific users and such) and save it. Then we can overwrite the users at run time.\n",
    "\n",
    "The setting for the simulation will be as such\n",
    "5 users,\n",
    "5 servers (2 level 1, 2 level 2, 1 level 3)\n",
    "6 time steps\n",
    "\n",
    "This will take a long time to generate..."
   ]
  },
  {
   "cell_type": "code",
   "execution_count": 19,
   "metadata": {},
   "outputs": [
    {
     "ename": "SyntaxError",
     "evalue": "invalid syntax (Migration_Plans.py, line 65)",
     "output_type": "error",
     "traceback": [
      "Traceback \u001b[0;36m(most recent call last)\u001b[0m:\n",
      "  File \u001b[1;32m\"/home/tkim/miniconda3/lib/python3.7/site-packages/IPython/core/interactiveshell.py\"\u001b[0m, line \u001b[1;32m3326\u001b[0m, in \u001b[1;35mrun_code\u001b[0m\n    exec(code_obj, self.user_global_ns, self.user_ns)\n",
      "\u001b[0;36m  File \u001b[0;32m\"<ipython-input-19-b6ed9dfa9119>\"\u001b[0;36m, line \u001b[0;32m15\u001b[0;36m, in \u001b[0;35m<module>\u001b[0;36m\u001b[0m\n\u001b[0;31m    from Migration_Plans import *\u001b[0m\n",
      "\u001b[0;36m  File \u001b[0;32m\"../classes/Migration_Plans.py\"\u001b[0;36m, line \u001b[0;32m65\u001b[0m\n\u001b[0;31m    for h_key in ILP_prob.h\u001b[0m\n\u001b[0m                           ^\u001b[0m\n\u001b[0;31mSyntaxError\u001b[0m\u001b[0;31m:\u001b[0m invalid syntax\n"
     ]
    }
   ],
   "source": [
    "# Import Generic Classes\n",
    "import numpy as np\n",
    "import copy\n",
    "import pickle\n",
    "\n",
    "# Import All Custom Classes\n",
    "import os, sys\n",
    "sys.path.append(os.path.pardir+\"/classes\")\n",
    "\n",
    "from Server import *\n",
    "from User import *\n",
    "from Link import *\n",
    "from Job import *\n",
    "\n",
    "from Migration_Plans import *\n",
    "\n",
    "# Import Solver Classes\n",
    "from Optim_PlanGenerator import *"
   ]
  },
  {
   "cell_type": "markdown",
   "metadata": {},
   "source": [
    "### Make Simulation Environment and Create Job, Server, Users"
   ]
  },
  {
   "cell_type": "code",
   "execution_count": 3,
   "metadata": {},
   "outputs": [],
   "source": [
    "\"\"\"\n",
    "Make Simulation Parameters\n",
    "\"\"\"\n",
    "sim_param = Sim_Params(time_steps=6, x_length = 5, y_length = 5, max_edge_length=5)\n",
    "boundaries = np.array([[0,sim_param.x_length],[0,sim_param.y_length]])\n",
    "\n",
    "\n",
    "\"\"\"\n",
    "Make Job Profiles\n",
    "\"\"\"\n",
    "# REsources used are CPU (no. cores) storage (GB), and RAM (GB)\n",
    "# througput is in mb/s\n",
    "# Latency is in ms\n",
    "\n",
    "job_profile1 = Job_Profile(job_name = \"VR\",\n",
    "                           latency_req_range=[25, 40], \n",
    "                           thruput_req_range=[50/1000, 200/1000], \n",
    "                           length_range=[sim_param.time_steps,sim_param.time_steps],  \n",
    "                           placement_rsrc_range = np.array([[2,3],[8,16],[2,5]]),\n",
    "                           migration_amt_range = [5, 10],\n",
    "                           latency_penalty_range = [0.05, 0.1]) \n",
    "\n",
    "job_profile2 = Job_Profile(job_name = \"Assistant\",\n",
    "                           latency_req_range=[100, 200],\n",
    "                           thruput_req_range=[5/1000, 20/1000],\n",
    "                           length_range=[sim_param.time_steps,sim_param.time_steps],\n",
    "                           placement_rsrc_range = np.array([[1,1],[0.5,1],[0.5,1]]),\n",
    "                           migration_amt_range = [0.5, 1],\n",
    "                           latency_penalty_range = [0.01, 0.05])\n",
    "\n",
    "job_profile3 = Job_Profile(job_name = \"AR\",\n",
    "                           latency_req_range=[50, 80], \n",
    "                           thruput_req_range=[20/1000, 50/1000],\n",
    "                           length_range=[sim_param.time_steps,sim_param.time_steps],\n",
    "                           placement_rsrc_range = np.array([[1,2],[2,4],[1,2]]),\n",
    "                           migration_amt_range = [2, 3],\n",
    "                           latency_penalty_range = [0.03, 0.08])\n",
    "\n",
    "job_profiles = [job_profile1, job_profile2, job_profile3]\n",
    "\n",
    "\n",
    "\"\"\"\n",
    "Make Servers\n",
    "\"\"\"\n",
    "\n",
    "# Server Settings\n",
    "num_server_l1 = 2\n",
    "num_server_l2 = 2\n",
    "num_server_l3 = 1\n",
    "\n",
    "num_resource = 3\n",
    "weak_range = np.array([[4,8],[1000,1500],[4,16]])\n",
    "strong_range = np.array([[50,100],[100000,150000],[300,600]])\n",
    "\n",
    "rsrc_cost = np.array([0.03, 0.01, 0.05])\n",
    "rsrc_cost_scale_lv1 = 2\n",
    "rsrc_cost_scale_lv2 = 1.5\n",
    "rsrc_cost_scale_lv3 = 1\n",
    "\n",
    "# Generate Server\n",
    "servers_l1 = []\n",
    "servers_l2 = []\n",
    "servers_l3 = []\n",
    "idx_counter = 0\n",
    "\n",
    "for i in range(num_server_l1):\n",
    "    servers_l1.append(Server(boundaries,level=1,rand_locs=True,locs=None))\n",
    "    servers_l1[-1].server_resources(num_resource, weak_range, strong_range)\n",
    "    servers_l1[-1].assign_id(idx_counter)\n",
    "    servers_l1[-1].server_resources_cost(num_resource,rsrc_cost*rsrc_cost_scale_lv1)\n",
    "    idx_counter += 1\n",
    "    \n",
    "for i in range(num_server_l2):\n",
    "    servers_l2.append(Server(boundaries,level=2,rand_locs=True,locs=None))\n",
    "    servers_l2[-1].server_resources(num_resource, weak_range, strong_range)\n",
    "    servers_l2[-1].assign_id(idx_counter)\n",
    "    servers_l2[-1].server_resources_cost(num_resource,rsrc_cost*rsrc_cost_scale_lv2)\n",
    "    idx_counter += 1\n",
    "    \n",
    "for i in range(num_server_l3):\n",
    "    servers_l3.append(Server(boundaries,level=3,rand_locs=False,locs=np.array([200,200])))\n",
    "    servers_l3[-1].server_resources(num_resource, weak_range, strong_range)\n",
    "    servers_l3[-1].assign_id(idx_counter)\n",
    "    servers_l3[-1].server_resources_cost(num_resource,rsrc_cost*rsrc_cost_scale_lv3)\n",
    "    idx_counter += 1\n",
    "    \n",
    "servers = servers_l1 + servers_l2 + servers_l3\n",
    "\n",
    "\n",
    "\"\"\"\n",
    "Make Links\n",
    "\"\"\"\n",
    "\n",
    "# Link Settings\n",
    "num_link = [0,1,2,3]\n",
    "prob_link = [0.5,0.2,0.2,0.1]\n",
    "lv_minmax = np.array(([[500,1000],[10000,20000],[30000,50000]]))\n",
    "lv1_transmission = 1\n",
    "link_costs = np.array([0.05, 0.02, 0.01])\n",
    "latency_settings = [10, 1] #[ms per switch, ms per mile]\n",
    "\n",
    "links = Link(servers, num_link, prob_link, lv_minmax, link_costs, latency_settings,lv1_transmission)\n",
    "\n",
    "\n",
    "\"\"\"\n",
    "Make Users\n",
    "\"\"\"\n",
    "\n",
    "# User Settings\n",
    "num_user_m0 = 2 # Pedestrian\n",
    "num_user_m1 = 2 # Public Transport\n",
    "num_user_m2 = 1 # Vehicle\n",
    "\n",
    "max_speed = 2.5\n",
    "lamdas = [1/0.25,1/0.83,1/1.67] # 3 mph, 10 mph, 20 mph\n",
    "num_path = 10\n",
    "\n",
    "# Generate Server\n",
    "users_m0 = []\n",
    "users_m1 = []\n",
    "users_m2 = []\n",
    "idx_counter = 0\n",
    "\n",
    "for i in range(num_user_m0):\n",
    "    users_m0 += [User(boundaries, sim_param.time_steps, 0, lamdas, max_speed, num_path)]\n",
    "    users_m0[-1].generate_MC(servers)\n",
    "    users_m0[-1].assign_id(idx_counter)\n",
    "    idx_counter += 1\n",
    "    \n",
    "for i in range(num_user_m1):\n",
    "    users_m1 += [User(boundaries, sim_param.time_steps, 1, lamdas, max_speed, 1)]\n",
    "    users_m1[-1].generate_MC(servers)\n",
    "    users_m1[-1].assign_id(idx_counter)\n",
    "    idx_counter += 1\n",
    "\n",
    "for i in range(num_user_m2):\n",
    "    users_m2 += [User(boundaries, sim_param.time_steps, 2, lamdas, max_speed, num_path)]\n",
    "    users_m2[-1].generate_MC(servers)\n",
    "    users_m2[-1].assign_id(idx_counter)\n",
    "    idx_counter += 1\n",
    "\n",
    "users = users_m0 + users_m1 + users_m2\n",
    "    \n",
    "    \n",
    "\"\"\"\n",
    "Make Jobs\n",
    "- \"I'm just going to do it\"\n",
    "\"\"\"\n",
    "\n",
    "# Job settings\n",
    "job_type0 = 2 # VR\n",
    "job_type1 = 2 # Assistant\n",
    "job_type2 = 1 # AR\n",
    "\n",
    "jobs0 = []\n",
    "jobs1 = []\n",
    "jobs2 = []\n",
    "idx_counter = 0\n",
    "\n",
    "total_job_count = job_type0+job_type1+job_type2\n",
    "draw_job_id = np.random.choice(total_job_count, total_job_count, replace=False)\n",
    "\n",
    "for i in range(job_type0):\n",
    "    jobs0 += [Job(job_type = 0,\n",
    "                  user_id = draw_job_id[idx_counter],\n",
    "                  time_steps=sim_param.time_steps,\n",
    "                  job_profiles = job_profiles)]\n",
    "    idx_counter += 1\n",
    "    \n",
    "for i in range(job_type1):\n",
    "    jobs1 += [Job(job_type = 1,\n",
    "                  user_id = draw_job_id[idx_counter],\n",
    "                  time_steps=sim_param.time_steps,\n",
    "                  job_profiles = job_profiles)]\n",
    "    idx_counter += 1\n",
    "    \n",
    "for i in range(job_type2):\n",
    "    jobs2 += [Job(job_type = 2,\n",
    "                  user_id = draw_job_id[idx_counter],\n",
    "                  time_steps=sim_param.time_steps,\n",
    "                  job_profiles=job_profiles)]\n",
    "    idx_counter += 1\n",
    "    \n",
    "jobs = jobs0 + jobs1 + jobs2"
   ]
  },
  {
   "cell_type": "markdown",
   "metadata": {},
   "source": [
    "### Generate ILP Problem and Pickle it"
   ]
  },
  {
   "cell_type": "code",
   "execution_count": 13,
   "metadata": {},
   "outputs": [],
   "source": [
    "file = open('pickled_5usr_5svr_6ts', 'wb')"
   ]
  },
  {
   "cell_type": "code",
   "execution_count": 14,
   "metadata": {},
   "outputs": [],
   "source": [
    "optim_prob = Optim_PlanGenerator(users, servers, links, jobs, sim_param)"
   ]
  },
  {
   "cell_type": "code",
   "execution_count": 15,
   "metadata": {},
   "outputs": [],
   "source": [
    "pickle.dump(optim_prob, file)\n",
    "file.close()"
   ]
  },
  {
   "cell_type": "code",
   "execution_count": 17,
   "metadata": {},
   "outputs": [
    {
     "data": {
      "text/plain": [
       "1"
      ]
     },
     "execution_count": 17,
     "metadata": {},
     "output_type": "execute_result"
    }
   ],
   "source": [
    "optim_prob.prob.solve()"
   ]
  },
  {
   "cell_type": "code",
   "execution_count": 18,
   "metadata": {},
   "outputs": [
    {
     "ename": "NameError",
     "evalue": "name 'Migration_Plans' is not defined",
     "output_type": "error",
     "traceback": [
      "\u001b[0;31m---------------------------------------------------------------------------\u001b[0m",
      "\u001b[0;31mNameError\u001b[0m                                 Traceback (most recent call last)",
      "\u001b[0;32m<ipython-input-18-f8c91a474c96>\u001b[0m in \u001b[0;36m<module>\u001b[0;34m\u001b[0m\n\u001b[0;32m----> 1\u001b[0;31m \u001b[0mILP_mig_plan\u001b[0m \u001b[0;34m=\u001b[0m \u001b[0mMigration_Plans\u001b[0m\u001b[0;34m(\u001b[0m\u001b[0musers\u001b[0m\u001b[0;34m,\u001b[0m \u001b[0mjobs\u001b[0m\u001b[0;34m,\u001b[0m \u001b[0msim_param\u001b[0m\u001b[0;34m)\u001b[0m\u001b[0;34m\u001b[0m\u001b[0;34m\u001b[0m\u001b[0m\n\u001b[0m",
      "\u001b[0;31mNameError\u001b[0m: name 'Migration_Plans' is not defined"
     ]
    }
   ],
   "source": [
    "ILP_mig_plan = Migration_Plans(users, jobs, sim_param) "
   ]
  },
  {
   "cell_type": "code",
   "execution_count": null,
   "metadata": {},
   "outputs": [],
   "source": []
  }
 ],
 "metadata": {
  "kernelspec": {
   "display_name": "Python 3",
   "language": "python",
   "name": "python3"
  },
  "language_info": {
   "codemirror_mode": {
    "name": "ipython",
    "version": 3
   },
   "file_extension": ".py",
   "mimetype": "text/x-python",
   "name": "python",
   "nbconvert_exporter": "python",
   "pygments_lexer": "ipython3",
   "version": "3.7.4"
  }
 },
 "nbformat": 4,
 "nbformat_minor": 2
}
