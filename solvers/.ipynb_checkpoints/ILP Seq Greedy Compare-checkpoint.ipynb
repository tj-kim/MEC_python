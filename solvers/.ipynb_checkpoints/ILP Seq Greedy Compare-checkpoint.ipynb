{
 "cells": [
  {
   "cell_type": "markdown",
   "metadata": {},
   "source": [
    "# ILP and Seq-Greedy Compare\n",
    "\n",
    "The two are leading to very different results given ample resources.\n",
    "We will assume that dijkstra's algorithm works properly in the SEQ greedy case, and examine a simple scenario and see if the weights line up."
   ]
  },
  {
   "cell_type": "code",
   "execution_count": 1,
   "metadata": {},
   "outputs": [],
   "source": [
    "# Import Generic Classes\n",
    "import numpy as np\n",
    "import copy\n",
    "\n",
    "# Import All Custom Classes\n",
    "import os, sys\n",
    "sys.path.append(os.path.pardir+\"/classes\")\n",
    "\n",
    "from Server import *\n",
    "from User import *\n",
    "from Link import *\n",
    "from Job import *\n",
    "from Migration_Plans import *\n",
    "\n",
    "\n",
    "# Import Solver Classes\n",
    "from Optim_PlanGenerator import *\n",
    "from SeqGreedy_PlanGenerator import*"
   ]
  },
  {
   "cell_type": "code",
   "execution_count": 2,
   "metadata": {},
   "outputs": [],
   "source": [
    "\"\"\"\n",
    "Make Simulation Parameters\n",
    "\"\"\"\n",
    "sim_param = Sim_Params(time_steps=3, x_length = 5, y_length = 5, max_edge_length=2)\n",
    "boundaries = np.array([[0,sim_param.x_length],[0,sim_param.y_length]])\n",
    "\n",
    "\n",
    "\"\"\"\n",
    "Make Job Profiles\n",
    "\"\"\"\n",
    "# REsources used are CPU (no. cores) storage (GB), and RAM (GB)\n",
    "# througput is in mb/s\n",
    "# Latency is in ms\n",
    "\n",
    "job_profile1 = Job_Profile(job_name = \"VR\",\n",
    "                           latency_req_range=[0, 0], \n",
    "                           thruput_req_range=[1, 1], \n",
    "                           length_range=[3,3],  \n",
    "                           placement_rsrc_range = np.array([[1,1]]),\n",
    "                           migration_amt_range = [1, 1],\n",
    "                           latency_penalty_range = [1,1])#[0.05, 0.1]) \n",
    "\n",
    "\n",
    "job_profiles = [job_profile1]\n",
    "\n",
    "\n",
    "\"\"\"\n",
    "Make Servers\n",
    "\"\"\"\n",
    "\n",
    "# Server Settings\n",
    "num_server_l1 = 0\n",
    "num_server_l2 = 2\n",
    "num_server_l3 = 0\n",
    "\n",
    "num_resource = 1\n",
    "weak_range = np.array([[1000,1500]])\n",
    "strong_range = np.array([[100000,150000]])\n",
    "\n",
    "rsrc_cost = np.array([1])\n",
    "\n",
    "# Generate Server\n",
    "servers_l1 = []\n",
    "servers_l2 = []\n",
    "servers_l3 = []\n",
    "idx_counter = 0\n",
    "\n",
    "for i in range(num_server_l2):\n",
    "    servers_l2.append(Server(boundaries,level=2,rand_locs=True,locs=None))\n",
    "    servers_l2[-1].server_resources(num_resource, weak_range, strong_range)\n",
    "    servers_l2[-1].assign_id(idx_counter)\n",
    "    servers_l2[-1].server_resources_cost(num_resource,rsrc_cost)\n",
    "    idx_counter += 1\n",
    "    \n",
    "    \n",
    "servers = servers_l2 \n",
    "\n",
    "\n",
    "\"\"\"\n",
    "Make Links\n",
    "\"\"\"\n",
    "\n",
    "# Link Settings\n",
    "num_link = [0,1,2]\n",
    "prob_link = [0,1,0]\n",
    "lv_minmax = np.array(([[500,1000],[10000,20000],[30000,50000]]))\n",
    "lv1_transmission = 1\n",
    "link_costs = np.array([1, 1, 1])\n",
    "latency_settings = [1, 1] #[ms per switch, ms per mile]\n",
    "\n",
    "links = Link(servers, num_link, prob_link, lv_minmax, link_costs, latency_settings,lv1_transmission)\n",
    "\n",
    "\n",
    "\"\"\"\n",
    "Make Users\n",
    "\"\"\"\n",
    "\n",
    "# User Settings\n",
    "num_user_m0 = 0 # Pedestrian\n",
    "num_user_m1 = 0 # Public Transport\n",
    "num_user_m2 = 1 # Vehicle\n",
    "\n",
    "max_speed = 2.5\n",
    "lamdas = [1/0.25,1/0.83,1/1.67] # 3 mph, 10 mph, 20 mph\n",
    "num_path = 10\n",
    "\n",
    "# Generate Server\n",
    "users_m0 = []\n",
    "users_m1 = []\n",
    "users_m2 = []\n",
    "idx_counter = 0\n",
    "\n",
    "\n",
    "for i in range(num_user_m2):\n",
    "    users_m2 += [User(boundaries, sim_param.time_steps, 2, lamdas, max_speed, num_path)]\n",
    "    users_m2[-1].generate_MC(servers)\n",
    "    users_m2[-1].assign_id(idx_counter)\n",
    "    idx_counter += 1\n",
    "\n",
    "users = users_m2\n",
    "    \n",
    "    \n",
    "\"\"\"\n",
    "Make Jobs\n",
    "- \"I'm just going to do it\"\n",
    "\"\"\"\n",
    "\n",
    "# Job settings\n",
    "job_type0 = 1 # VR\n",
    "\n",
    "\n",
    "jobs0 = []\n",
    "idx_counter = 0\n",
    "\n",
    "total_job_count = job_type0\n",
    "draw_job_id = np.random.choice(total_job_count, total_job_count, replace=False)\n",
    "\n",
    "for i in range(job_type0):\n",
    "    jobs0 += [Job(job_type = 0,\n",
    "                  user_id = draw_job_id[idx_counter],\n",
    "                  time_steps=sim_param.time_steps,\n",
    "                  job_profiles = job_profiles)]\n",
    "    idx_counter += 1\n",
    "    \n",
    "jobs = jobs0 "
   ]
  },
  {
   "cell_type": "code",
   "execution_count": 3,
   "metadata": {},
   "outputs": [],
   "source": [
    "# Edit User Voronoi Characteristics\n",
    "users[0].server_prob = np.array([[1,1,0],[0,0,1]])\n",
    "users[0].user_voronoi_true = np.array([0,0,1])"
   ]
  },
  {
   "cell_type": "code",
   "execution_count": 4,
   "metadata": {},
   "outputs": [
    {
     "name": "stdout",
     "output_type": "stream",
     "text": [
      "Status: Optimal\n"
     ]
    }
   ],
   "source": [
    "# Make ILP and Optim Prob\n",
    "optim_prob = Optim_PlanGenerator(users, servers, links, jobs, sim_param)\n",
    "optim_prob.prob.solve()\n",
    "print(\"Status:\", constants.LpStatus[optim_prob.prob.status])"
   ]
  },
  {
   "cell_type": "code",
   "execution_count": 5,
   "metadata": {},
   "outputs": [],
   "source": [
    "ILP_mig_plan = Migration_Plans(users, jobs, sim_param) \n",
    "ILP_mig_plan.from_ILP(optim_prob)"
   ]
  },
  {
   "cell_type": "code",
   "execution_count": 6,
   "metadata": {},
   "outputs": [
    {
     "data": {
      "text/plain": [
       "{'time_slot': array([0., 1., 2.]),\n",
       " 'user_active_flag': array([1., 1., 1.]),\n",
       " 'user_voronoi': array([0., 0., 1.]),\n",
       " 'source_server': array([0., 0., 1.]),\n",
       " 'dest_server': array([0., 1., 1.]),\n",
       " 'mig_rate': array([0., 1., 0.]),\n",
       " 'mig_link_id': array([0., 0., 0.]),\n",
       " 'service_link_id': array([0., 0., 0.]),\n",
       " 'service_thruput': array([0., 0., 0.]),\n",
       " 'latency': array([0., 0., 0.])}"
      ]
     },
     "execution_count": 6,
     "metadata": {},
     "output_type": "execute_result"
    }
   ],
   "source": [
    "ILP_mig_plan.mig_plan_dict[0]"
   ]
  },
  {
   "cell_type": "code",
   "execution_count": 7,
   "metadata": {},
   "outputs": [
    {
     "name": "stdout",
     "output_type": "stream",
     "text": [
      "\n",
      "node 1 (0, 0) -> node 3 (0, 1)\n",
      "placement1: 1.0\n",
      "placement2: 0\n",
      "service bw: 0.0\n",
      "latency   : 0\n",
      "migration : [0]\n",
      "\n",
      "node 1 (0, 0) -> node 4 (1, 1)\n",
      "placement1: 1.0\n",
      "placement2: 1.0\n",
      "service bw: 1.0\n",
      "latency   : 2.430685205966931\n",
      "migration : [1.0]\n",
      "\n",
      "node 1 (0, 0) -> node 6 (1, 2)\n",
      "placement1: 2.0\n",
      "placement2: 2.0\n",
      "service bw: 0.0\n",
      "latency   : 0\n",
      "migration : [1.0]\n",
      "\n",
      "node 2 (1, 0) -> node 3 (0, 1)\n",
      "placement1: 1.0\n",
      "placement2: 1.0\n",
      "service bw: 0.0\n",
      "latency   : 0\n",
      "migration : [1.0]\n",
      "\n",
      "node 2 (1, 0) -> node 4 (1, 1)\n",
      "placement1: 1.0\n",
      "placement2: 0\n",
      "service bw: 1.0\n",
      "latency   : 2.430685205966931\n",
      "migration : [0]\n",
      "\n",
      "node 2 (1, 0) -> node 5 (0, 2)\n",
      "placement1: 2.0\n",
      "placement2: 2.0\n",
      "service bw: 2.0\n",
      "latency   : 4.861370411933862\n",
      "migration : [1.0]\n",
      "\n",
      "node 3 (0, 1) -> node 5 (0, 2)\n",
      "placement1: 1.0\n",
      "placement2: 0\n",
      "service bw: 1.0\n",
      "latency   : 2.430685205966931\n",
      "migration : [0]\n",
      "\n",
      "node 3 (0, 1) -> node 6 (1, 2)\n",
      "placement1: 1.0\n",
      "placement2: 1.0\n",
      "service bw: 0.0\n",
      "latency   : 0\n",
      "migration : [1.0]\n",
      "\n",
      "node 4 (1, 1) -> node 5 (0, 2)\n",
      "placement1: 1.0\n",
      "placement2: 1.0\n",
      "service bw: 1.0\n",
      "latency   : 2.430685205966931\n",
      "migration : [1.0]\n",
      "\n",
      "node 4 (1, 1) -> node 6 (1, 2)\n",
      "placement1: 1.0\n",
      "placement2: 0\n",
      "service bw: 0.0\n",
      "latency   : 0\n",
      "migration : [0]\n"
     ]
    }
   ],
   "source": [
    "# Seq Greedy\n",
    "SG_prob = SeqGreedy_PlanGenerator(users, servers, links, jobs, sim_param)\n",
    "node_num, link_num = SG_prob.dijkstra_j(j=0)\n",
    "SG_mig_plan = Migration_Plans(users, jobs, sim_param) \n",
    "SG_mig_plan.from_seq_greedy(SG_prob)"
   ]
  },
  {
   "cell_type": "code",
   "execution_count": 8,
   "metadata": {},
   "outputs": [],
   "source": [
    "SG_mig_plan.seq_greedy_plan_extract(node_orders=node_num, link_path_orders=link_num, job_num=0)"
   ]
  },
  {
   "cell_type": "code",
   "execution_count": 9,
   "metadata": {},
   "outputs": [
    {
     "data": {
      "text/plain": [
       "{'time_slot': array([0., 1., 2.]),\n",
       " 'user_active_flag': array([1., 1., 1.]),\n",
       " 'user_voronoi': array([0., 0., 1.]),\n",
       " 'source_server': array([0., 0., 1.]),\n",
       " 'dest_server': array([0., 1., 1.]),\n",
       " 'mig_rate': array([0., 1., 0.]),\n",
       " 'mig_link_id': array([0., 0., 0.]),\n",
       " 'service_link_id': array([0., 0., 0.]),\n",
       " 'service_thruput': array([0., 0., 0.]),\n",
       " 'latency': array([0., 0., 0.])}"
      ]
     },
     "execution_count": 9,
     "metadata": {},
     "output_type": "execute_result"
    }
   ],
   "source": [
    "SG_mig_plan.mig_plan_dict[0]"
   ]
  },
  {
   "cell_type": "code",
   "execution_count": 10,
   "metadata": {
    "scrolled": true
   },
   "outputs": [
    {
     "name": "stdout",
     "output_type": "stream",
     "text": [
      "[[ 0.          1.          4.43068521  0.          0.          0.\n",
      "   0.          0.        ]\n",
      " [ 0.          0.          0.          1.          6.43068521  0.\n",
      "   5.          0.        ]\n",
      " [ 0.          0.          0.          3.          4.43068521 11.86137041\n",
      "   0.          0.        ]\n",
      " [ 0.          0.          0.          0.          0.          4.43068521\n",
      "   3.          0.        ]\n",
      " [ 0.          0.          0.          0.          0.          6.43068521\n",
      "   1.          0.        ]\n",
      " [ 0.          0.          0.          0.          0.          0.\n",
      "   0.          1.        ]\n",
      " [ 0.          0.          0.          0.          0.          0.\n",
      "   0.          1.        ]\n",
      " [ 0.          0.          0.          0.          0.          0.\n",
      "   0.          0.        ]]\n"
     ]
    }
   ],
   "source": [
    "print(SG_prob.edge_weights_min[0])"
   ]
  },
  {
   "cell_type": "code",
   "execution_count": 11,
   "metadata": {},
   "outputs": [
    {
     "data": {
      "text/plain": [
       "array([0.        , 1.43068521])"
      ]
     },
     "execution_count": 11,
     "metadata": {},
     "output_type": "execute_result"
    }
   ],
   "source": [
    "links.get_distance(0)"
   ]
  },
  {
   "cell_type": "code",
   "execution_count": 12,
   "metadata": {},
   "outputs": [
    {
     "data": {
      "text/plain": [
       "[{(-1, -1): 0,\n",
       "  (0, 0): 1,\n",
       "  (1, 0): 2,\n",
       "  (0, 1): 3,\n",
       "  (1, 1): 4,\n",
       "  (0, 2): 5,\n",
       "  (1, 2): 6,\n",
       "  (-1, 3): 7}]"
      ]
     },
     "execution_count": 12,
     "metadata": {},
     "output_type": "execute_result"
    }
   ],
   "source": [
    "SG_prob.convert_st2node"
   ]
  },
  {
   "cell_type": "code",
   "execution_count": 13,
   "metadata": {},
   "outputs": [
    {
     "data": {
      "text/plain": [
       "{0: array([[0., 0., 0., 0., 0., 0., 0., 0.],\n",
       "        [0., 0., 0., 0., 0., 0., 0., 0.],\n",
       "        [0., 0., 0., 0., 0., 0., 0., 0.],\n",
       "        [0., 0., 0., 0., 0., 0., 0., 0.],\n",
       "        [0., 0., 0., 0., 0., 0., 0., 0.],\n",
       "        [0., 0., 0., 0., 0., 0., 0., 0.],\n",
       "        [0., 0., 0., 0., 0., 0., 0., 0.],\n",
       "        [0., 0., 0., 0., 0., 0., 0., 0.]])}"
      ]
     },
     "execution_count": 13,
     "metadata": {},
     "output_type": "execute_result"
    }
   ],
   "source": [
    "SG_prob.edge_weights_path_idx"
   ]
  },
  {
   "cell_type": "code",
   "execution_count": 14,
   "metadata": {},
   "outputs": [
    {
     "data": {
      "text/plain": [
       "array([[1, 1, 0],\n",
       "       [0, 0, 1]])"
      ]
     },
     "execution_count": 14,
     "metadata": {},
     "output_type": "execute_result"
    }
   ],
   "source": [
    "users[0].server_prob"
   ]
  },
  {
   "cell_type": "code",
   "execution_count": null,
   "metadata": {},
   "outputs": [],
   "source": []
  }
 ],
 "metadata": {
  "kernelspec": {
   "display_name": "Python 3",
   "language": "python",
   "name": "python3"
  },
  "language_info": {
   "codemirror_mode": {
    "name": "ipython",
    "version": 3
   },
   "file_extension": ".py",
   "mimetype": "text/x-python",
   "name": "python",
   "nbconvert_exporter": "python",
   "pygments_lexer": "ipython3",
   "version": "3.7.4"
  }
 },
 "nbformat": 4,
 "nbformat_minor": 2
}
