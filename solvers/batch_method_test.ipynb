{
 "cells": [
  {
   "cell_type": "markdown",
   "metadata": {},
   "source": [
    "# Batch Method \n",
    "TJ Kim\n",
    "8/1/20\n",
    "\n",
    "Implement the following:\n",
    "\n",
    "1) Shuffle users and jobs\n",
    "\n",
    "2) Implement refresh rate based on mobility (3 for car, 6 for pedestrian, 0 for public)\n",
    "\n",
    "3) Implement new batch method solver (we will move Seq-Greedy into this)\n",
    "\n",
    "8/5/20\n",
    "\n",
    "Testing with limited resources in a 3 server system to see if resource reservation works."
   ]
  },
  {
   "cell_type": "code",
   "execution_count": 1,
   "metadata": {},
   "outputs": [],
   "source": [
    "from IPython.core.debugger import set_trace\n",
    "\n",
    "# Import Generic Classes\n",
    "import numpy as np\n",
    "import copy\n",
    "import pickle\n",
    "import random\n",
    "\n",
    "# Import All Custom Classes\n",
    "import os, sys\n",
    "sys.path.append(os.path.pardir+\"/classes\")\n",
    "\n",
    "from Server import *\n",
    "from User import *\n",
    "from Link import *\n",
    "from Job import *\n",
    "from Migration_Plans import *\n",
    "\n",
    "from simulation_setting import *\n",
    "\n",
    "# Import Solver Classes\n",
    "from Optim_PlanGenerator import *\n",
    "from SeqGreedy_PlanGenerator import *"
   ]
  },
  {
   "cell_type": "markdown",
   "metadata": {},
   "source": [
    "### System Creation\n",
    "\n",
    "Focus on shuffling + refresh rate."
   ]
  },
  {
   "cell_type": "code",
   "execution_count": 5,
   "metadata": {},
   "outputs": [],
   "source": [
    "users, servers, links, jobs, sim_param = simulation_setting()"
   ]
  },
  {
   "cell_type": "code",
   "execution_count": 6,
   "metadata": {},
   "outputs": [],
   "source": [
    "SG_prob = SeqGreedy_PlanGenerator(users, servers, links, jobs, sim_param)\n",
    "SG_plan = Migration_Plans(users,jobs,sim_param)\n",
    "SG_plan.from_seq_greedy(SG_prob)"
   ]
  },
  {
   "cell_type": "code",
   "execution_count": 7,
   "metadata": {},
   "outputs": [
    {
     "name": "stdout",
     "output_type": "stream",
     "text": [
      "time_slot\n",
      "[0. 1. 2. 3. 4. 5. 6. 7. 8. 9.]\n",
      "user_active_flag\n",
      "[0. 0. 0. 1. 1. 1. 1. 0. 0. 0.]\n",
      "user_voronoi\n",
      "[4. 0. 4. 4. 1. 1. 3. 1. 1. 1.]\n",
      "source_server\n",
      "[-1. -1. -1.  4.  3.  1.  3. -1. -1. -1.]\n",
      "dest_server\n",
      "[-1. -1. -1.  3.  1.  3.  3. -1. -1. -1.]\n",
      "mig_rate\n",
      "[0. 0. 0. 1. 1. 1. 0. 0. 0. 0.]\n",
      "mig_link_id\n",
      "[0. 0. 0. 5. 0. 0. 0. 0. 0. 0.]\n",
      "service_link_id\n",
      "[-1. -1. -1. -1.  0. -1. -1. -1. -1. -1.]\n",
      "service_thruput\n",
      "[0.         0.         0.         0.         0.19559131 0.\n",
      " 0.         0.         0.         0.        ]\n",
      "latency\n",
      "[ 0.          0.          0.          0.         27.20906315  0.\n",
      "  0.          0.          0.          0.        ]\n"
     ]
    }
   ],
   "source": [
    "for key in SG_plan.mig_plan_dict[0]:\n",
    "    print(key)\n",
    "    print(SG_plan.mig_plan_dict[0][key])"
   ]
  },
  {
   "cell_type": "code",
   "execution_count": 8,
   "metadata": {},
   "outputs": [
    {
     "data": {
      "text/plain": [
       "{3: (-1, -1), 4: (-1, 4), 5: (-1, 5), 6: (-1, 6)}"
      ]
     },
     "execution_count": 8,
     "metadata": {},
     "output_type": "execute_result"
    }
   ],
   "source": [
    "jobs[0].refresh_start_nodes"
   ]
  },
  {
   "cell_type": "code",
   "execution_count": 9,
   "metadata": {},
   "outputs": [
    {
     "data": {
      "text/plain": [
       "{3: (-1, 5), 4: (-1, 6), 5: (-1, 7), 6: (-1, 10)}"
      ]
     },
     "execution_count": 9,
     "metadata": {},
     "output_type": "execute_result"
    }
   ],
   "source": [
    "jobs[0].refresh_end_nodes"
   ]
  },
  {
   "cell_type": "code",
   "execution_count": null,
   "metadata": {},
   "outputs": [],
   "source": []
  }
 ],
 "metadata": {
  "kernelspec": {
   "display_name": "Python 3",
   "language": "python",
   "name": "python3"
  },
  "language_info": {
   "codemirror_mode": {
    "name": "ipython",
    "version": 3
   },
   "file_extension": ".py",
   "mimetype": "text/x-python",
   "name": "python",
   "nbconvert_exporter": "python",
   "pygments_lexer": "ipython3",
   "version": "3.7.4"
  }
 },
 "nbformat": 4,
 "nbformat_minor": 2
}
