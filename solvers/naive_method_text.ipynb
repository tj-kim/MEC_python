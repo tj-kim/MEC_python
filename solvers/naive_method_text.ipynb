{
 "cells": [
  {
   "cell_type": "markdown",
   "metadata": {},
   "source": [
    "# Naive Method \n",
    "TJ Kim\n",
    "8/5/20\n",
    "\n",
    "Implement the following:\n",
    "\n",
    "1) test if plans are naive, there will be no user updates."
   ]
  },
  {
   "cell_type": "code",
   "execution_count": 11,
   "metadata": {},
   "outputs": [],
   "source": [
    "from IPython.core.debugger import set_trace\n",
    "\n",
    "# Import Generic Classes\n",
    "import numpy as np\n",
    "import copy\n",
    "import pickle\n",
    "import random\n",
    "\n",
    "# Import All Custom Classes\n",
    "import os, sys\n",
    "sys.path.append(os.path.pardir+\"/classes\")\n",
    "\n",
    "from Server import *\n",
    "from User import *\n",
    "from Link import *\n",
    "from Job import *\n",
    "from Migration_Plans import *\n",
    "\n",
    "from simulation_setting import *\n",
    "\n",
    "# Import Solver Classes\n",
    "from Optim_PlanGenerator import *\n",
    "from SeqGreedy_PlanGenerator import *\n",
    "from Naive_PlanGenerator import *"
   ]
  },
  {
   "cell_type": "code",
   "execution_count": 12,
   "metadata": {},
   "outputs": [],
   "source": [
    "users, servers, links, jobs, sim_param = simulation_setting()"
   ]
  },
  {
   "cell_type": "code",
   "execution_count": 13,
   "metadata": {},
   "outputs": [],
   "source": [
    "N_prob = Naive_PlanGenerator(users, servers, links, jobs, sim_param)\n",
    "N_plan = Migration_Plans(users,jobs,sim_param)\n",
    "N_plan.from_seq_greedy(N_prob)"
   ]
  },
  {
   "cell_type": "code",
   "execution_count": 14,
   "metadata": {},
   "outputs": [
    {
     "name": "stdout",
     "output_type": "stream",
     "text": [
      "time_slot\n",
      "[0. 1. 2. 3. 4. 5. 6. 7. 8. 9.]\n",
      "user_active_flag\n",
      "[0. 1. 1. 1. 1. 1. 1. 0. 0. 0.]\n",
      "user_voronoi\n",
      "[3. 3. 4. 4. 4. 5. 4. 4. 4. 4.]\n",
      "source_server\n",
      "[-1.  4.  4.  4.  4.  4.  4. -1. -1. -1.]\n",
      "dest_server\n",
      "[-1.  4.  4.  4.  4.  4.  4. -1. -1. -1.]\n",
      "mig_rate\n",
      "[0. 0. 0. 0. 0. 0. 0. 0. 0. 0.]\n",
      "mig_link_id\n",
      "[0. 0. 0. 0. 0. 0. 0. 0. 0. 0.]\n",
      "service_link_id\n",
      "[-1.  0. -1. -1. -1.  0. -1. -1. -1. -1.]\n",
      "service_thruput\n",
      "[0.         0.14608352 0.         0.         0.         0.14608352\n",
      " 0.         0.         0.         0.        ]\n",
      "latency\n",
      "[ 0.         48.68863567  0.          0.          0.         61.93894629\n",
      "  0.          0.          0.          0.        ]\n"
     ]
    }
   ],
   "source": [
    "for key in N_plan.mig_plan_dict[0]:\n",
    "    print(key)\n",
    "    print(N_plan.mig_plan_dict[0][key])"
   ]
  },
  {
   "cell_type": "code",
   "execution_count": null,
   "metadata": {},
   "outputs": [],
   "source": []
  }
 ],
 "metadata": {
  "kernelspec": {
   "display_name": "Python 3",
   "language": "python",
   "name": "python3"
  },
  "language_info": {
   "codemirror_mode": {
    "name": "ipython",
    "version": 3
   },
   "file_extension": ".py",
   "mimetype": "text/x-python",
   "name": "python",
   "nbconvert_exporter": "python",
   "pygments_lexer": "ipython3",
   "version": "3.7.4"
  }
 },
 "nbformat": 4,
 "nbformat_minor": 2
}
