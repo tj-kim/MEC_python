{
 "cells": [
  {
   "cell_type": "markdown",
   "metadata": {},
   "source": [
    "# Server Class Testing\n",
    "\n",
    "Test the server class\n",
    "\n",
    "### Import Class"
   ]
  },
  {
   "cell_type": "code",
   "execution_count": 15,
   "metadata": {},
   "outputs": [],
   "source": [
    "import numpy as np\n",
    "\n",
    "class Server:\n",
    "    \"\"\"\n",
    "    Server: generates one server in space/time with following characteristics\n",
    "        - Existence of link\n",
    "        - Number of paths between two servers\n",
    "        - Resource constraint of each link\n",
    "        - How many resources have been reserved at each timestep\n",
    "    \"\"\"\n",
    "    \n",
    "    def __init__(self, boundaries, level, rand_locs = True, locs = None):\n",
    "        \"\"\"\n",
    "        boundaries - x,y coordinates showing limit for where \n",
    "        level - hierarchy level of server (cloud = 3, strong = 2, weak = 1)\n",
    "        rand_locs - generate server using locations drawn from uniform locations\n",
    "        locs - custom locations for servers (good for strong servers)\n",
    "        \"\"\"\n",
    "        \n",
    "        # Generate/assign server locs\n",
    "        if rand_locs is True:\n",
    "            self.locs = self.generate_locs(boundaries)\n",
    "        else:\n",
    "            self.locs = locs\n",
    "        \n",
    "        # Assign server level\n",
    "        self.level = level\n",
    "        \n",
    "        \n",
    "    def server_resources(self, num_resource, weak_range, strong_range, timesteps):\n",
    "        \"\"\"\n",
    "        generate matrix to define resource capacity for each timestep\n",
    "        \n",
    "        Input:\n",
    "            num_resource - number of resources at a server (storage, ram, cpu)\n",
    "            weak_range - level 1 resources, num_resource x 2 matrix\n",
    "            strong_range - level 2 resources, num_resource x 2 matrix\n",
    "            timesteps - number of timesteps in the system\n",
    "        \"\"\"\n",
    "        \n",
    "        max_range = 1e9 # Placeholder for infinite resource\n",
    "        avail = np.ones((num_resource,timesteps))\n",
    "        \n",
    "        # define resource capacity for each server based on level\n",
    "        if self.level == 1:\n",
    "            lvl_range = weak_range\n",
    "        elif self.level == 2:\n",
    "            lvl_range = strong_range\n",
    "        else: # If server level is cloud=3\n",
    "            self.avail_rsrc = avail * max_range\n",
    "            return\n",
    "        \n",
    "        # Draw each resource type from random distribution\n",
    "        for i in range(num_resource):\n",
    "            resource_draw = np.random.uniform(low = lvl_range[i,0], high = lvl_range[i,1], size = None)\n",
    "            avail[i,:] = avail[i,:] * resource_draw\n",
    "        \n",
    "        self.avail_rsrc = avail\n",
    "        return\n",
    "    \n",
    "    def generate_locs(self, boundaries):\n",
    "        \"\"\"\n",
    "        Use uniform distribution to set server location \n",
    "        \"\"\"\n",
    "        \n",
    "        x_min, x_max = boundaries[0,0], boundaries[0,1]\n",
    "        y_min, y_max = boundaries[1,0], boundaries[1,1]\n",
    "        \n",
    "        locs = np.zeros((2,1))\n",
    "        \n",
    "        locs[0,0] = np.random.uniform(low = x_min, high = x_max, size = None)\n",
    "        locs[1,0] = np.random.uniform(low = y_min, high = y_max, size = None)\n",
    "        \n",
    "        return locs\n"
   ]
  },
  {
   "cell_type": "markdown",
   "metadata": {},
   "source": [
    "### Generate Instance and Test"
   ]
  },
  {
   "cell_type": "code",
   "execution_count": 34,
   "metadata": {},
   "outputs": [],
   "source": [
    "# Set params\n",
    "boundaries =np.array([[0,10],[40,50]])\n",
    "num_resource = 2\n",
    "weak_range = np.array([[2,8],[10,14]])\n",
    "strong_range = np.array([[2,8],[10,14]])*2\n",
    "timesteps = 3\n",
    "\n",
    "# Generate Server\n",
    "s = Server(boundaries,level=2,rand_locs=True,locs=None)\n",
    "s.server_resources(num_resource, weak_range, strong_range, timesteps)"
   ]
  },
  {
   "cell_type": "code",
   "execution_count": 35,
   "metadata": {},
   "outputs": [
    {
     "data": {
      "text/plain": [
       "array([[ 5.14253751,  5.14253751,  5.14253751],\n",
       "       [22.98306066, 22.98306066, 22.98306066]])"
      ]
     },
     "execution_count": 35,
     "metadata": {},
     "output_type": "execute_result"
    }
   ],
   "source": [
    "s.avail_rsrc"
   ]
  }
 ],
 "metadata": {
  "kernelspec": {
   "display_name": "Python 3",
   "language": "python",
   "name": "python3"
  },
  "language_info": {
   "codemirror_mode": {
    "name": "ipython",
    "version": 3
   },
   "file_extension": ".py",
   "mimetype": "text/x-python",
   "name": "python",
   "nbconvert_exporter": "python",
   "pygments_lexer": "ipython3",
   "version": "3.7.4"
  }
 },
 "nbformat": 4,
 "nbformat_minor": 2
}
