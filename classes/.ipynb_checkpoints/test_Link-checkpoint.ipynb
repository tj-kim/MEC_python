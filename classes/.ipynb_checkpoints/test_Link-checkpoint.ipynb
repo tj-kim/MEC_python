{
 "cells": [
  {
   "cell_type": "markdown",
   "metadata": {},
   "source": [
    "# Link Class Testing\n",
    "\n",
    "Check if servers can be used to develop a reasonable network topology with reasonable bandwidth constraints.\n",
    "\n",
    "### Import Link Class"
   ]
  },
  {
   "cell_type": "code",
   "execution_count": 1,
   "metadata": {},
   "outputs": [],
   "source": [
    "import numpy as np\n",
    "\n",
    "class Link:\n",
    "    \"\"\"\n",
    "    Link: used for representing the following regarding links between servers\n",
    "        - Existence of link\n",
    "        - Number of paths between two servers\n",
    "        - Resource constraint of each link\n",
    "        - How many resources have been reserved at each timestep\n",
    "    \"\"\"\n",
    "    \n",
    "    def __init__(self, servers, num_link):\n",
    "        \"\"\"\n",
    "        Inputs:\n",
    "        servers  - servers class holding server location information\n",
    "        num_link - number of links each weak server should have with others\n",
    "        \n",
    "        Attributes:\n",
    "        valid_links = binary indication of which links exist in the system\n",
    "        num_path = number of path available between any two servers\n",
    "        lit_links = path indexed for 2 servers based on num_path\n",
    "        \n",
    "        \"\"\"\n",
    "        \n",
    "        # invoke function for generating links\n",
    "        self.valid_links = self.generate_links(servers, num_link)\n",
    "                \n",
    "        # invoke function for counting number of unique paths between each server\n",
    "        \n",
    "        # invoke function for indicating which links are lit for each unique path\n",
    "        \n",
    "        return\n",
    "        \n",
    "    def link_resources(self, weak_range, strong_range, timesteps):\n",
    "        \"\"\"\n",
    "        generate matrix to define resource capacity for each timestep\n",
    "        \n",
    "        Inputs:\n",
    "        weak_range - range of server capacity (mbps) between weak servers\n",
    "        strong_rang - range of server capacity (mbps) between strong servers\n",
    "        \n",
    "        Attributes:\n",
    "        avail = number of available resources for each link at each timestep\n",
    "        \"\"\"\n",
    "        \n",
    "        # define resource capacity for each link\n",
    "        \n",
    "        # define capacity for each timestep\n",
    "        \n",
    "        return\n",
    "    \n",
    "    def generate_links(self, servers, num_link)\n",
    "    \"\"\"\n",
    "    Generate SxS matrix for which links exist in the system\n",
    "    \"\"\"\n",
    "    \n",
    "    # Connect all level 3 servers to level 2 servers\n",
    "    \n",
    "    # Connect all level 2 servers to each other \n",
    "    \n",
    "    # Connect all level 1 servers to the closest level 2 server\n",
    "    \n",
    "    # Connect all level 1 server to closest num_link servers (sequential)\n",
    "    \n",
    "    "
   ]
  },
  {
   "cell_type": "markdown",
   "metadata": {},
   "source": [
    "### Import Server Class and Generate Servers"
   ]
  },
  {
   "cell_type": "code",
   "execution_count": 27,
   "metadata": {},
   "outputs": [],
   "source": [
    "from Server import Server\n",
    "\n",
    "# Set params \n",
    "boundaries =np.array([[0,50],[0,50]])\n",
    "num_resource = 2\n",
    "weak_range = np.array([[2,8],[10,14]])\n",
    "strong_range = np.array([[2,8],[10,14]])*2\n",
    "timesteps = 3\n",
    "\n",
    "# Number of each types of servers\n",
    "num_server_l1 = 3\n",
    "num_server_l2 = 1\n",
    "num_server_l3 = 0\n",
    "\n",
    "# Generate Server\n",
    "servers_l1 = []\n",
    "servers_l2 = []\n",
    "servers_l3 = []\n",
    "\n",
    "for i in range(num_server_l1):\n",
    "    servers_l1.append(Server(boundaries,level=1,rand_locs=True,locs=None))\n",
    "    \n",
    "for i in range(num_server_l2):\n",
    "    servers_l2.append(Server(boundaries,level=2,rand_locs=True,locs=None))\n",
    "    \n",
    "for i in range(num_server_l3):\n",
    "    servers_l3.append(Server(boundaries,level=3,rand_locs=True,locs=None))\n",
    "    \n",
    "# Append all servers together\n",
    "servers = servers_l1 + servers_l2 + servers_l3"
   ]
  },
  {
   "cell_type": "markdown",
   "metadata": {},
   "source": [
    "### Generate Links for given servers"
   ]
  },
  {
   "cell_type": "code",
   "execution_count": 29,
   "metadata": {},
   "outputs": [],
   "source": [
    "# Set params\n",
    "num_links = 1\n",
    "weak_range = np.array([[2,8],[10,14]])\n",
    "strong_range = np.array([[2,8],[10,14]])*2\n",
    "timesteps = 3\n",
    "\n"
   ]
  },
  {
   "cell_type": "code",
   "execution_count": null,
   "metadata": {},
   "outputs": [],
   "source": []
  }
 ],
 "metadata": {
  "kernelspec": {
   "display_name": "Python 3",
   "language": "python",
   "name": "python3"
  },
  "language_info": {
   "codemirror_mode": {
    "name": "ipython",
    "version": 3
   },
   "file_extension": ".py",
   "mimetype": "text/x-python",
   "name": "python",
   "nbconvert_exporter": "python",
   "pygments_lexer": "ipython3",
   "version": "3.7.4"
  }
 },
 "nbformat": 4,
 "nbformat_minor": 2
}
