{
 "cells": [
  {
   "cell_type": "markdown",
   "metadata": {},
   "source": [
    "# Test User Class\n",
    "\n",
    "Test user class to import the MATLAB attributions and add Markov chain development and conditioning on the Markov chain."
   ]
  },
  {
   "cell_type": "code",
   "execution_count": 237,
   "metadata": {},
   "outputs": [],
   "source": [
    "import numpy as np\n",
    "import math\n",
    "\n",
    "class User:\n",
    "    \"\"\"\n",
    "    User: generates one user in space/time with following characteristics\n",
    "        - Initial location, location at each timestep\n",
    "        - User type (vehicle, pedestrian, public transport)\n",
    "        - Markov chain\n",
    "        - conditioning function\n",
    "    \"\"\"\n",
    "    \n",
    "    def __init__(self, boundaries, time_steps, mvmt_class, lambdas, max_speed, num_path = 1):\n",
    "        \"\"\"\n",
    "        boundaries - x,y coordinates showing limit for where \n",
    "        time_steps - how many timesteps to simulate user movement for.\n",
    "        mvmt_class - pedestrian, vehicle, or public transport (determines stochastic mvmt)\n",
    "        lambdas - exponential distribution parameter for each mvmt class (list)\n",
    "        numpath - number of random paths to simulate to make user markov chain\n",
    "        \"\"\"\n",
    "        \n",
    "        # Easy to store values\n",
    "        self.num_path = num_path\n",
    "        self.time_steps = time_steps\n",
    "        self.mvmt_class = mvmt_class\n",
    "        self.max_speed = max_speed\n",
    "        self.lmda = lambdas[mvmt_class]\n",
    "        self.num_servers = None\n",
    "        \n",
    "        # Make user initial location\n",
    "        init_loc = self.generate_locs(boundaries)\n",
    "        \n",
    "        # Draw future user location x numpath for travel\n",
    "        self.all_paths = self.generate_all_paths(boundaries, init_loc, \n",
    "                                                 num_path, lambdas[mvmt_class], \n",
    "                                                 time_steps, max_speed)\n",
    "        \n",
    "        # Select a single path as true path of movement for user\n",
    "        self.true_path_idx = np.random.randint(self.num_path,size=1)\n",
    "        self.true_path = np.squeeze(self.all_paths[self.true_path_idx],axis=0)\n",
    "        \n",
    "        # User voronoi (All paths taken voronoi)\n",
    "        self.user_voronoi = None\n",
    "        self.user_voronoi_true = None\n",
    "        self.MC_trans_matrix = None\n",
    "        self.server_prob = None\n",
    "        \n",
    "    \"\"\"\n",
    "    Init helper Functions\n",
    "    \"\"\"\n",
    "    \n",
    "    def generate_locs(self, boundaries):\n",
    "        \"\"\"\n",
    "        Use uniform distribution to set server location \n",
    "        \"\"\"\n",
    "        \n",
    "        x_min, x_max = boundaries[0,0], boundaries[0,1]\n",
    "        y_min, y_max = boundaries[1,0], boundaries[1,1]\n",
    "        \n",
    "        locs = np.zeros(2)\n",
    "        \n",
    "        locs[0] = np.random.uniform(low = x_min, high = x_max, size = None)\n",
    "        locs[1] = np.random.uniform(low = y_min, high = y_max, size = None)\n",
    "        \n",
    "        return locs\n",
    "\n",
    "    def generate_all_paths(self, boundaries, init_loc, numpath, lmda, time_steps, max_speed):\n",
    "        \"\"\"\n",
    "        Generate Random Movements for users starting at initial location\n",
    "        \"\"\"\n",
    "        \n",
    "        # Generate Random travel magnitude and direction from exponential distribution\n",
    "        mags = np.random.exponential(1/lmda,size = (numpath, time_steps-1))\n",
    "        mags[mags > max_speed] = max_speed\n",
    "        angles = np.random.uniform(low = 0, high = 2 * math.pi, size = (numpath, time_steps-1))\n",
    "        \n",
    "        # Convert mag/angles to x,y displacements\n",
    "        x_delta = np.expand_dims(np.multiply(mags, np.cos(angles)),axis=1)\n",
    "        y_delta = np.expand_dims(np.multiply(mags, np.sin(angles)),axis=1)\n",
    "        deltas = np.append(x_delta,y_delta,axis=1)\n",
    "        \n",
    "        # Add deltas to initial location while staying inside boundary\n",
    "        locs = np.ones((num_path,2,time_steps)) * np.reshape(init_loc,(1,2,1))\n",
    "        for t in np.arange(1,time_steps): # Offset first timestep (initloc)\n",
    "            curr_locs = locs[:,:,t-1] + deltas[:,:,t-1]\n",
    "            # Check if any of the boundaries are exceeded\n",
    "            curr_locs = self.boundary_fix(curr_locs, boundaries)\n",
    "            locs[:,:,t] = curr_locs\n",
    "        \n",
    "        return locs\n",
    "    \n",
    "    def boundary_fix(self, curr_locs,boundaries):\n",
    "        \"\"\"\n",
    "        Shoves users to space boundary if they venture outside simulation space\n",
    "        \"\"\"\n",
    "        \n",
    "        x_min, x_max = boundaries[0,0], boundaries[0,1]\n",
    "        y_min, y_max = boundaries[1,0], boundaries[1,1]\n",
    "        \n",
    "        x_vals = curr_locs[:,0]\n",
    "        y_vals = curr_locs[:,1]\n",
    "        \n",
    "        x_vals[x_vals < x_min] = x_min\n",
    "        x_vals[x_vals > x_max] = x_max\n",
    "        y_vals[y_vals < y_min] = y_min\n",
    "        y_vals[y_vals > y_max] = y_max\n",
    "        \n",
    "        output = np.append(np.expand_dims(x_vals,axis=1),\n",
    "                           np.expand_dims(y_vals,axis=1),\n",
    "                           axis=1)\n",
    "        return output\n",
    "\n",
    "    \"\"\"\n",
    "    Markov Chain Functions (Callable)\n",
    "    \"\"\"\n",
    "    def generate_MC(self, servers):\n",
    "        \"\"\"\n",
    "        Generate markov chain based on user movement patterns\n",
    "        Take probabilistic conditioning on prior location to compute new location\n",
    "        \"\"\"\n",
    "        \n",
    "        # Assign closest server to each user location\n",
    "        self.user_voronoi = self.find_closest_servs(servers)\n",
    "        self.user_voronoi_true = np.squeeze(self.user_voronoi[self.true_path_idx],axis=0)\n",
    "        self.num_servers = len(servers)\n",
    "        \n",
    "        # Obtain transition probabilities based on user voronoi on paths\n",
    "                    \n",
    "        self.MC_trans_matrix = self.generate_transition_matrix(self.user_voronoi)\n",
    "\n",
    "        \n",
    "    def generate_voronoi_probs(self, time_passed=0, self_rate = 0.05, raise_times = 1e7):\n",
    "        \"\"\"\n",
    "        Generate probability of user being at each server at each timestep \n",
    "        based on Markov Chain\n",
    "        Also update Markov chain based on where user is after certain \n",
    "        amount of times passed.\n",
    "        \n",
    "        Input:\n",
    "        time_passed : amount of time passed in simulation/update by\n",
    "        self_fate : In ergodic end node, self transition rate\n",
    "        raise_times : Exponent of transition matrix to find mean settling prob\n",
    "        \"\"\"\n",
    "        \n",
    "        # Update Markov Chain based on user movement\n",
    "        self.condition_MC(time_passed)\n",
    "        \n",
    "        # Artificially make Markov Chain Ergodic (add end node and self loop)\n",
    "        MC_ergodic = np.zeros((self.MC_trans_matrix.shape[0]+1,self.MC_trans_matrix.shape[1]+1))\n",
    "        MC_ergodic[0:-1,0:-1] = np.copy(self.MC_trans_matrix)\n",
    "        MC_ergodic[-1,-1] = self_rate\n",
    "        MC_ergodic[-1,self.dict_st2node[(int(self.user_voronoi_true[0]),0)]] = 1 - self_rate\n",
    "        \n",
    "        for s in self.user_voronoi[:,-1]:\n",
    "            temp_node = self.dict_st2node[(int(s),self.time_steps-1)]\n",
    "            MC_ergodic[temp_node,-1] = 1\n",
    "            \n",
    "        # Find stationary probabilities of ergodic markov chain\n",
    "        stat_prob = np.linalg.matrix_power(MC_ergodic,raise_times)[0,:]\n",
    "        \n",
    "        # Find probability of user being at each server at each timestep\n",
    "        server_prob = np.zeros((self.num_servers,self.time_steps))\n",
    "        for t in range(self.time_steps):\n",
    "            # Continue working here\n",
    "        \n",
    "        \n",
    "\n",
    "    \"\"\"\n",
    "    Utility Functions for Markov CHain\n",
    "    \"\"\"\n",
    "    def find_closest_servs(self, servers):\n",
    "        \"\"\"\n",
    "        Find the closest server given all user locations through time\n",
    "        servers - list of server objects\n",
    "        \"\"\"\n",
    "        \n",
    "        # Make array of server locations\n",
    "        server_locs = np.zeros((len(servers),2))\n",
    "        for i in range(len(servers)):\n",
    "            curr_svr_locs = np.expand_dims(servers[i].locs,axis=0)\n",
    "            server_locs[i,:] = curr_svr_locs\n",
    "        \n",
    "        # Make voronoi tesselation of user locations to servers\n",
    "        user_voronoi = np.zeros((self.num_path,self.time_steps))\n",
    "        for n in range(self.num_path):\n",
    "            for t in range(self.time_steps):\n",
    "                usr_loc = np.reshape(self.all_paths[n,:,t],(1,2))\n",
    "                dist_2 = np.sum((server_locs - usr_loc)**2, axis=1)\n",
    "                user_voronoi[n,t] =  np.argmin(dist_2)\n",
    "                \n",
    "        return user_voronoi\n",
    "    \n",
    "    def generate_transition_matrix(self, user_voronoi):\n",
    "        \"\"\"\n",
    "        Make transition matrix for user movement\n",
    "        Inputs:\n",
    "        - user_voronoi : user movement across all paths\n",
    "        - node_count : number of nodes in the Markov Chain\n",
    "        \"\"\"\n",
    "        \n",
    "        # Dictionary transfers between server,timestep pairs to MC nodes\n",
    "        self.dict_st2node = {}\n",
    "        self.dict_node2st = {}\n",
    "        \n",
    "        node_count = 0\n",
    "        for t in range(self.time_steps):\n",
    "            for s in range(len(servers)):\n",
    "                if s in user_voronoi[:,t]:\n",
    "                    self.dict_st2node[(s,t)] = node_count\n",
    "                    self.dict_node2st[node_count] = (s,t)\n",
    "                    node_count += 1\n",
    "        \n",
    "        trans_matrix = np.zeros((node_count,node_count))\n",
    "        \n",
    "        for t in range(self.time_steps-1):\n",
    "            source_servers = np.unique(user_voronoi[:,t])\n",
    "            for s in source_servers:\n",
    "                s_idx = np.where(user_voronoi[:,t]==s)[0]\n",
    "                dests = np.zeros(len(servers))\n",
    "                for k in s_idx:\n",
    "                    temp_dest = user_voronoi[k,t+1]\n",
    "                    dests[int(temp_dest)] += 1/s_idx.shape[0]\n",
    "                source_MC_node = self.dict_st2node[(s,t)]\n",
    "                for j in range(dests.shape[0]):\n",
    "                    if j in user_voronoi[:,t+1]:\n",
    "                        dest_MC_node = self.dict_st2node[(j,t+1)]\n",
    "                        trans_matrix[source_MC_node,dest_MC_node] = dests[j]\n",
    "        \n",
    "        return trans_matrix\n",
    "    \n",
    "    def condition_MC(self,time_passed):\n",
    "        \"\"\"\n",
    "        Update Markov Chain based on how the user has moved so far\n",
    "        \"\"\"\n",
    "        \n",
    "        # Fix this so that self.user_voronoi is replaced by some truncated version\n",
    "        # truncate out every path that does not have truepath(time_passed) equal to \n",
    "        # path(time_passed)\n",
    "        \n",
    "        for t in range(time_passed+1):\n",
    "            self.user_voronoi[:,t] = self.user_voronoi_true[t]\n",
    "            \n",
    "        # Make new transition matrix based on update\n",
    "        self.MC_trans_matrix = self.generate_transition_matrix(self.user_voronoi)"
   ]
  },
  {
   "cell_type": "markdown",
   "metadata": {},
   "source": [
    "### Make a test user case"
   ]
  },
  {
   "cell_type": "code",
   "execution_count": 247,
   "metadata": {},
   "outputs": [],
   "source": [
    "boundaries =np.array([[0,30],[0,30]])\n",
    "time_steps = 2\n",
    "max_speed = 20\n",
    "mvmt_class = 0\n",
    "lamdas = [1/10]\n",
    "num_path = 10\n",
    "\n",
    "u = User(boundaries, time_steps, mvmt_class, lamdas, max_speed, num_path)\n"
   ]
  },
  {
   "cell_type": "markdown",
   "metadata": {},
   "source": [
    "### Generate Servers"
   ]
  },
  {
   "cell_type": "code",
   "execution_count": 248,
   "metadata": {},
   "outputs": [],
   "source": [
    "from Server import Server\n",
    "\n",
    "# Set params \n",
    "num_resource = 2\n",
    "weak_range = np.array([[2,8],[10,14]])\n",
    "strong_range = np.array([[2,8],[10,14]])*2\n",
    "\n",
    "\n",
    "# Number of each types of servers\n",
    "num_server_l1 = 2\n",
    "num_server_l2 = 1\n",
    "num_server_l3 = 0\n",
    "\n",
    "# Generate Server\n",
    "servers_l1 = []\n",
    "servers_l2 = []\n",
    "servers_l3 = []\n",
    "\n",
    "for i in range(num_server_l1):\n",
    "    servers_l1.append(Server(boundaries,level=1,rand_locs=True,locs=None))\n",
    "    \n",
    "for i in range(num_server_l2):\n",
    "    servers_l2.append(Server(boundaries,level=2,rand_locs=True,locs=None))\n",
    "    \n",
    "for i in range(num_server_l3):\n",
    "    servers_l3.append(Server(boundaries,level=3,rand_locs=True,locs=None))\n",
    "    \n",
    "# Append all servers together\n",
    "servers = servers_l1 + servers_l2 + servers_l3"
   ]
  },
  {
   "cell_type": "markdown",
   "metadata": {},
   "source": [
    "### Generate User Markov Chain"
   ]
  },
  {
   "cell_type": "code",
   "execution_count": 249,
   "metadata": {},
   "outputs": [
    {
     "data": {
      "text/plain": [
       "array([[0., 0.],\n",
       "       [0., 1.],\n",
       "       [0., 0.],\n",
       "       [0., 1.],\n",
       "       [0., 2.],\n",
       "       [0., 0.],\n",
       "       [0., 0.],\n",
       "       [0., 2.],\n",
       "       [0., 0.],\n",
       "       [0., 0.]])"
      ]
     },
     "execution_count": 249,
     "metadata": {},
     "output_type": "execute_result"
    }
   ],
   "source": [
    "u.generate_MC(servers)\n",
    "u.user_voronoi"
   ]
  },
  {
   "cell_type": "code",
   "execution_count": 250,
   "metadata": {},
   "outputs": [
    {
     "data": {
      "text/plain": [
       "array([[0., 0.],\n",
       "       [0., 1.],\n",
       "       [0., 0.],\n",
       "       [0., 1.],\n",
       "       [0., 2.],\n",
       "       [0., 0.],\n",
       "       [0., 0.],\n",
       "       [0., 2.],\n",
       "       [0., 0.],\n",
       "       [0., 0.]])"
      ]
     },
     "execution_count": 250,
     "metadata": {},
     "output_type": "execute_result"
    }
   ],
   "source": [
    "car = u.generate_voronoi_probs(time_passed=0)\n",
    "u.user_voronoi"
   ]
  },
  {
   "cell_type": "code",
   "execution_count": 251,
   "metadata": {},
   "outputs": [
    {
     "data": {
      "text/plain": [
       "array([[0.32758621, 0.19655172, 0.06551724, 0.06551724, 0.34482759],\n",
       "       [0.32758621, 0.19655172, 0.06551724, 0.06551724, 0.34482759],\n",
       "       [0.32758621, 0.19655172, 0.06551724, 0.06551724, 0.34482759],\n",
       "       [0.32758621, 0.19655172, 0.06551724, 0.06551724, 0.34482759],\n",
       "       [0.32758621, 0.19655172, 0.06551724, 0.06551724, 0.34482759]])"
      ]
     },
     "execution_count": 251,
     "metadata": {},
     "output_type": "execute_result"
    }
   ],
   "source": [
    "np.linalg.matrix_power(car,100000)"
   ]
  },
  {
   "cell_type": "code",
   "execution_count": 243,
   "metadata": {},
   "outputs": [
    {
     "data": {
      "text/plain": [
       "array([2., 0.])"
      ]
     },
     "execution_count": 243,
     "metadata": {},
     "output_type": "execute_result"
    }
   ],
   "source": [
    "u.user_voronoi_true"
   ]
  },
  {
   "cell_type": "code",
   "execution_count": 208,
   "metadata": {},
   "outputs": [
    {
     "data": {
      "text/plain": [
       "{0: (0, 0), 1: (0, 1), 2: (1, 1)}"
      ]
     },
     "execution_count": 208,
     "metadata": {},
     "output_type": "execute_result"
    }
   ],
   "source": [
    "u.dict_node2st"
   ]
  },
  {
   "cell_type": "code",
   "execution_count": null,
   "metadata": {},
   "outputs": [],
   "source": []
  }
 ],
 "metadata": {
  "kernelspec": {
   "display_name": "Python 3",
   "language": "python",
   "name": "python3"
  },
  "language_info": {
   "codemirror_mode": {
    "name": "ipython",
    "version": 3
   },
   "file_extension": ".py",
   "mimetype": "text/x-python",
   "name": "python",
   "nbconvert_exporter": "python",
   "pygments_lexer": "ipython3",
   "version": "3.7.4"
  }
 },
 "nbformat": 4,
 "nbformat_minor": 2
}
