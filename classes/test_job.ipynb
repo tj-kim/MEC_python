{
 "cells": [
  {
   "cell_type": "markdown",
   "metadata": {},
   "source": [
    "# Test the Job Class\n",
    "\n",
    "The job class has the following characteristics\n",
    "\n",
    "- Associate Job with user ID\n",
    "- Define Job type\n",
    "- Find job resource requirements for placement, service/migration bandwidth\n",
    "- Find user experience qualities - Latency and Bandwidth requirement\n",
    "- Define job arrival and departure times"
   ]
  },
  {
   "cell_type": "code",
   "execution_count": null,
   "metadata": {},
   "outputs": [],
   "source": [
    "import numpy as np\n",
    "\n",
    "class Job:\n",
    "    \"\"\"\n",
    "    Job: Associated with each user id and define\n",
    "    - Job type, resource requirements, UE requirements, arrival, departure times\n",
    "    \"\"\"\n",
    "    \n",
    "    def __init__(self, job_type, user_id, time_steps):\n",
    "        \"\"\"\n",
    "        job_type - integer [0,1,2] based on the sample profiles we have \n",
    "        user_id - associate job with user id\n",
    "        \"\"\"\n",
    "        \n",
    "        self.user_id = user_id\n",
    "        self.job_type = job_type\n",
    "        self.time_steps = time_steps\n",
    "        \n",
    "        # User Experience Requirements for this job\n",
    "        self.latency_req = None\n",
    "        self.thruput_req = None\n",
    "        \n",
    "        # Draw Arrival and Departure time of job\n",
    "        self.arrival_time = None\n",
    "        self.departure_time = None\n",
    "        self.active_time = None"
   ]
  }
 ],
 "metadata": {
  "kernelspec": {
   "display_name": "Python 3",
   "language": "python",
   "name": "python3"
  },
  "language_info": {
   "codemirror_mode": {
    "name": "ipython",
    "version": 3
   },
   "file_extension": ".py",
   "mimetype": "text/x-python",
   "name": "python",
   "nbconvert_exporter": "python",
   "pygments_lexer": "ipython3",
   "version": "3.7.4"
  }
 },
 "nbformat": 4,
 "nbformat_minor": 2
}
