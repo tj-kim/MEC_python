{
 "cells": [
  {
   "cell_type": "markdown",
   "metadata": {},
   "source": [
    "# Test User Class\n",
    "\n",
    "Test user class to import the MATLAB attributions and add Markov chain development and conditioning on the Markov chain."
   ]
  },
  {
   "cell_type": "code",
   "execution_count": null,
   "metadata": {},
   "outputs": [],
   "source": [
    "import numpy as np\n",
    "\n",
    "class User:\n",
    "    \"\"\"\n",
    "    User: generates one user in space/time with following characteristics\n",
    "        - Initial location, location at each timestep\n",
    "        - User type (vehicle, pedestrian, public transport)\n",
    "        - Markov chain\n",
    "        - conditioning function\n",
    "    \"\"\"\n",
    "    \n",
    "    def __init__(self, boundaries, time_steps, mvmt_class, lambdas, numpath = 1):\n",
    "        \"\"\"\n",
    "        boundaries - x,y coordinates showing limit for where \n",
    "        time_steps - how many timesteps to simulate user movement for.\n",
    "        mvmt_class - pedestrian, vehicle, or public transport (determines stochastic mvmt)\n",
    "        lambdas - exponential distribution parameter for each mvmt class (list)\n",
    "        numpath - number of random paths to simulate to make user markov chain\n",
    "        \"\"\"\n",
    "        \n",
    "        # Make user initial location\n",
    "        \n",
    "        # Draw future user location x numpath for travel\n",
    "        \n",
    "        return\n",
    "        \n",
    "    def gen_MC(self, servers):\n",
    "        \"\"\"\n",
    "        Generate markov chain based on user movement patterns\n",
    "        Take probabilistic conditioning on prior location to compute new location\n",
    "        \"\"\"\n",
    "        \n",
    "        return\n"
   ]
  }
 ],
 "metadata": {
  "kernelspec": {
   "display_name": "Python 3",
   "language": "python",
   "name": "python3"
  },
  "language_info": {
   "codemirror_mode": {
    "name": "ipython",
    "version": 3
   },
   "file_extension": ".py",
   "mimetype": "text/x-python",
   "name": "python",
   "nbconvert_exporter": "python",
   "pygments_lexer": "ipython3",
   "version": "3.7.4"
  }
 },
 "nbformat": 4,
 "nbformat_minor": 2
}
