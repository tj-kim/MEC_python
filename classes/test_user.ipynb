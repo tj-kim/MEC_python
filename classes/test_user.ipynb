{
 "cells": [
  {
   "cell_type": "markdown",
   "metadata": {},
   "source": [
    "# Test User Class\n",
    "\n",
    "Test user class to import the MATLAB attributions and add Markov chain development and conditioning on the Markov chain."
   ]
  },
  {
   "cell_type": "code",
   "execution_count": 123,
   "metadata": {},
   "outputs": [],
   "source": [
    "import numpy as np\n",
    "import math\n",
    "\n",
    "class User:\n",
    "    \"\"\"\n",
    "    User: generates one user in space/time with following characteristics\n",
    "        - Initial location, location at each timestep\n",
    "        - User type (vehicle, pedestrian, public transport)\n",
    "        - Markov chain\n",
    "        - conditioning function\n",
    "    \"\"\"\n",
    "    \n",
    "    def __init__(self, boundaries, time_steps, mvmt_class, lambdas, max_speed, num_path = 1):\n",
    "        \"\"\"\n",
    "        boundaries - x,y coordinates showing limit for where \n",
    "        time_steps - how many timesteps to simulate user movement for.\n",
    "        mvmt_class - pedestrian, vehicle, or public transport (determines stochastic mvmt)\n",
    "        lambdas - exponential distribution parameter for each mvmt class (list)\n",
    "        numpath - number of random paths to simulate to make user markov chain\n",
    "        \"\"\"\n",
    "        \n",
    "        self.num_path = num_path\n",
    "        self.time_steps = time_steps\n",
    "        self.mvmt_class = mvmt_class\n",
    "        self.max_speed = max_speed\n",
    "        self.lmda = lambdas[mvmt_class]\n",
    "        \n",
    "        # Make user initial location\n",
    "        init_loc = self.generate_locs(boundaries)\n",
    "        \n",
    "        # Draw future user location x numpath for travel\n",
    "        self.all_paths = self.generate_all_paths(boundaries, init_loc, \n",
    "                                                 num_path, lambdas[mvmt_class], \n",
    "                                                 time_steps, max_speed)\n",
    "        \n",
    "        # User voronoi (All paths taken voronoi)\n",
    "        self.user_voronoi = None\n",
    "        \n",
    "    \"\"\"\n",
    "    Init Functions\n",
    "    \"\"\"\n",
    "    \n",
    "    def generate_locs(self, boundaries):\n",
    "        \"\"\"\n",
    "        Use uniform distribution to set server location \n",
    "        \"\"\"\n",
    "        \n",
    "        x_min, x_max = boundaries[0,0], boundaries[0,1]\n",
    "        y_min, y_max = boundaries[1,0], boundaries[1,1]\n",
    "        \n",
    "        locs = np.zeros(2)\n",
    "        \n",
    "        locs[0] = np.random.uniform(low = x_min, high = x_max, size = None)\n",
    "        locs[1] = np.random.uniform(low = y_min, high = y_max, size = None)\n",
    "        \n",
    "        return locs\n",
    "\n",
    "    def generate_all_paths(self, boundaries, init_loc, numpath, lmda, time_steps, max_speed):\n",
    "        \"\"\"\n",
    "        Generate Random Movements for users starting at initial location\n",
    "        \"\"\"\n",
    "        \n",
    "        # Generate Random travel magnitude and direction from exponential distribution\n",
    "        mags = np.random.exponential(1/lmda,size = (numpath, time_steps-1))\n",
    "        mags[mags > max_speed] = max_speed\n",
    "        angles = np.random.uniform(low = 0, high = 2 * math.pi, size = (numpath, time_steps-1))\n",
    "        \n",
    "        # Convert mag/angles to x,y displacements\n",
    "        x_delta = np.expand_dims(np.multiply(mags, np.cos(angles)),axis=1)\n",
    "        y_delta = np.expand_dims(np.multiply(mags, np.sin(angles)),axis=1)\n",
    "        deltas = np.append(x_delta,y_delta,axis=1)\n",
    "        \n",
    "        # Add deltas to initial location while staying inside boundary\n",
    "        locs = np.ones((num_path,2,time_steps)) * np.reshape(init_loc,(1,2,1))\n",
    "        for t in np.arange(1,time_steps): # Offset first timestep (initloc)\n",
    "            curr_locs = locs[:,:,t-1] + deltas[:,:,t-1]\n",
    "            # Check if any of the boundaries are exceeded\n",
    "            curr_locs = self.boundary_fix(curr_locs, boundaries)\n",
    "            locs[:,:,t] = curr_locs\n",
    "        \n",
    "        return locs\n",
    "    \n",
    "    def boundary_fix(self, curr_locs,boundaries):\n",
    "        \"\"\"\n",
    "        Shoves users to space boundary if they venture outside simulation space\n",
    "        \"\"\"\n",
    "        \n",
    "        x_min, x_max = boundaries[0,0], boundaries[0,1]\n",
    "        y_min, y_max = boundaries[1,0], boundaries[1,1]\n",
    "        \n",
    "        x_vals = curr_locs[:,0]\n",
    "        y_vals = curr_locs[:,1]\n",
    "        \n",
    "        x_vals[x_vals < x_min] = x_min\n",
    "        x_vals[x_vals > x_max] = x_max\n",
    "        y_vals[y_vals < y_min] = y_min\n",
    "        y_vals[y_vals > y_max] = y_max\n",
    "        \n",
    "        output = np.append(np.expand_dims(x_vals,axis=1),\n",
    "                           np.expand_dims(y_vals,axis=1),\n",
    "                           axis=1)\n",
    "        return output\n",
    "\n",
    "    \"\"\"\n",
    "    Utility Functions\n",
    "    \"\"\"\n",
    "    def generate_MC(self, servers):\n",
    "        \"\"\"\n",
    "        Generate markov chain based on user movement patterns\n",
    "        Take probabilistic conditioning on prior location to compute new location\n",
    "        \"\"\"\n",
    "        \n",
    "        # Assign closest server to each user location\n",
    "        self.user_voronoi = self.find_closest_servs(servers)\n",
    "        \n",
    "        # Build Transition Matrix for Markov Chain\n",
    "        self.dict_st2node = {}\n",
    "        self.dict_node2st = {}\n",
    "        \n",
    "        counter = 0\n",
    "        for t in range(self.time_steps):\n",
    "            for s in range(len(servers)):\n",
    "                self.dict_st2node[(s,t)] = counter\n",
    "                self.dict_node2st[counter] = (s,t)\n",
    "                counter += 1\n",
    "        \n",
    "        trans_matrix = np.zeros((counter,counter))\n",
    "        \n",
    "    \n",
    "    def find_closest_servs(self, servers):\n",
    "        \"\"\"\n",
    "        Find the closest server given all user locations through time\n",
    "        servers - list of server objects\n",
    "        \"\"\"\n",
    "        \n",
    "        # Make array of server locations\n",
    "        server_locs = np.zeros((len(servers),2))\n",
    "        for i in range(len(servers)):\n",
    "            curr_svr_locs = np.expand_dims(servers[i].locs,axis=0)\n",
    "            server_locs[i,:] = curr_svr_locs\n",
    "        \n",
    "        # Make voronoi tesselation of user locations to servers\n",
    "        user_voronoi = np.zeros((self.num_path,self.time_steps))\n",
    "        for n in range(self.num_path):\n",
    "            for t in range(self.time_steps):\n",
    "                usr_loc = np.reshape(self.all_paths[n,:,t],(1,2))\n",
    "                dist_2 = np.sum((server_locs - usr_loc)**2, axis=1)\n",
    "                user_voronoi[n,t] =  np.argmin(dist_2)\n",
    "        \n",
    "        return user_voronoi\n",
    "        \n",
    "        "
   ]
  },
  {
   "cell_type": "markdown",
   "metadata": {},
   "source": [
    "### Make a test user case"
   ]
  },
  {
   "cell_type": "code",
   "execution_count": 124,
   "metadata": {},
   "outputs": [
    {
     "data": {
      "text/plain": [
       "array([[[51.98081298, 55.46304779, 43.48854219, 36.41535954],\n",
       "        [ 2.54694932,  0.        ,  0.        ,  2.98980951]],\n",
       "\n",
       "       [[51.98081298, 51.68648995, 58.0241423 , 55.93189163],\n",
       "        [ 2.54694932, 22.54478355, 34.40512476, 32.17492679]],\n",
       "\n",
       "       [[51.98081298, 48.9929581 , 52.49160412, 52.45378813],\n",
       "        [ 2.54694932,  5.70026907,  3.34177757,  2.06133142]]])"
      ]
     },
     "execution_count": 124,
     "metadata": {},
     "output_type": "execute_result"
    }
   ],
   "source": [
    "boundaries =np.array([[0,100],[0,100]])\n",
    "time_steps = 4\n",
    "max_speed = 20\n",
    "mvmt_class = 0\n",
    "lamdas = [1/10]\n",
    "num_path = 3\n",
    "\n",
    "u = User(boundaries, time_steps, mvmt_class, lamdas, max_speed, num_path)\n",
    "u.all_paths"
   ]
  },
  {
   "cell_type": "markdown",
   "metadata": {},
   "source": [
    "### Generate Servers"
   ]
  },
  {
   "cell_type": "code",
   "execution_count": 125,
   "metadata": {},
   "outputs": [],
   "source": [
    "from Server import Server\n",
    "\n",
    "# Set params \n",
    "boundaries =np.array([[0,50],[0,50]])\n",
    "num_resource = 2\n",
    "weak_range = np.array([[2,8],[10,14]])\n",
    "strong_range = np.array([[2,8],[10,14]])*2\n",
    "timesteps = 3\n",
    "\n",
    "# Number of each types of servers\n",
    "num_server_l1 = 10\n",
    "num_server_l2 = 3\n",
    "num_server_l3 = 1\n",
    "\n",
    "# Generate Server\n",
    "servers_l1 = []\n",
    "servers_l2 = []\n",
    "servers_l3 = []\n",
    "\n",
    "for i in range(num_server_l1):\n",
    "    servers_l1.append(Server(boundaries,level=1,rand_locs=True,locs=None))\n",
    "    \n",
    "for i in range(num_server_l2):\n",
    "    servers_l2.append(Server(boundaries,level=2,rand_locs=True,locs=None))\n",
    "    \n",
    "for i in range(num_server_l3):\n",
    "    servers_l3.append(Server(boundaries,level=3,rand_locs=True,locs=None))\n",
    "    \n",
    "# Append all servers together\n",
    "servers = servers_l1 + servers_l2 + servers_l3"
   ]
  },
  {
   "cell_type": "markdown",
   "metadata": {},
   "source": [
    "### Generate User Markov Chain"
   ]
  },
  {
   "cell_type": "code",
   "execution_count": 128,
   "metadata": {},
   "outputs": [
    {
     "data": {
      "text/plain": [
       "{(0, 0): 0,\n",
       " (1, 0): 1,\n",
       " (2, 0): 2,\n",
       " (3, 0): 3,\n",
       " (4, 0): 4,\n",
       " (5, 0): 5,\n",
       " (6, 0): 6,\n",
       " (7, 0): 7,\n",
       " (8, 0): 8,\n",
       " (9, 0): 9,\n",
       " (10, 0): 10,\n",
       " (11, 0): 11,\n",
       " (12, 0): 12,\n",
       " (13, 0): 13,\n",
       " (0, 1): 14,\n",
       " (1, 1): 15,\n",
       " (2, 1): 16,\n",
       " (3, 1): 17,\n",
       " (4, 1): 18,\n",
       " (5, 1): 19,\n",
       " (6, 1): 20,\n",
       " (7, 1): 21,\n",
       " (8, 1): 22,\n",
       " (9, 1): 23,\n",
       " (10, 1): 24,\n",
       " (11, 1): 25,\n",
       " (12, 1): 26,\n",
       " (13, 1): 27,\n",
       " (0, 2): 28,\n",
       " (1, 2): 29,\n",
       " (2, 2): 30,\n",
       " (3, 2): 31,\n",
       " (4, 2): 32,\n",
       " (5, 2): 33,\n",
       " (6, 2): 34,\n",
       " (7, 2): 35,\n",
       " (8, 2): 36,\n",
       " (9, 2): 37,\n",
       " (10, 2): 38,\n",
       " (11, 2): 39,\n",
       " (12, 2): 40,\n",
       " (13, 2): 41,\n",
       " (0, 3): 42,\n",
       " (1, 3): 43,\n",
       " (2, 3): 44,\n",
       " (3, 3): 45,\n",
       " (4, 3): 46,\n",
       " (5, 3): 47,\n",
       " (6, 3): 48,\n",
       " (7, 3): 49,\n",
       " (8, 3): 50,\n",
       " (9, 3): 51,\n",
       " (10, 3): 52,\n",
       " (11, 3): 53,\n",
       " (12, 3): 54,\n",
       " (13, 3): 55}"
      ]
     },
     "execution_count": 128,
     "metadata": {},
     "output_type": "execute_result"
    }
   ],
   "source": [
    "u.generate_MC(servers)\n",
    "u.dict_st2node"
   ]
  },
  {
   "cell_type": "code",
   "execution_count": 104,
   "metadata": {},
   "outputs": [
    {
     "data": {
      "text/plain": [
       "(3, 2, 4)"
      ]
     },
     "execution_count": 104,
     "metadata": {},
     "output_type": "execute_result"
    }
   ],
   "source": [
    "u.all_paths.shape"
   ]
  },
  {
   "cell_type": "code",
   "execution_count": 106,
   "metadata": {},
   "outputs": [
    {
     "data": {
      "text/plain": [
       "3"
      ]
     },
     "execution_count": 106,
     "metadata": {},
     "output_type": "execute_result"
    }
   ],
   "source": [
    "u.num_path"
   ]
  },
  {
   "cell_type": "code",
   "execution_count": 107,
   "metadata": {},
   "outputs": [
    {
     "data": {
      "text/plain": [
       "4"
      ]
     },
     "execution_count": 107,
     "metadata": {},
     "output_type": "execute_result"
    }
   ],
   "source": [
    "u.time_steps"
   ]
  },
  {
   "cell_type": "code",
   "execution_count": null,
   "metadata": {},
   "outputs": [],
   "source": []
  }
 ],
 "metadata": {
  "kernelspec": {
   "display_name": "Python 3",
   "language": "python",
   "name": "python3"
  },
  "language_info": {
   "codemirror_mode": {
    "name": "ipython",
    "version": 3
   },
   "file_extension": ".py",
   "mimetype": "text/x-python",
   "name": "python",
   "nbconvert_exporter": "python",
   "pygments_lexer": "ipython3",
   "version": "3.7.6"
  }
 },
 "nbformat": 4,
 "nbformat_minor": 2
}
