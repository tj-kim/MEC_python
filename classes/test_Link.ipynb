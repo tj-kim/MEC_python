{
 "cells": [
  {
   "cell_type": "markdown",
   "metadata": {},
   "source": [
    "# Link Class Testing\n",
    "\n",
    "Check if servers can be used to develop a reasonable network topology with reasonable bandwidth constraints.\n",
    "\n",
    "### Import Link Class"
   ]
  },
  {
   "cell_type": "code",
   "execution_count": 157,
   "metadata": {},
   "outputs": [],
   "source": [
    "import numpy as np\n",
    "\n",
    "class Link:\n",
    "    \"\"\"\n",
    "    Link: used for representing the following regarding links between servers\n",
    "        - Existence of link\n",
    "        - Number of paths between two servers\n",
    "        - Resource constraint of each link\n",
    "        - How many resources have been reserved at each timestep\n",
    "    \"\"\"\n",
    "    \n",
    "    def __init__(self, servers, num_link):\n",
    "        \"\"\"\n",
    "        Inputs:\n",
    "        servers  - servers class holding server location information\n",
    "        num_link - number of links each weak server should have with others\n",
    "        \n",
    "        Attributes:\n",
    "        valid_links = binary indication of which links exist in the system\n",
    "        num_path = number of path available between any two servers\n",
    "        lit_links = path indexed for 2 servers based on num_path\n",
    "        \n",
    "        \"\"\"\n",
    "        \n",
    "        # Obtain distances between each server\n",
    "        self.distances = self.calc_distance(servers)\n",
    "        \n",
    "        # invoke function for generating links\n",
    "        self.valid_links = self.generate_links(servers, num_link)\n",
    "                \n",
    "        # invoke function for counting number of unique paths between each server\n",
    "        \n",
    "        # invoke function for indicating which links are lit for each unique path\n",
    "        \n",
    "        return\n",
    "    \n",
    "    \"\"\"\n",
    "    Initialization Functions\n",
    "    \"\"\"\n",
    "        \n",
    "    def link_resources(self, weak_range, strong_range, timesteps):\n",
    "        \"\"\"\n",
    "        generate matrix to define resource capacity for each timestep\n",
    "        \n",
    "        Inputs:\n",
    "        weak_range - range of server capacity (mbps) between weak servers\n",
    "        strong_rang - range of server capacity (mbps) between strong servers\n",
    "        \n",
    "        Attributes:\n",
    "        avail = number of available resources for each link at each timestep\n",
    "        \"\"\"\n",
    "        \n",
    "        # define resource capacity for each link\n",
    "        \n",
    "        # define capacity for each timestep\n",
    "        \n",
    "        return\n",
    "    \n",
    "    def calc_distance(self, servers):\n",
    "        \"\"\"\n",
    "        Return S x S Matrix with distances between each server\n",
    "        \"\"\"\n",
    "                \n",
    "        # make list of locations\n",
    "        locs = []\n",
    "        x,y = np.zeros(len(servers)),np.zeros(len(servers))\n",
    "        for i in range(len(servers)):\n",
    "            x[i], y[i] = servers[i].locs[0], servers[i].locs[1]\n",
    "            \n",
    "        # Compute euclidean distance for every combination of servers        \n",
    "        srv_dists = np.sqrt(np.square(x - x.reshape(-1,1)) + np.square(y - y.reshape(-1,1)))\n",
    "        \n",
    "        return srv_dists\n",
    "        \n",
    "    \n",
    "    def generate_links(self, servers, num_link):\n",
    "        \"\"\"\n",
    "        Generate SxS np array for which links exist in the system\n",
    "        For now every link in the system is bi-directional\n",
    "        \"\"\"\n",
    "        \n",
    "        valid_links = np.zeros((len(servers),len(servers)))\n",
    "\n",
    "        # Obtain server level for each index\n",
    "        svr_lvls = np.zeros(len(servers))\n",
    "        for i in range(len(servers)):\n",
    "            svr_lvls[i] = servers[i].level\n",
    "        \n",
    "        # Generate links between all level 3 and 2 servers bidirectional\n",
    "        lvl23_idx = np.where(svr_lvls>1)\n",
    "        mesh = np.array(np.meshgrid(lvl23_idx, lvl23_idx))\n",
    "        combinations = mesh.T.reshape(-1, 2)\n",
    "        valid_links[combinations[:,0],combinations[:,1]] = 1\n",
    "        \n",
    "        # Generate links between level 2 and closest level 1 servers\n",
    "        # Generate links between level 1 servers to other level 1 servers\n",
    "        lvl2_idx = np.where(svr_lvls==2)[0]\n",
    "        lvl1_idx = np.where(svr_lvls==1)[0]\n",
    "        \n",
    "        for i in lvl1_idx:\n",
    "            # From level 1 to level 2 servers\n",
    "            dists = self.get_distance(s1_idx=i,s2_idx=None)\n",
    "            mask = np.zeros(len(servers))\n",
    "            mask[lvl2_idx] = 1\n",
    "            dists_lv2 = dists * mask\n",
    "            min_idx = np.where(dists_lv2==np.min(dists_lv2[np.nonzero(dists_lv2)]))[0][0]\n",
    "            valid_links[lvl1_idx,min_idx], valid_links[min_idx,lvl1_idx] = 1,1\n",
    "            \n",
    "            # From level 1 to level 1 servers\n",
    "            mask = np.zeros(len(servers))\n",
    "            mask[lvl1_idx] = 1\n",
    "            dists_lvl1 = dists * mask\n",
    "            \n",
    "            # 4/24 RESUME CODING HERE\n",
    "            \n",
    "        \n",
    "        \n",
    "        \n",
    "        \n",
    "        # set identity to zero\n",
    "        np.fill_diagonal(valid_links, 0)\n",
    "        \n",
    "        return valid_links\n",
    "    \n",
    "    \"\"\"\n",
    "    Utility Functions\n",
    "    \"\"\"\n",
    "    \n",
    "    def get_distance(self,s1_idx,s2_idx=None):\n",
    "        \"\"\"\n",
    "        Returns distance between server s1 and server s2 (double)\n",
    "        If only server s1 is inputted, returns distance to all other servers\n",
    "        \"\"\"\n",
    "        \n",
    "        if s2_idx is None:\n",
    "            return self.distances[s1_idx]\n",
    "        else:\n",
    "            return self.distances[s1_idx][s2_idx]\n",
    "        \n"
   ]
  },
  {
   "cell_type": "markdown",
   "metadata": {},
   "source": [
    "### Import Server Class and Generate Servers"
   ]
  },
  {
   "cell_type": "code",
   "execution_count": 131,
   "metadata": {},
   "outputs": [],
   "source": [
    "from Server import Server\n",
    "\n",
    "# Set params \n",
    "boundaries =np.array([[0,50],[0,50]])\n",
    "num_resource = 2\n",
    "weak_range = np.array([[2,8],[10,14]])\n",
    "strong_range = np.array([[2,8],[10,14]])*2\n",
    "timesteps = 3\n",
    "\n",
    "# Number of each types of servers\n",
    "num_server_l1 = 2\n",
    "num_server_l2 = 3\n",
    "num_server_l3 = 1\n",
    "\n",
    "# Generate Server\n",
    "servers_l1 = []\n",
    "servers_l2 = []\n",
    "servers_l3 = []\n",
    "\n",
    "for i in range(num_server_l1):\n",
    "    servers_l1.append(Server(boundaries,level=1,rand_locs=True,locs=None))\n",
    "    \n",
    "for i in range(num_server_l2):\n",
    "    servers_l2.append(Server(boundaries,level=2,rand_locs=True,locs=None))\n",
    "    \n",
    "for i in range(num_server_l3):\n",
    "    servers_l3.append(Server(boundaries,level=3,rand_locs=True,locs=None))\n",
    "    \n",
    "# Append all servers together\n",
    "servers = servers_l1 + servers_l2 + servers_l3"
   ]
  },
  {
   "cell_type": "markdown",
   "metadata": {},
   "source": [
    "### Generate Links for given servers"
   ]
  },
  {
   "cell_type": "code",
   "execution_count": 158,
   "metadata": {},
   "outputs": [
    {
     "data": {
      "text/plain": [
       "array([[0., 0., 0., 0., 1., 0.],\n",
       "       [0., 0., 0., 0., 1., 0.],\n",
       "       [0., 0., 0., 1., 1., 1.],\n",
       "       [0., 0., 1., 0., 1., 1.],\n",
       "       [1., 1., 1., 1., 0., 1.],\n",
       "       [0., 0., 1., 1., 1., 0.]])"
      ]
     },
     "execution_count": 158,
     "metadata": {},
     "output_type": "execute_result"
    }
   ],
   "source": [
    "# Set params\n",
    "num_links = 1\n",
    "weak_range = np.array([[2,8],[10,14]])\n",
    "strong_range = np.array([[2,8],[10,14]])*2\n",
    "timesteps = 3\n",
    "\n",
    "links = Link(servers,num_link=0)\n",
    "links.valid_links"
   ]
  },
  {
   "cell_type": "code",
   "execution_count": 83,
   "metadata": {},
   "outputs": [
    {
     "data": {
      "text/plain": [
       "(10,)"
      ]
     },
     "execution_count": 83,
     "metadata": {},
     "output_type": "execute_result"
    }
   ],
   "source": [
    "x.shape"
   ]
  },
  {
   "cell_type": "code",
   "execution_count": null,
   "metadata": {},
   "outputs": [],
   "source": []
  }
 ],
 "metadata": {
  "kernelspec": {
   "display_name": "Python 3",
   "language": "python",
   "name": "python3"
  },
  "language_info": {
   "codemirror_mode": {
    "name": "ipython",
    "version": 3
   },
   "file_extension": ".py",
   "mimetype": "text/x-python",
   "name": "python",
   "nbconvert_exporter": "python",
   "pygments_lexer": "ipython3",
   "version": "3.7.4"
  }
 },
 "nbformat": 4,
 "nbformat_minor": 2
}
