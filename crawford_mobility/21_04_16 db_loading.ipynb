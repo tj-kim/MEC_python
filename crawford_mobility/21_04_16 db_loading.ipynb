{
 "cells": [
  {
   "cell_type": "markdown",
   "metadata": {},
   "source": [
    "# Crawford Mobility Database Loading\n",
    "\n",
    "TJ Kim\n",
    "Date: 4/16/21\n",
    "Updated:\n",
    "\n",
    "#### Summary:\n",
    "- Yeonsei university dataset from Crawdad.\n",
    "- Goal is to load dataset and make CSV similar to ONE mobility model."
   ]
  },
  {
   "cell_type": "code",
   "execution_count": 1,
   "metadata": {},
   "outputs": [],
   "source": [
    "import sqlite3"
   ]
  },
  {
   "cell_type": "code",
   "execution_count": 11,
   "metadata": {},
   "outputs": [
    {
     "name": "stdout",
     "output_type": "stream",
     "text": [
      "[('android_metadata',), ('locationTable',), ('sqlite_sequence',), ('apTable',), ('cellTable',), ('categoryTable',), ('categorySetTable',), ('edgeTable',), ('stayTable',), ('stayCommentTable',), ('configureTable',), ('noRadioTable',), ('batteryTable',), ('cellNodeTable',), ('cellEdgeTable',), ('sensorUsageTable',)]\n"
     ]
    }
   ],
   "source": [
    "db = \"LifeMap_GS1.db\"\n",
    "\n",
    "con = sqlite3.connect(db)\n",
    "cur = conn.cursor()\n",
    "\n",
    "# reading all table names\n",
    "table_list = [a for a in cur.execute(\"SELECT name FROM sqlite_master WHERE type = 'table'\")]\n",
    "# here is you table list\n",
    "print(table_list)\n",
    "\n",
    "# Be sure to close the connection\n",
    "con.close()"
   ]
  },
  {
   "cell_type": "code",
   "execution_count": 6,
   "metadata": {},
   "outputs": [
    {
     "data": {
      "text/plain": [
       "<sqlite3.Cursor at 0x7f04ec3d7500>"
      ]
     },
     "execution_count": 6,
     "metadata": {},
     "output_type": "execute_result"
    }
   ],
   "source": [
    "c"
   ]
  },
  {
   "cell_type": "code",
   "execution_count": null,
   "metadata": {},
   "outputs": [],
   "source": []
  }
 ],
 "metadata": {
  "kernelspec": {
   "display_name": "Python 3",
   "language": "python",
   "name": "python3"
  },
  "language_info": {
   "codemirror_mode": {
    "name": "ipython",
    "version": 3
   },
   "file_extension": ".py",
   "mimetype": "text/x-python",
   "name": "python",
   "nbconvert_exporter": "python",
   "pygments_lexer": "ipython3",
   "version": "3.8.3"
  }
 },
 "nbformat": 4,
 "nbformat_minor": 4
}
